{
 "metadata": {
  "name": ""
 },
 "nbformat": 3,
 "nbformat_minor": 0,
 "worksheets": [
  {
   "cells": [
    {
     "cell_type": "code",
     "collapsed": false,
     "input": [
      "from pathlib import Path"
     ],
     "language": "python",
     "metadata": {},
     "outputs": [],
     "prompt_number": 1
    },
    {
     "cell_type": "code",
     "collapsed": false,
     "input": [
      "import pandas as pd\n",
      "import numpy as np"
     ],
     "language": "python",
     "metadata": {},
     "outputs": [],
     "prompt_number": 2
    },
    {
     "cell_type": "code",
     "collapsed": false,
     "input": [
      "RAW_BASE = Path(\"../raw_data/\u8fb2\u59d4\u6703\")\n",
      "OUTPUT = Path(\"../parsed/\u8fb2\u59d4\u6703\")"
     ],
     "language": "python",
     "metadata": {},
     "outputs": [],
     "prompt_number": 3
    },
    {
     "cell_type": "code",
     "collapsed": false,
     "input": [
      "ALL_XLS = [p for p in RAW_BASE.iterdir() if p.suffix == '.xls']\n",
      "ALL_XLS"
     ],
     "language": "python",
     "metadata": {},
     "outputs": [
      {
       "metadata": {},
       "output_type": "pyout",
       "prompt_number": 4,
       "text": [
        "[PosixPath('../raw_data/\u8fb2\u59d4\u6703/\u8fb2\u59d4\u6703\u4e3b\u7ba1101\u5e74\u5ee3\u5ba3\u5f59\u6574.xls'),\n",
        " PosixPath('../raw_data/\u8fb2\u59d4\u6703/\u8fb2\u59d4\u6703\u4e3b\u7ba1102Q1\u5ee3\u5ba3\u5f59\u6574\u8868.xls'),\n",
        " PosixPath('../raw_data/\u8fb2\u59d4\u6703/\u8fb2\u59d4\u6703\u4e3b\u7ba1102Q2\u5ee3\u5ba3\u5f59\u6574\u8868.xls'),\n",
        " PosixPath('../raw_data/\u8fb2\u59d4\u6703/\u8fb2\u59d4\u6703\u4e3b\u7ba1102\u5e74\u7b2c3\u5b63\u5ee3\u5ba3\u5f59\u6574\u8868.xls'),\n",
        " PosixPath('../raw_data/\u8fb2\u59d4\u6703/\u8fb2\u59d4\u6703\u4e3b\u7ba1102\u5e74\u7b2c4\u5b63\u5ee3\u5ba3\u5f59\u6574\u8868.xls')]"
       ]
      }
     ],
     "prompt_number": 4
    },
    {
     "cell_type": "code",
     "collapsed": false,
     "input": [
      "xls = ALL_XLS[0]\n",
      "xls"
     ],
     "language": "python",
     "metadata": {},
     "outputs": [
      {
       "metadata": {},
       "output_type": "pyout",
       "prompt_number": 5,
       "text": [
        "PosixPath('../raw_data/\u8fb2\u59d4\u6703/\u8fb2\u59d4\u6703\u4e3b\u7ba1101\u5e74\u5ee3\u5ba3\u5f59\u6574.xls')"
       ]
      }
     ],
     "prompt_number": 5
    },
    {
     "cell_type": "code",
     "collapsed": false,
     "input": [
      "df = pd.read_excel(str(xls), 0, skiprows=3)\n",
      "df.tail()"
     ],
     "language": "python",
     "metadata": {},
     "outputs": [
      {
       "html": [
        "<div style=\"max-height:1000px;max-width:1500px;overflow:auto;\">\n",
        "<table border=\"1\" class=\"dataframe\">\n",
        "  <thead>\n",
        "    <tr style=\"text-align: right;\">\n",
        "      <th></th>\n",
        "      <th>\u5e8f\u865f</th>\n",
        "      <th>\u5ba3\u5c0e\u8a08\u756b/\u4e3b\u984c</th>\n",
        "      <th>\u5a92\u9ad4\u985e\u578b\n",
        "(\u520a\u64ad\u7248\u4f4d/\u983b\u9053)</th>\n",
        "      <th>\u5ba3\u5c0e\u671f\u7a0b</th>\n",
        "      <th>\u91d1\u984d(\u5143)</th>\n",
        "      <th>\u57f7\u884c\n",
        "\u55ae\u4f4d</th>\n",
        "      <th>\u5099\u8a3b</th>\n",
        "    </tr>\n",
        "  </thead>\n",
        "  <tbody>\n",
        "    <tr>\n",
        "      <th>227</th>\n",
        "      <td> NaN</td>\n",
        "      <td>                     \u8fb2\u4fe1\u4fdd\u662f\u8fb2\u6f01\u6c11\u7684\u597d\u670b\u53cb</td>\n",
        "      <td> \u5ee3\u64ad\u5a92\u9ad430\u79d2\u5ee3\u544a\\n(\u4e2d\u5ee3\u3001\u6bcf\u65e5\u3001\u5efa\u570b\u3001\u795e\u8fb2\u3001\u6c11\u7acb\u7b49\u96fb\u53f0)</td>\n",
        "      <td> 5\u6708-10\u6708</td>\n",
        "      <td> 447000</td>\n",
        "      <td>  NaN</td>\n",
        "      <td>NaN</td>\n",
        "    </tr>\n",
        "    <tr>\n",
        "      <th>228</th>\n",
        "      <td> 148</td>\n",
        "      <td>  \u50b3\u7d71\u83c7\u820d\u8f49\u578b\u5347\u7d1a-\u8fb2\u4fe1\u4fdd\u4fdd\u8b49\u6236\u8548\u512a\u751f\u7269\u79d1\u6280\u8fb2\u5834\u7684\u300c\u83c7\u8548\u4e16\u754c\u300d</td>\n",
        "      <td>                   \u5e73\u9762\u5a92\u9ad4\\n(\u8fb2\u8a13\u96dc\u8a8c)</td>\n",
        "      <td> 6\u67081\u65e5\u51fa\u520a</td>\n",
        "      <td>  30000</td>\n",
        "      <td>  NaN</td>\n",
        "      <td>NaN</td>\n",
        "    </tr>\n",
        "    <tr>\n",
        "      <th>229</th>\n",
        "      <td> 149</td>\n",
        "      <td>        \u50b3\u7d71\u8c6c\u820d\u8f49\u578b\u5347\u7d1a-\u8fb2\u4fe1\u4fdd\u4fdd\u8b49\u6236\u9ec3\u6b63\u7965\u7684\u300c\u9ed1\u73cd\u8c6c\u300d</td>\n",
        "      <td>                   \u5e73\u9762\u5a92\u9ad4\\n(\u8fb2\u8a13\u96dc\u8a8c)</td>\n",
        "      <td> 7\u67081\u65e5\u51fa\u520a</td>\n",
        "      <td>  30000</td>\n",
        "      <td>  NaN</td>\n",
        "      <td>NaN</td>\n",
        "    </tr>\n",
        "    <tr>\n",
        "      <th>230</th>\n",
        "      <td> NaN</td>\n",
        "      <td> \u50b3\u7d71\u8fb2\u6751\u5a66\u5973\u7684\u86fb\u8b8a- \\n\u5973\u795e\u8fb2\u5f6d\u9e97\u8c9e\u5e36\u52d5\u8591\u9ebb\u5712\u4f11\u9592\u8fb2\u696d\u5340\u767c\u5c55</td>\n",
        "      <td>                   \u5e73\u9762\u5a92\u9ad4\\n(\u8fb2\u8a13\u96dc\u8a8c)</td>\n",
        "      <td> 8\u67081\u65e5\u51fa\u520a</td>\n",
        "      <td>  30000</td>\n",
        "      <td>  NaN</td>\n",
        "      <td>NaN</td>\n",
        "    </tr>\n",
        "    <tr>\n",
        "      <th>231</th>\n",
        "      <td> 150</td>\n",
        "      <td>               \u7279\u751f\u4e2d\u5fc3\u3010\u751f\u7269\u5c0f\u767e\u79d1\u3011\u751f\u614b\u8cc7\u8a0a\u5ba3\u5c0e</td>\n",
        "      <td>                 \u5ee3\u64ad\uff08\u53e4\u5178\u97f3\u6a02\u53f030\u79d2\u5ee3\u544a\uff09</td>\n",
        "      <td>  5\u6708-6\u6708</td>\n",
        "      <td>  98000</td>\n",
        "      <td> \u7279\u751f\u4e2d\u5fc3</td>\n",
        "      <td>NaN</td>\n",
        "    </tr>\n",
        "  </tbody>\n",
        "</table>\n",
        "<p>5 rows \u00d7 7 columns</p>\n",
        "</div>"
       ],
       "metadata": {},
       "output_type": "pyout",
       "prompt_number": 6,
       "text": [
        "      \u5e8f\u865f                          \u5ba3\u5c0e\u8a08\u756b/\u4e3b\u984c                 \u5a92\u9ad4\u985e\u578b\\n(\u520a\u64ad\u7248\u4f4d/\u983b\u9053)  \\\n",
        "227  NaN                      \u8fb2\u4fe1\u4fdd\u662f\u8fb2\u6f01\u6c11\u7684\u597d\u670b\u53cb  \u5ee3\u64ad\u5a92\u9ad430\u79d2\u5ee3\u544a\\n(\u4e2d\u5ee3\u3001\u6bcf\u65e5\u3001\u5efa\u570b\u3001\u795e\u8fb2\u3001\u6c11\u7acb\u7b49\u96fb\u53f0)   \n",
        "228  148   \u50b3\u7d71\u83c7\u820d\u8f49\u578b\u5347\u7d1a-\u8fb2\u4fe1\u4fdd\u4fdd\u8b49\u6236\u8548\u512a\u751f\u7269\u79d1\u6280\u8fb2\u5834\u7684\u300c\u83c7\u8548\u4e16\u754c\u300d                    \u5e73\u9762\u5a92\u9ad4\\n(\u8fb2\u8a13\u96dc\u8a8c)   \n",
        "229  149         \u50b3\u7d71\u8c6c\u820d\u8f49\u578b\u5347\u7d1a-\u8fb2\u4fe1\u4fdd\u4fdd\u8b49\u6236\u9ec3\u6b63\u7965\u7684\u300c\u9ed1\u73cd\u8c6c\u300d                    \u5e73\u9762\u5a92\u9ad4\\n(\u8fb2\u8a13\u96dc\u8a8c)   \n",
        "230  NaN  \u50b3\u7d71\u8fb2\u6751\u5a66\u5973\u7684\u86fb\u8b8a- \\n\u5973\u795e\u8fb2\u5f6d\u9e97\u8c9e\u5e36\u52d5\u8591\u9ebb\u5712\u4f11\u9592\u8fb2\u696d\u5340\u767c\u5c55                    \u5e73\u9762\u5a92\u9ad4\\n(\u8fb2\u8a13\u96dc\u8a8c)   \n",
        "231  150                \u7279\u751f\u4e2d\u5fc3\u3010\u751f\u7269\u5c0f\u767e\u79d1\u3011\u751f\u614b\u8cc7\u8a0a\u5ba3\u5c0e                  \u5ee3\u64ad\uff08\u53e4\u5178\u97f3\u6a02\u53f030\u79d2\u5ee3\u544a\uff09   \n",
        "\n",
        "       \u5ba3\u5c0e\u671f\u7a0b   \u91d1\u984d(\u5143) \u57f7\u884c\\n\u55ae\u4f4d  \u5099\u8a3b  \n",
        "227  5\u6708-10\u6708  447000    NaN NaN  \n",
        "228  6\u67081\u65e5\u51fa\u520a   30000    NaN NaN  \n",
        "229  7\u67081\u65e5\u51fa\u520a   30000    NaN NaN  \n",
        "230  8\u67081\u65e5\u51fa\u520a   30000    NaN NaN  \n",
        "231   5\u6708-6\u6708   98000   \u7279\u751f\u4e2d\u5fc3 NaN  \n",
        "\n",
        "[5 rows x 7 columns]"
       ]
      }
     ],
     "prompt_number": 6
    },
    {
     "cell_type": "code",
     "collapsed": false,
     "input": [
      "df.columns"
     ],
     "language": "python",
     "metadata": {},
     "outputs": [
      {
       "metadata": {},
       "output_type": "pyout",
       "prompt_number": 7,
       "text": [
        "Index(['\u5e8f\u865f', '\u5ba3\u5c0e\u8a08\u756b/\u4e3b\u984c', '\u5a92\u9ad4\u985e\u578b\\n(\u520a\u64ad\u7248\u4f4d/\u983b\u9053)', '\u5ba3\u5c0e\u671f\u7a0b', '\u91d1\u984d(\u5143)', '\u57f7\u884c\\n\u55ae\u4f4d', '\u5099\u8a3b'], dtype='object')"
       ]
      }
     ],
     "prompt_number": 7
    },
    {
     "cell_type": "code",
     "collapsed": false,
     "input": [
      "df[~pd.isnull(df[\"\u5099\u8a3b\"])]"
     ],
     "language": "python",
     "metadata": {},
     "outputs": [
      {
       "html": [
        "<div style=\"max-height:1000px;max-width:1500px;overflow:auto;\">\n",
        "<table border=\"1\" class=\"dataframe\">\n",
        "  <tbody>\n",
        "    <tr>\n",
        "      <td>Int64Index([], dtype='int64')</td>\n",
        "      <td>Empty DataFrame</td>\n",
        "    </tr>\n",
        "  </tbody>\n",
        "</table>\n",
        "<p>0 rows \u00d7 7 columns</p>\n",
        "</div>"
       ],
       "metadata": {},
       "output_type": "pyout",
       "prompt_number": 8,
       "text": [
        "Empty DataFrame\n",
        "Columns: [\u5e8f\u865f, \u5ba3\u5c0e\u8a08\u756b/\u4e3b\u984c, \u5a92\u9ad4\u985e\u578b\n",
        "(\u520a\u64ad\u7248\u4f4d/\u983b\u9053), \u5ba3\u5c0e\u671f\u7a0b, \u91d1\u984d(\u5143), \u57f7\u884c\n",
        "\u55ae\u4f4d, \u5099\u8a3b]\n",
        "Index: []\n",
        "\n",
        "[0 rows x 7 columns]"
       ]
      }
     ],
     "prompt_number": 8
    },
    {
     "cell_type": "code",
     "collapsed": false,
     "input": [
      "# \u780d\u5e8f\u865f\n",
      "df = df.iloc[:, 1:]"
     ],
     "language": "python",
     "metadata": {},
     "outputs": [],
     "prompt_number": 9
    },
    {
     "cell_type": "code",
     "collapsed": false,
     "input": [
      "df.tail()"
     ],
     "language": "python",
     "metadata": {},
     "outputs": [
      {
       "html": [
        "<div style=\"max-height:1000px;max-width:1500px;overflow:auto;\">\n",
        "<table border=\"1\" class=\"dataframe\">\n",
        "  <thead>\n",
        "    <tr style=\"text-align: right;\">\n",
        "      <th></th>\n",
        "      <th>\u5ba3\u5c0e\u8a08\u756b/\u4e3b\u984c</th>\n",
        "      <th>\u5a92\u9ad4\u985e\u578b\n",
        "(\u520a\u64ad\u7248\u4f4d/\u983b\u9053)</th>\n",
        "      <th>\u5ba3\u5c0e\u671f\u7a0b</th>\n",
        "      <th>\u91d1\u984d(\u5143)</th>\n",
        "      <th>\u57f7\u884c\n",
        "\u55ae\u4f4d</th>\n",
        "      <th>\u5099\u8a3b</th>\n",
        "    </tr>\n",
        "  </thead>\n",
        "  <tbody>\n",
        "    <tr>\n",
        "      <th>227</th>\n",
        "      <td>                     \u8fb2\u4fe1\u4fdd\u662f\u8fb2\u6f01\u6c11\u7684\u597d\u670b\u53cb</td>\n",
        "      <td> \u5ee3\u64ad\u5a92\u9ad430\u79d2\u5ee3\u544a\\n(\u4e2d\u5ee3\u3001\u6bcf\u65e5\u3001\u5efa\u570b\u3001\u795e\u8fb2\u3001\u6c11\u7acb\u7b49\u96fb\u53f0)</td>\n",
        "      <td> 5\u6708-10\u6708</td>\n",
        "      <td> 447000</td>\n",
        "      <td>  NaN</td>\n",
        "      <td>NaN</td>\n",
        "    </tr>\n",
        "    <tr>\n",
        "      <th>228</th>\n",
        "      <td>  \u50b3\u7d71\u83c7\u820d\u8f49\u578b\u5347\u7d1a-\u8fb2\u4fe1\u4fdd\u4fdd\u8b49\u6236\u8548\u512a\u751f\u7269\u79d1\u6280\u8fb2\u5834\u7684\u300c\u83c7\u8548\u4e16\u754c\u300d</td>\n",
        "      <td>                   \u5e73\u9762\u5a92\u9ad4\\n(\u8fb2\u8a13\u96dc\u8a8c)</td>\n",
        "      <td> 6\u67081\u65e5\u51fa\u520a</td>\n",
        "      <td>  30000</td>\n",
        "      <td>  NaN</td>\n",
        "      <td>NaN</td>\n",
        "    </tr>\n",
        "    <tr>\n",
        "      <th>229</th>\n",
        "      <td>        \u50b3\u7d71\u8c6c\u820d\u8f49\u578b\u5347\u7d1a-\u8fb2\u4fe1\u4fdd\u4fdd\u8b49\u6236\u9ec3\u6b63\u7965\u7684\u300c\u9ed1\u73cd\u8c6c\u300d</td>\n",
        "      <td>                   \u5e73\u9762\u5a92\u9ad4\\n(\u8fb2\u8a13\u96dc\u8a8c)</td>\n",
        "      <td> 7\u67081\u65e5\u51fa\u520a</td>\n",
        "      <td>  30000</td>\n",
        "      <td>  NaN</td>\n",
        "      <td>NaN</td>\n",
        "    </tr>\n",
        "    <tr>\n",
        "      <th>230</th>\n",
        "      <td> \u50b3\u7d71\u8fb2\u6751\u5a66\u5973\u7684\u86fb\u8b8a- \\n\u5973\u795e\u8fb2\u5f6d\u9e97\u8c9e\u5e36\u52d5\u8591\u9ebb\u5712\u4f11\u9592\u8fb2\u696d\u5340\u767c\u5c55</td>\n",
        "      <td>                   \u5e73\u9762\u5a92\u9ad4\\n(\u8fb2\u8a13\u96dc\u8a8c)</td>\n",
        "      <td> 8\u67081\u65e5\u51fa\u520a</td>\n",
        "      <td>  30000</td>\n",
        "      <td>  NaN</td>\n",
        "      <td>NaN</td>\n",
        "    </tr>\n",
        "    <tr>\n",
        "      <th>231</th>\n",
        "      <td>               \u7279\u751f\u4e2d\u5fc3\u3010\u751f\u7269\u5c0f\u767e\u79d1\u3011\u751f\u614b\u8cc7\u8a0a\u5ba3\u5c0e</td>\n",
        "      <td>                 \u5ee3\u64ad\uff08\u53e4\u5178\u97f3\u6a02\u53f030\u79d2\u5ee3\u544a\uff09</td>\n",
        "      <td>  5\u6708-6\u6708</td>\n",
        "      <td>  98000</td>\n",
        "      <td> \u7279\u751f\u4e2d\u5fc3</td>\n",
        "      <td>NaN</td>\n",
        "    </tr>\n",
        "  </tbody>\n",
        "</table>\n",
        "<p>5 rows \u00d7 6 columns</p>\n",
        "</div>"
       ],
       "metadata": {},
       "output_type": "pyout",
       "prompt_number": 10,
       "text": [
        "                             \u5ba3\u5c0e\u8a08\u756b/\u4e3b\u984c                 \u5a92\u9ad4\u985e\u578b\\n(\u520a\u64ad\u7248\u4f4d/\u983b\u9053)    \u5ba3\u5c0e\u671f\u7a0b  \\\n",
        "227                      \u8fb2\u4fe1\u4fdd\u662f\u8fb2\u6f01\u6c11\u7684\u597d\u670b\u53cb  \u5ee3\u64ad\u5a92\u9ad430\u79d2\u5ee3\u544a\\n(\u4e2d\u5ee3\u3001\u6bcf\u65e5\u3001\u5efa\u570b\u3001\u795e\u8fb2\u3001\u6c11\u7acb\u7b49\u96fb\u53f0)  5\u6708-10\u6708   \n",
        "228   \u50b3\u7d71\u83c7\u820d\u8f49\u578b\u5347\u7d1a-\u8fb2\u4fe1\u4fdd\u4fdd\u8b49\u6236\u8548\u512a\u751f\u7269\u79d1\u6280\u8fb2\u5834\u7684\u300c\u83c7\u8548\u4e16\u754c\u300d                    \u5e73\u9762\u5a92\u9ad4\\n(\u8fb2\u8a13\u96dc\u8a8c)  6\u67081\u65e5\u51fa\u520a   \n",
        "229         \u50b3\u7d71\u8c6c\u820d\u8f49\u578b\u5347\u7d1a-\u8fb2\u4fe1\u4fdd\u4fdd\u8b49\u6236\u9ec3\u6b63\u7965\u7684\u300c\u9ed1\u73cd\u8c6c\u300d                    \u5e73\u9762\u5a92\u9ad4\\n(\u8fb2\u8a13\u96dc\u8a8c)  7\u67081\u65e5\u51fa\u520a   \n",
        "230  \u50b3\u7d71\u8fb2\u6751\u5a66\u5973\u7684\u86fb\u8b8a- \\n\u5973\u795e\u8fb2\u5f6d\u9e97\u8c9e\u5e36\u52d5\u8591\u9ebb\u5712\u4f11\u9592\u8fb2\u696d\u5340\u767c\u5c55                    \u5e73\u9762\u5a92\u9ad4\\n(\u8fb2\u8a13\u96dc\u8a8c)  8\u67081\u65e5\u51fa\u520a   \n",
        "231                \u7279\u751f\u4e2d\u5fc3\u3010\u751f\u7269\u5c0f\u767e\u79d1\u3011\u751f\u614b\u8cc7\u8a0a\u5ba3\u5c0e                  \u5ee3\u64ad\uff08\u53e4\u5178\u97f3\u6a02\u53f030\u79d2\u5ee3\u544a\uff09   5\u6708-6\u6708   \n",
        "\n",
        "      \u91d1\u984d(\u5143) \u57f7\u884c\\n\u55ae\u4f4d  \u5099\u8a3b  \n",
        "227  447000    NaN NaN  \n",
        "228   30000    NaN NaN  \n",
        "229   30000    NaN NaN  \n",
        "230   30000    NaN NaN  \n",
        "231   98000   \u7279\u751f\u4e2d\u5fc3 NaN  \n",
        "\n",
        "[5 rows x 6 columns]"
       ]
      }
     ],
     "prompt_number": 10
    },
    {
     "cell_type": "code",
     "collapsed": false,
     "input": [
      "df = df.dropna(how='all')"
     ],
     "language": "python",
     "metadata": {},
     "outputs": [],
     "prompt_number": 11
    },
    {
     "cell_type": "code",
     "collapsed": false,
     "input": [
      "df.columns = ['\u4e3b\u984c', '\u5a92\u9ad4', '\u6642\u9593', '\u91d1\u984d', '\u57f7\u884c\u55ae\u4f4d', '\u5099\u8a3b']\n",
      "df['\u884c\u653f\u90e8\u6703'] = '\u8fb2\u59d4\u6703'\n",
      "df = df[['\u4e3b\u984c', '\u5a92\u9ad4', '\u6642\u9593', '\u91d1\u984d', '\u57f7\u884c\u55ae\u4f4d', '\u884c\u653f\u90e8\u6703', '\u5099\u8a3b']]"
     ],
     "language": "python",
     "metadata": {},
     "outputs": [],
     "prompt_number": 12
    },
    {
     "cell_type": "code",
     "collapsed": false,
     "input": [
      "# \u5217\u51fa\u91d1\u984d\u70ba 0 \u7684\u9805\u76ee\n",
      "price = df[\"\u91d1\u984d\"]\n",
      "df.ix[pd.isnull(price), 3] = 0"
     ],
     "language": "python",
     "metadata": {},
     "outputs": [],
     "prompt_number": 13
    },
    {
     "cell_type": "code",
     "collapsed": false,
     "input": [
      "df = df.ffill()"
     ],
     "language": "python",
     "metadata": {},
     "outputs": [],
     "prompt_number": 14
    },
    {
     "cell_type": "code",
     "collapsed": false,
     "input": [
      "df.tail()"
     ],
     "language": "python",
     "metadata": {},
     "outputs": [
      {
       "html": [
        "<div style=\"max-height:1000px;max-width:1500px;overflow:auto;\">\n",
        "<table border=\"1\" class=\"dataframe\">\n",
        "  <thead>\n",
        "    <tr style=\"text-align: right;\">\n",
        "      <th></th>\n",
        "      <th>\u4e3b\u984c</th>\n",
        "      <th>\u5a92\u9ad4</th>\n",
        "      <th>\u6642\u9593</th>\n",
        "      <th>\u91d1\u984d</th>\n",
        "      <th>\u57f7\u884c\u55ae\u4f4d</th>\n",
        "      <th>\u884c\u653f\u90e8\u6703</th>\n",
        "      <th>\u5099\u8a3b</th>\n",
        "    </tr>\n",
        "  </thead>\n",
        "  <tbody>\n",
        "    <tr>\n",
        "      <th>227</th>\n",
        "      <td>                     \u8fb2\u4fe1\u4fdd\u662f\u8fb2\u6f01\u6c11\u7684\u597d\u670b\u53cb</td>\n",
        "      <td> \u5ee3\u64ad\u5a92\u9ad430\u79d2\u5ee3\u544a\\n(\u4e2d\u5ee3\u3001\u6bcf\u65e5\u3001\u5efa\u570b\u3001\u795e\u8fb2\u3001\u6c11\u7acb\u7b49\u96fb\u53f0)</td>\n",
        "      <td> 5\u6708-10\u6708</td>\n",
        "      <td> 447000</td>\n",
        "      <td> \u8ca1\u5718\u6cd5\u4eba\u8fb2\u696d\u4fe1\u7528\u4fdd\u8b49\u57fa\u91d1</td>\n",
        "      <td> \u8fb2\u59d4\u6703</td>\n",
        "      <td>NaN</td>\n",
        "    </tr>\n",
        "    <tr>\n",
        "      <th>228</th>\n",
        "      <td>  \u50b3\u7d71\u83c7\u820d\u8f49\u578b\u5347\u7d1a-\u8fb2\u4fe1\u4fdd\u4fdd\u8b49\u6236\u8548\u512a\u751f\u7269\u79d1\u6280\u8fb2\u5834\u7684\u300c\u83c7\u8548\u4e16\u754c\u300d</td>\n",
        "      <td>                   \u5e73\u9762\u5a92\u9ad4\\n(\u8fb2\u8a13\u96dc\u8a8c)</td>\n",
        "      <td> 6\u67081\u65e5\u51fa\u520a</td>\n",
        "      <td>  30000</td>\n",
        "      <td> \u8ca1\u5718\u6cd5\u4eba\u8fb2\u696d\u4fe1\u7528\u4fdd\u8b49\u57fa\u91d1</td>\n",
        "      <td> \u8fb2\u59d4\u6703</td>\n",
        "      <td>NaN</td>\n",
        "    </tr>\n",
        "    <tr>\n",
        "      <th>229</th>\n",
        "      <td>        \u50b3\u7d71\u8c6c\u820d\u8f49\u578b\u5347\u7d1a-\u8fb2\u4fe1\u4fdd\u4fdd\u8b49\u6236\u9ec3\u6b63\u7965\u7684\u300c\u9ed1\u73cd\u8c6c\u300d</td>\n",
        "      <td>                   \u5e73\u9762\u5a92\u9ad4\\n(\u8fb2\u8a13\u96dc\u8a8c)</td>\n",
        "      <td> 7\u67081\u65e5\u51fa\u520a</td>\n",
        "      <td>  30000</td>\n",
        "      <td> \u8ca1\u5718\u6cd5\u4eba\u8fb2\u696d\u4fe1\u7528\u4fdd\u8b49\u57fa\u91d1</td>\n",
        "      <td> \u8fb2\u59d4\u6703</td>\n",
        "      <td>NaN</td>\n",
        "    </tr>\n",
        "    <tr>\n",
        "      <th>230</th>\n",
        "      <td> \u50b3\u7d71\u8fb2\u6751\u5a66\u5973\u7684\u86fb\u8b8a- \\n\u5973\u795e\u8fb2\u5f6d\u9e97\u8c9e\u5e36\u52d5\u8591\u9ebb\u5712\u4f11\u9592\u8fb2\u696d\u5340\u767c\u5c55</td>\n",
        "      <td>                   \u5e73\u9762\u5a92\u9ad4\\n(\u8fb2\u8a13\u96dc\u8a8c)</td>\n",
        "      <td> 8\u67081\u65e5\u51fa\u520a</td>\n",
        "      <td>  30000</td>\n",
        "      <td> \u8ca1\u5718\u6cd5\u4eba\u8fb2\u696d\u4fe1\u7528\u4fdd\u8b49\u57fa\u91d1</td>\n",
        "      <td> \u8fb2\u59d4\u6703</td>\n",
        "      <td>NaN</td>\n",
        "    </tr>\n",
        "    <tr>\n",
        "      <th>231</th>\n",
        "      <td>               \u7279\u751f\u4e2d\u5fc3\u3010\u751f\u7269\u5c0f\u767e\u79d1\u3011\u751f\u614b\u8cc7\u8a0a\u5ba3\u5c0e</td>\n",
        "      <td>                 \u5ee3\u64ad\uff08\u53e4\u5178\u97f3\u6a02\u53f030\u79d2\u5ee3\u544a\uff09</td>\n",
        "      <td>  5\u6708-6\u6708</td>\n",
        "      <td>  98000</td>\n",
        "      <td>         \u7279\u751f\u4e2d\u5fc3</td>\n",
        "      <td> \u8fb2\u59d4\u6703</td>\n",
        "      <td>NaN</td>\n",
        "    </tr>\n",
        "  </tbody>\n",
        "</table>\n",
        "<p>5 rows \u00d7 7 columns</p>\n",
        "</div>"
       ],
       "metadata": {},
       "output_type": "pyout",
       "prompt_number": 15,
       "text": [
        "                                  \u4e3b\u984c                              \u5a92\u9ad4      \u6642\u9593  \\\n",
        "227                      \u8fb2\u4fe1\u4fdd\u662f\u8fb2\u6f01\u6c11\u7684\u597d\u670b\u53cb  \u5ee3\u64ad\u5a92\u9ad430\u79d2\u5ee3\u544a\\n(\u4e2d\u5ee3\u3001\u6bcf\u65e5\u3001\u5efa\u570b\u3001\u795e\u8fb2\u3001\u6c11\u7acb\u7b49\u96fb\u53f0)  5\u6708-10\u6708   \n",
        "228   \u50b3\u7d71\u83c7\u820d\u8f49\u578b\u5347\u7d1a-\u8fb2\u4fe1\u4fdd\u4fdd\u8b49\u6236\u8548\u512a\u751f\u7269\u79d1\u6280\u8fb2\u5834\u7684\u300c\u83c7\u8548\u4e16\u754c\u300d                    \u5e73\u9762\u5a92\u9ad4\\n(\u8fb2\u8a13\u96dc\u8a8c)  6\u67081\u65e5\u51fa\u520a   \n",
        "229         \u50b3\u7d71\u8c6c\u820d\u8f49\u578b\u5347\u7d1a-\u8fb2\u4fe1\u4fdd\u4fdd\u8b49\u6236\u9ec3\u6b63\u7965\u7684\u300c\u9ed1\u73cd\u8c6c\u300d                    \u5e73\u9762\u5a92\u9ad4\\n(\u8fb2\u8a13\u96dc\u8a8c)  7\u67081\u65e5\u51fa\u520a   \n",
        "230  \u50b3\u7d71\u8fb2\u6751\u5a66\u5973\u7684\u86fb\u8b8a- \\n\u5973\u795e\u8fb2\u5f6d\u9e97\u8c9e\u5e36\u52d5\u8591\u9ebb\u5712\u4f11\u9592\u8fb2\u696d\u5340\u767c\u5c55                    \u5e73\u9762\u5a92\u9ad4\\n(\u8fb2\u8a13\u96dc\u8a8c)  8\u67081\u65e5\u51fa\u520a   \n",
        "231                \u7279\u751f\u4e2d\u5fc3\u3010\u751f\u7269\u5c0f\u767e\u79d1\u3011\u751f\u614b\u8cc7\u8a0a\u5ba3\u5c0e                  \u5ee3\u64ad\uff08\u53e4\u5178\u97f3\u6a02\u53f030\u79d2\u5ee3\u544a\uff09   5\u6708-6\u6708   \n",
        "\n",
        "         \u91d1\u984d          \u57f7\u884c\u55ae\u4f4d \u884c\u653f\u90e8\u6703  \u5099\u8a3b  \n",
        "227  447000  \u8ca1\u5718\u6cd5\u4eba\u8fb2\u696d\u4fe1\u7528\u4fdd\u8b49\u57fa\u91d1  \u8fb2\u59d4\u6703 NaN  \n",
        "228   30000  \u8ca1\u5718\u6cd5\u4eba\u8fb2\u696d\u4fe1\u7528\u4fdd\u8b49\u57fa\u91d1  \u8fb2\u59d4\u6703 NaN  \n",
        "229   30000  \u8ca1\u5718\u6cd5\u4eba\u8fb2\u696d\u4fe1\u7528\u4fdd\u8b49\u57fa\u91d1  \u8fb2\u59d4\u6703 NaN  \n",
        "230   30000  \u8ca1\u5718\u6cd5\u4eba\u8fb2\u696d\u4fe1\u7528\u4fdd\u8b49\u57fa\u91d1  \u8fb2\u59d4\u6703 NaN  \n",
        "231   98000          \u7279\u751f\u4e2d\u5fc3  \u8fb2\u59d4\u6703 NaN  \n",
        "\n",
        "[5 rows x 7 columns]"
       ]
      }
     ],
     "prompt_number": 15
    },
    {
     "cell_type": "code",
     "collapsed": false,
     "input": [
      "PARSED_STEM = str(xls.parent/(xls.stem))\n",
      "df.to_csv(PARSED_STEM + '.csv', index=False)\n",
      "df.to_excel(PARSED_STEM + '.xlsx', index=False)"
     ],
     "language": "python",
     "metadata": {},
     "outputs": [],
     "prompt_number": 16
    },
    {
     "cell_type": "code",
     "collapsed": false,
     "input": [
      "def parse_xls(xls):\n",
      "    print('read {}'.format(xls))\n",
      "    df = pd.read_excel(str(xls), 0, skiprows=3, parse_dates=False)\n",
      "    # \u780d\u5e8f\u865f\n",
      "    df = df.iloc[:, 1:]\n",
      "    df = df.dropna(how='all')\n",
      "    df.columns = ['\u4e3b\u984c', '\u5a92\u9ad4', '\u6642\u9593', '\u91d1\u984d', '\u57f7\u884c\u55ae\u4f4d', '\u5099\u8a3b']\n",
      "    df['\u884c\u653f\u90e8\u6703'] = '\u8fb2\u59d4\u6703'\n",
      "    df = df[['\u4e3b\u984c', '\u5a92\u9ad4', '\u6642\u9593', '\u91d1\u984d', '\u57f7\u884c\u55ae\u4f4d', '\u884c\u653f\u90e8\u6703', '\u5099\u8a3b']]\n",
      "    # \u5217\u51fa\u91d1\u984d\u70ba 0 \u7684\u9805\u76ee\n",
      "    df.ix[pd.isnull(df[\"\u91d1\u984d\"]), 3] = 0\n",
      "    df = df.ffill()\n",
      "    PARSED_STEM = str(OUTPUT / xls.stem)\n",
      "    print('write with stem {}'.format(PARSED_STEM))\n",
      "    df.to_csv(PARSED_STEM + '.csv', index=False)\n",
      "    df.to_excel(PARSED_STEM + '.xlsx', index=False)"
     ],
     "language": "python",
     "metadata": {},
     "outputs": [],
     "prompt_number": 17
    },
    {
     "cell_type": "code",
     "collapsed": false,
     "input": [
      "parse_xls(xls)"
     ],
     "language": "python",
     "metadata": {},
     "outputs": [
      {
       "output_type": "stream",
       "stream": "stdout",
       "text": [
        "read ../raw_data/\u8fb2\u59d4\u6703/\u8fb2\u59d4\u6703\u4e3b\u7ba1101\u5e74\u5ee3\u5ba3\u5f59\u6574.xls\n",
        "write with stem ../parsed/\u8fb2\u59d4\u6703/\u8fb2\u59d4\u6703\u4e3b\u7ba1101\u5e74\u5ee3\u5ba3\u5f59\u6574"
       ]
      },
      {
       "output_type": "stream",
       "stream": "stdout",
       "text": [
        "\n"
       ]
      }
     ],
     "prompt_number": 18
    },
    {
     "cell_type": "code",
     "collapsed": false,
     "input": [
      "for xls in ALL_XLS[:]:\n",
      "    parse_xls(xls)"
     ],
     "language": "python",
     "metadata": {},
     "outputs": [
      {
       "output_type": "stream",
       "stream": "stdout",
       "text": [
        "read ../raw_data/\u8fb2\u59d4\u6703/\u8fb2\u59d4\u6703\u4e3b\u7ba1101\u5e74\u5ee3\u5ba3\u5f59\u6574.xls\n",
        "write with stem ../parsed/\u8fb2\u59d4\u6703/\u8fb2\u59d4\u6703\u4e3b\u7ba1101\u5e74\u5ee3\u5ba3\u5f59\u6574"
       ]
      },
      {
       "output_type": "stream",
       "stream": "stdout",
       "text": [
        "\n",
        "read ../raw_data/\u8fb2\u59d4\u6703/\u8fb2\u59d4\u6703\u4e3b\u7ba1102Q1\u5ee3\u5ba3\u5f59\u6574\u8868.xls"
       ]
      },
      {
       "output_type": "stream",
       "stream": "stdout",
       "text": [
        "\n",
        "write with stem ../parsed/\u8fb2\u59d4\u6703/\u8fb2\u59d4\u6703\u4e3b\u7ba1102Q1\u5ee3\u5ba3\u5f59\u6574\u8868"
       ]
      },
      {
       "output_type": "stream",
       "stream": "stdout",
       "text": [
        "\n",
        "read ../raw_data/\u8fb2\u59d4\u6703/\u8fb2\u59d4\u6703\u4e3b\u7ba1102Q2\u5ee3\u5ba3\u5f59\u6574\u8868.xls"
       ]
      },
      {
       "output_type": "stream",
       "stream": "stdout",
       "text": [
        "\n",
        "write with stem ../parsed/\u8fb2\u59d4\u6703/\u8fb2\u59d4\u6703\u4e3b\u7ba1102Q2\u5ee3\u5ba3\u5f59\u6574\u8868"
       ]
      },
      {
       "output_type": "stream",
       "stream": "stdout",
       "text": [
        "\n",
        "read ../raw_data/\u8fb2\u59d4\u6703/\u8fb2\u59d4\u6703\u4e3b\u7ba1102\u5e74\u7b2c3\u5b63\u5ee3\u5ba3\u5f59\u6574\u8868.xls"
       ]
      },
      {
       "output_type": "stream",
       "stream": "stdout",
       "text": [
        "\n",
        "write with stem ../parsed/\u8fb2\u59d4\u6703/\u8fb2\u59d4\u6703\u4e3b\u7ba1102\u5e74\u7b2c3\u5b63\u5ee3\u5ba3\u5f59\u6574\u8868"
       ]
      },
      {
       "output_type": "stream",
       "stream": "stdout",
       "text": [
        "\n",
        "read ../raw_data/\u8fb2\u59d4\u6703/\u8fb2\u59d4\u6703\u4e3b\u7ba1102\u5e74\u7b2c4\u5b63\u5ee3\u5ba3\u5f59\u6574\u8868.xls"
       ]
      },
      {
       "output_type": "stream",
       "stream": "stdout",
       "text": [
        "\n",
        "write with stem ../parsed/\u8fb2\u59d4\u6703/\u8fb2\u59d4\u6703\u4e3b\u7ba1102\u5e74\u7b2c4\u5b63\u5ee3\u5ba3\u5f59\u6574\u8868"
       ]
      },
      {
       "output_type": "stream",
       "stream": "stdout",
       "text": [
        "\n"
       ]
      }
     ],
     "prompt_number": 19
    },
    {
     "cell_type": "code",
     "collapsed": false,
     "input": [],
     "language": "python",
     "metadata": {},
     "outputs": [],
     "prompt_number": 19
    }
   ],
   "metadata": {}
  }
 ]
}