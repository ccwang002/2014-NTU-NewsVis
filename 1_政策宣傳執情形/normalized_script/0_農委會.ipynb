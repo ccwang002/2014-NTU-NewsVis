{
 "metadata": {
  "name": ""
 },
 "nbformat": 3,
 "nbformat_minor": 0,
 "worksheets": [
  {
   "cells": [
    {
     "cell_type": "code",
     "collapsed": false,
     "input": [
      "RAW_BASE_PATH = \"../raw_data/\u8fb2\u59d4\u6703\"\n",
      "OUTPUT_PATH = \"../parsed/\u8fb2\u59d4\u6703\""
     ],
     "language": "python",
     "metadata": {},
     "outputs": [],
     "prompt_number": 56
    },
    {
     "cell_type": "code",
     "collapsed": false,
     "input": [
      "ls $RAW_BASE_PATH"
     ],
     "language": "python",
     "metadata": {},
     "outputs": [
      {
       "output_type": "stream",
       "stream": "stdout",
       "text": [
        "\u8fb2\u59d4\u6703\u4e3b\u7ba1101\u5e74\u5ee3\u5ba3\u5f59\u6574.xls\r\n",
        "\u8fb2\u59d4\u6703\u4e3b\u7ba1102Q1\u5ee3\u5ba3\u5f59\u6574\u8868.xls\r\n",
        "\u8fb2\u59d4\u6703\u4e3b\u7ba1102Q2\u5ee3\u5ba3\u5f59\u6574\u8868.xls\r\n",
        "\u8fb2\u59d4\u6703\u4e3b\u7ba1102\u5e74\u7b2c3\u5b63\u5ee3\u5ba3\u5f59\u6574\u8868.xls\r\n",
        "\u8fb2\u59d4\u6703\u4e3b\u7ba1102\u5e74\u7b2c4\u5b63\u5ee3\u5ba3\u5f59\u6574\u8868.xls\r\n"
       ]
      }
     ],
     "prompt_number": 3
    },
    {
     "cell_type": "code",
     "collapsed": false,
     "input": [
      "import os\n",
      "join_pth = os.path.join\n",
      "ALL_XLS = [pth for pth in os.listdir(RAW_BASE_PATH) if pth.endswith(\".xls\")]"
     ],
     "language": "python",
     "metadata": {},
     "outputs": [],
     "prompt_number": 10
    },
    {
     "cell_type": "code",
     "collapsed": false,
     "input": [
      "xls = ALL_XLS[0]\n",
      "xls"
     ],
     "language": "python",
     "metadata": {},
     "outputs": [
      {
       "metadata": {},
       "output_type": "pyout",
       "prompt_number": 27,
       "text": [
        "'\u8fb2\u59d4\u6703\u4e3b\u7ba1101\u5e74\u5ee3\u5ba3\u5f59\u6574.xls'"
       ]
      }
     ],
     "prompt_number": 27
    },
    {
     "cell_type": "heading",
     "level": 2,
     "metadata": {},
     "source": [
      "101\u5e74\u7e3d\u8868"
     ]
    },
    {
     "cell_type": "code",
     "collapsed": false,
     "input": [
      "import pandas as pd"
     ],
     "language": "python",
     "metadata": {},
     "outputs": [],
     "prompt_number": 12
    },
    {
     "cell_type": "code",
     "collapsed": false,
     "input": [
      "df = pd.read_excel(join_pth(RAW_BASE_PATH, xls), 0, skiprows=3)"
     ],
     "language": "python",
     "metadata": {},
     "outputs": [],
     "prompt_number": 24
    },
    {
     "cell_type": "code",
     "collapsed": false,
     "input": [
      "df.head()"
     ],
     "language": "python",
     "metadata": {},
     "outputs": [
      {
       "html": [
        "<div style=\"max-height:1000px;max-width:1500px;overflow:auto;\">\n",
        "<table border=\"1\" class=\"dataframe\">\n",
        "  <thead>\n",
        "    <tr style=\"text-align: right;\">\n",
        "      <th></th>\n",
        "      <th>\u5e8f\u865f</th>\n",
        "      <th>\u5ba3\u5c0e\u8a08\u756b/\u4e3b\u984c</th>\n",
        "      <th>\u5a92\u9ad4\u985e\u578b\n",
        "(\u520a\u64ad\u7248\u4f4d/\u983b\u9053)</th>\n",
        "      <th>\u5ba3\u5c0e\u671f\u7a0b</th>\n",
        "      <th>\u91d1\u984d(\u5143)</th>\n",
        "      <th>\u57f7\u884c\n",
        "\u55ae\u4f4d</th>\n",
        "      <th>\u5099\u8a3b</th>\n",
        "    </tr>\n",
        "  </thead>\n",
        "  <tbody>\n",
        "    <tr>\n",
        "      <th>0</th>\n",
        "      <td> 1</td>\n",
        "      <td>   \u8fb2\u6751\u518d\u751f\uff0d\u6211\u5011\u651c\u624b\u6253\u9020\u5e78\u798f\u8fb2\u6751</td>\n",
        "      <td>             \u5831\u7d19\\n(\u4e2d\u6642\u3001\u806f\u5408)</td>\n",
        "      <td>     1\u6708</td>\n",
        "      <td> 335000</td>\n",
        "      <td> \u8fb2\u59d4\u6703</td>\n",
        "      <td>NaN</td>\n",
        "    </tr>\n",
        "    <tr>\n",
        "      <th>1</th>\n",
        "      <td> 2</td>\n",
        "      <td> \u8001\u8fb2\u6d25\u8cbc\u8abf\u6f32/\u8fb2\u6751\u518d\u751f\u5ba3\u5c0e(\u8f2a\u64ad)</td>\n",
        "      <td>       30\u79d2\u96fb\u8996\u5ee3\u544a\\n(\u5730\u65b9\u6709\u7dda\u983b\u9053)</td>\n",
        "      <td>     1\u6708</td>\n",
        "      <td>      0</td>\n",
        "      <td> \u8fb2\u59d4\u6703</td>\n",
        "      <td>NaN</td>\n",
        "    </tr>\n",
        "    <tr>\n",
        "      <th>2</th>\n",
        "      <td> 3</td>\n",
        "      <td>          \u8001\u8fb2\u6d25\u8cbc\u8abf\u6f32\u5ba3\u5c0e</td>\n",
        "      <td>         30\u79d2\u5ee3\u64ad\u5ee3\u544a\\n(\u5730\u5340\u983b\u9053)</td>\n",
        "      <td>     1\u6708</td>\n",
        "      <td>      0</td>\n",
        "      <td> \u8fb2\u59d4\u6703</td>\n",
        "      <td>NaN</td>\n",
        "    </tr>\n",
        "    <tr>\n",
        "      <th>3</th>\n",
        "      <td> 4</td>\n",
        "      <td>         \u8fb2\u59d4\u6703\u9996\u9801\u7db2\u7ad9\u9023\u7d50</td>\n",
        "      <td> \u81ea\u7acb\u665a\u5831\u96fb\u5b50\u5831\u7db2\u9801\u520a\u767b\u6a6b\u5e45\u5ee3\u544a(Banner)</td>\n",
        "      <td> 1\u6708~12\u6708</td>\n",
        "      <td>  50000</td>\n",
        "      <td> \u8fb2\u59d4\u6703</td>\n",
        "      <td>NaN</td>\n",
        "    </tr>\n",
        "    <tr>\n",
        "      <th>4</th>\n",
        "      <td> 5</td>\n",
        "      <td>            \u98df\u54c1\u5b89\u5168\u5ba3\u5c0e</td>\n",
        "      <td>                \u5831\u7d19\\n(\u4e2d\u6642)</td>\n",
        "      <td>     4\u6708</td>\n",
        "      <td> 160000</td>\n",
        "      <td> \u8fb2\u59d4\u6703</td>\n",
        "      <td>NaN</td>\n",
        "    </tr>\n",
        "  </tbody>\n",
        "</table>\n",
        "<p>5 rows \u00d7 7 columns</p>\n",
        "</div>"
       ],
       "metadata": {},
       "output_type": "pyout",
       "prompt_number": 29,
       "text": [
        "   \u5e8f\u865f            \u5ba3\u5c0e\u8a08\u756b/\u4e3b\u984c          \u5a92\u9ad4\u985e\u578b\\n(\u520a\u64ad\u7248\u4f4d/\u983b\u9053)    \u5ba3\u5c0e\u671f\u7a0b   \u91d1\u984d(\u5143) \u57f7\u884c\\n\u55ae\u4f4d  \u5099\u8a3b\n",
        "0   1    \u8fb2\u6751\u518d\u751f\uff0d\u6211\u5011\u651c\u624b\u6253\u9020\u5e78\u798f\u8fb2\u6751              \u5831\u7d19\\n(\u4e2d\u6642\u3001\u806f\u5408)      1\u6708  335000    \u8fb2\u59d4\u6703 NaN\n",
        "1   2  \u8001\u8fb2\u6d25\u8cbc\u8abf\u6f32/\u8fb2\u6751\u518d\u751f\u5ba3\u5c0e(\u8f2a\u64ad)        30\u79d2\u96fb\u8996\u5ee3\u544a\\n(\u5730\u65b9\u6709\u7dda\u983b\u9053)      1\u6708       0    \u8fb2\u59d4\u6703 NaN\n",
        "2   3           \u8001\u8fb2\u6d25\u8cbc\u8abf\u6f32\u5ba3\u5c0e          30\u79d2\u5ee3\u64ad\u5ee3\u544a\\n(\u5730\u5340\u983b\u9053)      1\u6708       0    \u8fb2\u59d4\u6703 NaN\n",
        "3   4          \u8fb2\u59d4\u6703\u9996\u9801\u7db2\u7ad9\u9023\u7d50  \u81ea\u7acb\u665a\u5831\u96fb\u5b50\u5831\u7db2\u9801\u520a\u767b\u6a6b\u5e45\u5ee3\u544a(Banner)  1\u6708~12\u6708   50000    \u8fb2\u59d4\u6703 NaN\n",
        "4   5             \u98df\u54c1\u5b89\u5168\u5ba3\u5c0e                 \u5831\u7d19\\n(\u4e2d\u6642)      4\u6708  160000    \u8fb2\u59d4\u6703 NaN\n",
        "\n",
        "[5 rows x 7 columns]"
       ]
      }
     ],
     "prompt_number": 29
    },
    {
     "cell_type": "code",
     "collapsed": false,
     "input": [
      "df.columns"
     ],
     "language": "python",
     "metadata": {},
     "outputs": [
      {
       "metadata": {},
       "output_type": "pyout",
       "prompt_number": 30,
       "text": [
        "Index(['\u5e8f\u865f', '\u5ba3\u5c0e\u8a08\u756b/\u4e3b\u984c', '\u5a92\u9ad4\u985e\u578b\\n(\u520a\u64ad\u7248\u4f4d/\u983b\u9053)', '\u5ba3\u5c0e\u671f\u7a0b', '\u91d1\u984d(\u5143)', '\u57f7\u884c\\n\u55ae\u4f4d', '\u5099\u8a3b'], dtype='object')"
       ]
      }
     ],
     "prompt_number": 30
    },
    {
     "cell_type": "code",
     "collapsed": false,
     "input": [
      "import numpy as np"
     ],
     "language": "python",
     "metadata": {},
     "outputs": [],
     "prompt_number": 32
    },
    {
     "cell_type": "code",
     "collapsed": false,
     "input": [
      "df[~pd.isnull(df[\"\u5099\u8a3b\"])]"
     ],
     "language": "python",
     "metadata": {},
     "outputs": [
      {
       "html": [
        "<div style=\"max-height:1000px;max-width:1500px;overflow:auto;\">\n",
        "<table border=\"1\" class=\"dataframe\">\n",
        "  <tbody>\n",
        "    <tr>\n",
        "      <td>Int64Index([], dtype='int64')</td>\n",
        "      <td>Empty DataFrame</td>\n",
        "    </tr>\n",
        "  </tbody>\n",
        "</table>\n",
        "<p>0 rows \u00d7 7 columns</p>\n",
        "</div>"
       ],
       "metadata": {},
       "output_type": "pyout",
       "prompt_number": 38,
       "text": [
        "Empty DataFrame\n",
        "Columns: [\u5e8f\u865f, \u5ba3\u5c0e\u8a08\u756b/\u4e3b\u984c, \u5a92\u9ad4\u985e\u578b\n",
        "(\u520a\u64ad\u7248\u4f4d/\u983b\u9053), \u5ba3\u5c0e\u671f\u7a0b, \u91d1\u984d(\u5143), \u57f7\u884c\n",
        "\u55ae\u4f4d, \u5099\u8a3b]\n",
        "Index: []\n",
        "\n",
        "[0 rows x 7 columns]"
       ]
      }
     ],
     "prompt_number": 38
    },
    {
     "cell_type": "code",
     "collapsed": false,
     "input": [
      "# \u780d\u5099\u8a3b\n",
      "df = df.icol(list(range(1, 6)))"
     ],
     "language": "python",
     "metadata": {},
     "outputs": [],
     "prompt_number": 47
    },
    {
     "cell_type": "markdown",
     "metadata": {},
     "source": [
      "\u7d71\u4e00\u6b04\u4f4d\uff1a\u4e3b\u984c\u3001\u5a92\u9ad4\u3001\u6642\u9593\u3001\u91d1\u984d\u3001\u57f7\u884c\u55ae\u4f4d\u3001\u884c\u653f\u90e8\u6703\u3001\u5099\u8a3b"
     ]
    },
    {
     "cell_type": "code",
     "collapsed": true,
     "input": [
      "df.columns = ['\u4e3b\u984c', '\u5a92\u9ad4', '\u6642\u9593', '\u91d1\u984d', '\u57f7\u884c\u55ae\u4f4d']\n",
      "df['\u5099\u8a3b'] = np.NaN"
     ],
     "language": "python",
     "metadata": {},
     "outputs": [
      {
       "ename": "ValueError",
       "evalue": "Length mismatch: Expected axis has 6 elements, new values have 5 elements",
       "output_type": "pyerr",
       "traceback": [
        "\u001b[0;31m---------------------------------------------------------------------------\u001b[0m\n\u001b[0;31mValueError\u001b[0m                                Traceback (most recent call last)",
        "\u001b[0;32m<ipython-input-51-a13ca61d4a96>\u001b[0m in \u001b[0;36m<module>\u001b[0;34m()\u001b[0m\n\u001b[0;32m----> 1\u001b[0;31m \u001b[0mdf\u001b[0m\u001b[0;34m.\u001b[0m\u001b[0mcolumns\u001b[0m \u001b[0;34m=\u001b[0m \u001b[0;34m[\u001b[0m\u001b[0;34m'\u4e3b\u984c'\u001b[0m\u001b[0;34m,\u001b[0m \u001b[0;34m'\u5a92\u9ad4'\u001b[0m\u001b[0;34m,\u001b[0m \u001b[0;34m'\u6642\u9593'\u001b[0m\u001b[0;34m,\u001b[0m \u001b[0;34m'\u91d1\u984d'\u001b[0m\u001b[0;34m,\u001b[0m \u001b[0;34m'\u57f7\u884c\u55ae\u4f4d'\u001b[0m\u001b[0;34m]\u001b[0m\u001b[0;34m\u001b[0m\u001b[0m\n\u001b[0m\u001b[1;32m      2\u001b[0m \u001b[0mdf\u001b[0m\u001b[0;34m[\u001b[0m\u001b[0;34m'\u5099\u8a3b'\u001b[0m\u001b[0;34m]\u001b[0m \u001b[0;34m=\u001b[0m \u001b[0mnp\u001b[0m\u001b[0;34m.\u001b[0m\u001b[0mNaN\u001b[0m\u001b[0;34m\u001b[0m\u001b[0m\n",
        "\u001b[0;32m/Users/liang/.virtualenvs/sci_33/lib/python3.3/site-packages/pandas/core/generic.py\u001b[0m in \u001b[0;36m__setattr__\u001b[0;34m(self, name, value)\u001b[0m\n\u001b[1;32m   1826\u001b[0m                 \u001b[0mexisting\u001b[0m \u001b[0;34m=\u001b[0m \u001b[0mgetattr\u001b[0m\u001b[0;34m(\u001b[0m\u001b[0mself\u001b[0m\u001b[0;34m,\u001b[0m \u001b[0mname\u001b[0m\u001b[0;34m)\u001b[0m\u001b[0;34m\u001b[0m\u001b[0m\n\u001b[1;32m   1827\u001b[0m                 \u001b[0;32mif\u001b[0m \u001b[0misinstance\u001b[0m\u001b[0;34m(\u001b[0m\u001b[0mexisting\u001b[0m\u001b[0;34m,\u001b[0m \u001b[0mIndex\u001b[0m\u001b[0;34m)\u001b[0m\u001b[0;34m:\u001b[0m\u001b[0;34m\u001b[0m\u001b[0m\n\u001b[0;32m-> 1828\u001b[0;31m                     \u001b[0mobject\u001b[0m\u001b[0;34m.\u001b[0m\u001b[0m__setattr__\u001b[0m\u001b[0;34m(\u001b[0m\u001b[0mself\u001b[0m\u001b[0;34m,\u001b[0m \u001b[0mname\u001b[0m\u001b[0;34m,\u001b[0m \u001b[0mvalue\u001b[0m\u001b[0;34m)\u001b[0m\u001b[0;34m\u001b[0m\u001b[0m\n\u001b[0m\u001b[1;32m   1829\u001b[0m                 \u001b[0;32melif\u001b[0m \u001b[0mname\u001b[0m \u001b[0;32min\u001b[0m \u001b[0mself\u001b[0m\u001b[0;34m.\u001b[0m\u001b[0m_info_axis\u001b[0m\u001b[0;34m:\u001b[0m\u001b[0;34m\u001b[0m\u001b[0m\n\u001b[1;32m   1830\u001b[0m                     \u001b[0mself\u001b[0m\u001b[0;34m[\u001b[0m\u001b[0mname\u001b[0m\u001b[0;34m]\u001b[0m \u001b[0;34m=\u001b[0m \u001b[0mvalue\u001b[0m\u001b[0;34m\u001b[0m\u001b[0m\n",
        "\u001b[0;32m/Users/liang/.virtualenvs/sci_33/lib/python3.3/site-packages/pandas/lib.so\u001b[0m in \u001b[0;36mpandas.lib.AxisProperty.__set__ (pandas/lib.c:29726)\u001b[0;34m()\u001b[0m\n",
        "\u001b[0;32m/Users/liang/.virtualenvs/sci_33/lib/python3.3/site-packages/pandas/core/generic.py\u001b[0m in \u001b[0;36m_set_axis\u001b[0;34m(self, axis, labels)\u001b[0m\n\u001b[1;32m    394\u001b[0m \u001b[0;34m\u001b[0m\u001b[0m\n\u001b[1;32m    395\u001b[0m     \u001b[0;32mdef\u001b[0m \u001b[0m_set_axis\u001b[0m\u001b[0;34m(\u001b[0m\u001b[0mself\u001b[0m\u001b[0;34m,\u001b[0m \u001b[0maxis\u001b[0m\u001b[0;34m,\u001b[0m \u001b[0mlabels\u001b[0m\u001b[0;34m)\u001b[0m\u001b[0;34m:\u001b[0m\u001b[0;34m\u001b[0m\u001b[0m\n\u001b[0;32m--> 396\u001b[0;31m         \u001b[0mself\u001b[0m\u001b[0;34m.\u001b[0m\u001b[0m_data\u001b[0m\u001b[0;34m.\u001b[0m\u001b[0mset_axis\u001b[0m\u001b[0;34m(\u001b[0m\u001b[0maxis\u001b[0m\u001b[0;34m,\u001b[0m \u001b[0mlabels\u001b[0m\u001b[0;34m)\u001b[0m\u001b[0;34m\u001b[0m\u001b[0m\n\u001b[0m\u001b[1;32m    397\u001b[0m         \u001b[0mself\u001b[0m\u001b[0;34m.\u001b[0m\u001b[0m_clear_item_cache\u001b[0m\u001b[0;34m(\u001b[0m\u001b[0;34m)\u001b[0m\u001b[0;34m\u001b[0m\u001b[0m\n\u001b[1;32m    398\u001b[0m \u001b[0;34m\u001b[0m\u001b[0m\n",
        "\u001b[0;32m/Users/liang/.virtualenvs/sci_33/lib/python3.3/site-packages/pandas/core/internals.py\u001b[0m in \u001b[0;36mset_axis\u001b[0;34m(self, axis, value, maybe_rename, check_axis)\u001b[0m\n\u001b[1;32m   2083\u001b[0m \u001b[0;34m\u001b[0m\u001b[0m\n\u001b[1;32m   2084\u001b[0m     \u001b[0;32mdef\u001b[0m \u001b[0mset_axis\u001b[0m\u001b[0;34m(\u001b[0m\u001b[0mself\u001b[0m\u001b[0;34m,\u001b[0m \u001b[0maxis\u001b[0m\u001b[0;34m,\u001b[0m \u001b[0mvalue\u001b[0m\u001b[0;34m,\u001b[0m \u001b[0mmaybe_rename\u001b[0m\u001b[0;34m=\u001b[0m\u001b[0;32mTrue\u001b[0m\u001b[0;34m,\u001b[0m \u001b[0mcheck_axis\u001b[0m\u001b[0;34m=\u001b[0m\u001b[0;32mTrue\u001b[0m\u001b[0;34m)\u001b[0m\u001b[0;34m:\u001b[0m\u001b[0;34m\u001b[0m\u001b[0m\n\u001b[0;32m-> 2085\u001b[0;31m         \u001b[0mcur_axis\u001b[0m\u001b[0;34m,\u001b[0m \u001b[0mvalue\u001b[0m \u001b[0;34m=\u001b[0m \u001b[0mself\u001b[0m\u001b[0;34m.\u001b[0m\u001b[0m_set_axis\u001b[0m\u001b[0;34m(\u001b[0m\u001b[0maxis\u001b[0m\u001b[0;34m,\u001b[0m \u001b[0mvalue\u001b[0m\u001b[0;34m,\u001b[0m \u001b[0mcheck_axis\u001b[0m\u001b[0;34m)\u001b[0m\u001b[0;34m\u001b[0m\u001b[0m\n\u001b[0m\u001b[1;32m   2086\u001b[0m \u001b[0;34m\u001b[0m\u001b[0m\n\u001b[1;32m   2087\u001b[0m         \u001b[0;32mif\u001b[0m \u001b[0maxis\u001b[0m \u001b[0;34m==\u001b[0m \u001b[0;36m0\u001b[0m\u001b[0;34m:\u001b[0m\u001b[0;34m\u001b[0m\u001b[0m\n",
        "\u001b[0;32m/Users/liang/.virtualenvs/sci_33/lib/python3.3/site-packages/pandas/core/internals.py\u001b[0m in \u001b[0;36m_set_axis\u001b[0;34m(self, axis, value, check_axis)\u001b[0m\n\u001b[1;32m   2076\u001b[0m             raise ValueError('Length mismatch: Expected axis has %d elements, '\n\u001b[1;32m   2077\u001b[0m                              'new values have %d elements' % (len(cur_axis),\n\u001b[0;32m-> 2078\u001b[0;31m                                                               len(value)))\n\u001b[0m\u001b[1;32m   2079\u001b[0m \u001b[0;34m\u001b[0m\u001b[0m\n\u001b[1;32m   2080\u001b[0m         \u001b[0mself\u001b[0m\u001b[0;34m.\u001b[0m\u001b[0maxes\u001b[0m\u001b[0;34m[\u001b[0m\u001b[0maxis\u001b[0m\u001b[0;34m]\u001b[0m \u001b[0;34m=\u001b[0m \u001b[0mvalue\u001b[0m\u001b[0;34m\u001b[0m\u001b[0m\n",
        "\u001b[0;31mValueError\u001b[0m: Length mismatch: Expected axis has 6 elements, new values have 5 elements"
       ]
      }
     ],
     "prompt_number": 51
    },
    {
     "cell_type": "code",
     "collapsed": false,
     "input": [
      "df.head()"
     ],
     "language": "python",
     "metadata": {},
     "outputs": [
      {
       "html": [
        "<div style=\"max-height:1000px;max-width:1500px;overflow:auto;\">\n",
        "<table border=\"1\" class=\"dataframe\">\n",
        "  <thead>\n",
        "    <tr style=\"text-align: right;\">\n",
        "      <th></th>\n",
        "      <th>\u4e3b\u984c</th>\n",
        "      <th>\u5a92\u9ad4</th>\n",
        "      <th>\u6642\u9593</th>\n",
        "      <th>\u91d1\u984d</th>\n",
        "      <th>\u57f7\u884c\u55ae\u4f4d</th>\n",
        "      <th>\u5099\u8a3b</th>\n",
        "    </tr>\n",
        "  </thead>\n",
        "  <tbody>\n",
        "    <tr>\n",
        "      <th>0</th>\n",
        "      <td>   \u8fb2\u6751\u518d\u751f\uff0d\u6211\u5011\u651c\u624b\u6253\u9020\u5e78\u798f\u8fb2\u6751</td>\n",
        "      <td>             \u5831\u7d19\\n(\u4e2d\u6642\u3001\u806f\u5408)</td>\n",
        "      <td>     1\u6708</td>\n",
        "      <td> 335000</td>\n",
        "      <td> \u8fb2\u59d4\u6703</td>\n",
        "      <td>NaN</td>\n",
        "    </tr>\n",
        "    <tr>\n",
        "      <th>1</th>\n",
        "      <td> \u8001\u8fb2\u6d25\u8cbc\u8abf\u6f32/\u8fb2\u6751\u518d\u751f\u5ba3\u5c0e(\u8f2a\u64ad)</td>\n",
        "      <td>       30\u79d2\u96fb\u8996\u5ee3\u544a\\n(\u5730\u65b9\u6709\u7dda\u983b\u9053)</td>\n",
        "      <td>     1\u6708</td>\n",
        "      <td>      0</td>\n",
        "      <td> \u8fb2\u59d4\u6703</td>\n",
        "      <td>NaN</td>\n",
        "    </tr>\n",
        "    <tr>\n",
        "      <th>2</th>\n",
        "      <td>          \u8001\u8fb2\u6d25\u8cbc\u8abf\u6f32\u5ba3\u5c0e</td>\n",
        "      <td>         30\u79d2\u5ee3\u64ad\u5ee3\u544a\\n(\u5730\u5340\u983b\u9053)</td>\n",
        "      <td>     1\u6708</td>\n",
        "      <td>      0</td>\n",
        "      <td> \u8fb2\u59d4\u6703</td>\n",
        "      <td>NaN</td>\n",
        "    </tr>\n",
        "    <tr>\n",
        "      <th>3</th>\n",
        "      <td>         \u8fb2\u59d4\u6703\u9996\u9801\u7db2\u7ad9\u9023\u7d50</td>\n",
        "      <td> \u81ea\u7acb\u665a\u5831\u96fb\u5b50\u5831\u7db2\u9801\u520a\u767b\u6a6b\u5e45\u5ee3\u544a(Banner)</td>\n",
        "      <td> 1\u6708~12\u6708</td>\n",
        "      <td>  50000</td>\n",
        "      <td> \u8fb2\u59d4\u6703</td>\n",
        "      <td>NaN</td>\n",
        "    </tr>\n",
        "    <tr>\n",
        "      <th>4</th>\n",
        "      <td>            \u98df\u54c1\u5b89\u5168\u5ba3\u5c0e</td>\n",
        "      <td>                \u5831\u7d19\\n(\u4e2d\u6642)</td>\n",
        "      <td>     4\u6708</td>\n",
        "      <td> 160000</td>\n",
        "      <td> \u8fb2\u59d4\u6703</td>\n",
        "      <td>NaN</td>\n",
        "    </tr>\n",
        "  </tbody>\n",
        "</table>\n",
        "<p>5 rows \u00d7 6 columns</p>\n",
        "</div>"
       ],
       "metadata": {},
       "output_type": "pyout",
       "prompt_number": 55,
       "text": [
        "                  \u4e3b\u984c                       \u5a92\u9ad4      \u6642\u9593      \u91d1\u984d \u57f7\u884c\u55ae\u4f4d  \u5099\u8a3b\n",
        "0    \u8fb2\u6751\u518d\u751f\uff0d\u6211\u5011\u651c\u624b\u6253\u9020\u5e78\u798f\u8fb2\u6751              \u5831\u7d19\\n(\u4e2d\u6642\u3001\u806f\u5408)      1\u6708  335000  \u8fb2\u59d4\u6703 NaN\n",
        "1  \u8001\u8fb2\u6d25\u8cbc\u8abf\u6f32/\u8fb2\u6751\u518d\u751f\u5ba3\u5c0e(\u8f2a\u64ad)        30\u79d2\u96fb\u8996\u5ee3\u544a\\n(\u5730\u65b9\u6709\u7dda\u983b\u9053)      1\u6708       0  \u8fb2\u59d4\u6703 NaN\n",
        "2           \u8001\u8fb2\u6d25\u8cbc\u8abf\u6f32\u5ba3\u5c0e          30\u79d2\u5ee3\u64ad\u5ee3\u544a\\n(\u5730\u5340\u983b\u9053)      1\u6708       0  \u8fb2\u59d4\u6703 NaN\n",
        "3          \u8fb2\u59d4\u6703\u9996\u9801\u7db2\u7ad9\u9023\u7d50  \u81ea\u7acb\u665a\u5831\u96fb\u5b50\u5831\u7db2\u9801\u520a\u767b\u6a6b\u5e45\u5ee3\u544a(Banner)  1\u6708~12\u6708   50000  \u8fb2\u59d4\u6703 NaN\n",
        "4             \u98df\u54c1\u5b89\u5168\u5ba3\u5c0e                 \u5831\u7d19\\n(\u4e2d\u6642)      4\u6708  160000  \u8fb2\u59d4\u6703 NaN\n",
        "\n",
        "[5 rows x 6 columns]"
       ]
      }
     ],
     "prompt_number": 55
    },
    {
     "cell_type": "code",
     "collapsed": false,
     "input": [
      "df.to_csv(join_pth(OUTPUT_PATH, xls[:-len(\".xls\")]+\".csv\"))"
     ],
     "language": "python",
     "metadata": {},
     "outputs": [],
     "prompt_number": 59
    },
    {
     "cell_type": "code",
     "collapsed": false,
     "input": [],
     "language": "python",
     "metadata": {},
     "outputs": []
    }
   ],
   "metadata": {}
  }
 ]
}