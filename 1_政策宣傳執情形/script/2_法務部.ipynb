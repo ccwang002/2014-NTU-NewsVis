{
 "metadata": {
  "name": ""
 },
 "nbformat": 3,
 "nbformat_minor": 0,
 "worksheets": [
  {
   "cells": [
    {
     "cell_type": "code",
     "collapsed": false,
     "input": [
      "from pathlib import Path\n",
      "import pandas as pd\n",
      "import numpy as np\n",
      "import re\n",
      "import xlrd"
     ],
     "language": "python",
     "metadata": {},
     "outputs": [],
     "prompt_number": 2
    },
    {
     "cell_type": "code",
     "collapsed": false,
     "input": [
      "RAW_BASE = Path(\"../\u6cd5\u52d9\u90e8\")\n",
      "OUTPUT_BSAE = RAW_BASE / \"parsed\"\n",
      "OUTPUT_BSAE.mkdir()"
     ],
     "language": "python",
     "metadata": {},
     "outputs": [],
     "prompt_number": 4
    },
    {
     "cell_type": "code",
     "collapsed": false,
     "input": [
      "parse_date = re.compile('\u8cc7\u8a0a\u8655\u6c11\u570b(\\d+)\u5e74\u5ea6\u7b2c(\\d+)\u5b63\u8fa6\u7406\u653f\u7b56\u5ba3\u5c0e\u5ee3\u544a\u9673\u5831\u8868', re.UNICODE).search"
     ],
     "language": "python",
     "metadata": {},
     "outputs": [],
     "prompt_number": 49
    },
    {
     "cell_type": "code",
     "collapsed": false,
     "input": [
      "def get_report_year(xls_p):\n",
      "    xls = xlrd.open_workbook(str(xls_p))\n",
      "    header = xls.sheet_by_index(0).cell(0, 0).value\n",
      "    return parse_date(header).groups()"
     ],
     "language": "python",
     "metadata": {},
     "outputs": [],
     "prompt_number": 60
    },
    {
     "cell_type": "heading",
     "level": 1,
     "metadata": {},
     "source": [
      "Batch"
     ]
    },
    {
     "cell_type": "code",
     "collapsed": false,
     "input": [
      "def norm_data(xls_p):\n",
      "    df = pd.read_excel(str(xls_p), 0, skiprows=1, skipfooter=2)\n",
      "    # ['\u4e3b\u984c', '\u5a92\u9ad4', '\u6642\u9593', '\u91d1\u984d', '\u57f7\u884c\u55ae\u4f4d', '\u5099\u8a3b']\n",
      "    new_index = df.columns[:].values\n",
      "    new_index[:3] = ['\u5a92\u9ad4', '\u4e3b\u984c', '\u6642\u9593']\n",
      "    new_index[-1] = '\u91d1\u984d'\n",
      "    df.columns = new_index\n",
      "    # \u6293\u51fa\u88fd\u8868\u6642\u9593\n",
      "    report_year, report_quarter = get_report_year(xls_p)\n",
      "    df['\u6c11\u570b\u5e74'] = report_year\n",
      "    # \u628a\u591a\u9918\u7684\u8cc7\u8a0a\u6536\u96c6\u8d77\u4f86\n",
      "    df['\u5099\u8a3b'] = df.apply(lambda r: '\u6b21\u6578: {}\\n\u5c0d\u8c61: {}'.format(r['\u6b21\u6578'], r['\u5c0d\u8c61']), axis=1)\n",
      "    df = df.ffill()\n",
      "    df['\u57f7\u884c\u55ae\u4f4d'] = '\u8cc7\u8a0a\u8655'\n",
      "    df['\u884c\u653f\u90e8\u6703'] = '\u6cd5\u52d9\u90e8'\n",
      "    df = df[['\u4e3b\u984c', '\u5a92\u9ad4', '\u6c11\u570b\u5e74', '\u6642\u9593', '\u91d1\u984d', '\u57f7\u884c\u55ae\u4f4d', '\u884c\u653f\u90e8\u6703', '\u5099\u8a3b']]\n",
      "    # output\n",
      "    out_stem = OUTPUT_BSAE / '{}\u5e74\u7b2c{}\u5b63_{}'.format(report_year, report_quarter, xls_p.stem)\n",
      "    df.to_csv(str(out_stem)+ \".csv\", index=False)\n",
      "    df.to_excel(str(out_stem) + \".xlsx\", index=False)"
     ],
     "language": "python",
     "metadata": {},
     "outputs": [],
     "prompt_number": 78
    },
    {
     "cell_type": "code",
     "collapsed": false,
     "input": [
      "norm_data(xls_p)"
     ],
     "language": "python",
     "metadata": {},
     "outputs": [],
     "prompt_number": 79
    },
    {
     "cell_type": "code",
     "collapsed": false,
     "input": [
      "xls_fail = []\n",
      "for xls_p in RAW_BASE.iterdir():\n",
      "    if xls_p.suffix not in ['.xlsx', '.xls']:\n",
      "        print('skip {}'.format(xls_p))\n",
      "        continue\n",
      "    else:\n",
      "        print('working {}'.format(xls_p))\n",
      "    try:\n",
      "        norm_data(xls_p)\n",
      "    except Exception as e:\n",
      "        print('Caught Error: ', e)\n",
      "        xls_fail.append(xls_p)"
     ],
     "language": "python",
     "metadata": {},
     "outputs": [
      {
       "output_type": "stream",
       "stream": "stdout",
       "text": [
        "working ../\u6cd5\u52d9\u90e8/210181445976.xls\n",
        "working ../\u6cd5\u52d9\u90e8/211221155896.xlsx"
       ]
      },
      {
       "output_type": "stream",
       "stream": "stdout",
       "text": [
        "\n",
        "Caught Error:  'NoneType' object has no attribute 'groups'\n",
        "working ../\u6cd5\u52d9\u90e8/2122614425229.xls\n",
        "working ../\u6cd5\u52d9\u90e8/283116273998.xls"
       ]
      },
      {
       "output_type": "stream",
       "stream": "stdout",
       "text": [
        "\n",
        "Caught Error:  'NoneType' object has no attribute 'groups'\n",
        "working ../\u6cd5\u52d9\u90e8/31249425174.xls\n",
        "working ../\u6cd5\u52d9\u90e8/31249433937.xls"
       ]
      },
      {
       "output_type": "stream",
       "stream": "stdout",
       "text": [
        "\n",
        "working ../\u6cd5\u52d9\u90e8/34816563354.xls"
       ]
      },
      {
       "output_type": "stream",
       "stream": "stdout",
       "text": [
        "\n",
        "Caught Error:  'NoneType' object has no attribute 'groups'\n",
        "working ../\u6cd5\u52d9\u90e8/412416134929.xls\n",
        "Caught Error:  'NoneType' object has no attribute 'groups'\n",
        "skip ../\u6cd5\u52d9\u90e8/parsed\n"
       ]
      }
     ],
     "prompt_number": 82
    },
    {
     "cell_type": "code",
     "collapsed": false,
     "input": [
      "xls_fail"
     ],
     "language": "python",
     "metadata": {},
     "outputs": [
      {
       "metadata": {},
       "output_type": "pyout",
       "prompt_number": 83,
       "text": [
        "[PosixPath('../\u6cd5\u52d9\u90e8/211221155896.xlsx'),\n",
        " PosixPath('../\u6cd5\u52d9\u90e8/283116273998.xls'),\n",
        " PosixPath('../\u6cd5\u52d9\u90e8/34816563354.xls'),\n",
        " PosixPath('../\u6cd5\u52d9\u90e8/412416134929.xls')]"
       ]
      }
     ],
     "prompt_number": 83
    },
    {
     "cell_type": "heading",
     "level": 1,
     "metadata": {},
     "source": [
      "\u5ec9\u653f\u7f72"
     ]
    },
    {
     "cell_type": "code",
     "collapsed": false,
     "input": [
      "xls_p = xls_fail[0]"
     ],
     "language": "python",
     "metadata": {},
     "outputs": [],
     "prompt_number": 85
    },
    {
     "cell_type": "code",
     "collapsed": false,
     "input": [
      "xls = xlrd.open_workbook(str(xls_p))"
     ],
     "language": "python",
     "metadata": {},
     "outputs": [],
     "prompt_number": 109
    },
    {
     "cell_type": "code",
     "collapsed": false,
     "input": [
      "sheets = xls.sheets()"
     ],
     "language": "python",
     "metadata": {},
     "outputs": [],
     "prompt_number": 115
    },
    {
     "cell_type": "code",
     "collapsed": false,
     "input": [
      "sheets[0].name"
     ],
     "language": "python",
     "metadata": {},
     "outputs": [
      {
       "metadata": {},
       "output_type": "pyout",
       "prompt_number": 138,
       "text": [
        "'101\u5e74\u7b2c2\u5b63'"
       ]
      }
     ],
     "prompt_number": 138
    },
    {
     "cell_type": "code",
     "collapsed": false,
     "input": [
      "parse_date = re.compile('(\\d+)\u5e74\u7b2c(\\d+)\u5b63', re.UNICODE).search"
     ],
     "language": "python",
     "metadata": {},
     "outputs": [],
     "prompt_number": 147
    },
    {
     "cell_type": "code",
     "collapsed": false,
     "input": [
      "df = pd.read_excel(str(xls_p), sheets[0].name, skiprows=1, skipfooter=1)\n",
      "new_index = df.columns[:].values\n",
      "new_index[:3] = ['\u5a92\u9ad4', '\u4e3b\u984c', '\u6642\u9593']\n",
      "new_index[-1] = '\u91d1\u984d'\n",
      "df.columns = new_index\n",
      "# \u6293\u51fa\u88fd\u8868\u6642\u9593\n",
      "report_year, report_quarter = parse_date(sheets[0].name).groups()\n",
      "df['\u6c11\u570b\u5e74'] = report_year\n",
      "# \u628a\u591a\u9918\u7684\u8cc7\u8a0a\u6536\u96c6\u8d77\u4f86\n",
      "df['\u5099\u8a3b'] = df.apply(lambda r: '\u6b21\u6578: {}\\n\u5c0d\u8c61: {}'.format(r['\u6b21\u6578'], r['\u5c0d\u8c61']), axis=1)\n",
      "df = df.ffill()\n",
      "df['\u57f7\u884c\u55ae\u4f4d'] = '\u5ec9\u653f\u7f72'\n",
      "df['\u884c\u653f\u90e8\u6703'] = '\u6cd5\u52d9\u90e8'\n",
      "df = df[['\u4e3b\u984c', '\u5a92\u9ad4', '\u6c11\u570b\u5e74', '\u6642\u9593', '\u91d1\u984d', '\u57f7\u884c\u55ae\u4f4d', '\u884c\u653f\u90e8\u6703', '\u5099\u8a3b']]\n",
      "# output\n",
      "out_stem = OUTPUT_BSAE / '{}\u5e74\u7b2c{}\u5b63_{}'.format(report_year, report_quarter, xls_p.stem)\n",
      "df.to_csv(str(out_stem)+ \".csv\", index=False)\n",
      "df.to_excel(str(out_stem) + \".xlsx\", index=False)"
     ],
     "language": "python",
     "metadata": {},
     "outputs": [],
     "prompt_number": 150
    },
    {
     "cell_type": "heading",
     "level": 1,
     "metadata": {},
     "source": []
    },
    {
     "cell_type": "code",
     "collapsed": false,
     "input": [
      "xls_fail[1]"
     ],
     "language": "python",
     "metadata": {},
     "outputs": [
      {
       "metadata": {},
       "output_type": "pyout",
       "prompt_number": 151,
       "text": [
        "PosixPath('../\u6cd5\u52d9\u90e8/283116273998.xls')"
       ]
      }
     ],
     "prompt_number": 151
    },
    {
     "cell_type": "code",
     "collapsed": false,
     "input": [],
     "language": "python",
     "metadata": {},
     "outputs": []
    }
   ],
   "metadata": {}
  }
 ]
}