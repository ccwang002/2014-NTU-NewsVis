{
 "metadata": {
  "name": ""
 },
 "nbformat": 3,
 "nbformat_minor": 0,
 "worksheets": [
  {
   "cells": [
    {
     "cell_type": "code",
     "collapsed": false,
     "input": [
      "from pathlib import Path\n",
      "import pandas as pd\n",
      "import numpy as np\n",
      "from pyquery import PyQuery as pq\n",
      "import re"
     ],
     "language": "python",
     "metadata": {},
     "outputs": [],
     "prompt_number": 1
    },
    {
     "cell_type": "code",
     "collapsed": false,
     "input": [
      "BASE_PATH = Path('../\u52de\u52d5\u90e8')\n",
      "OUT_PATH = BASE_PATH / 'parsed'"
     ],
     "language": "python",
     "metadata": {},
     "outputs": [],
     "prompt_number": 2
    },
    {
     "cell_type": "code",
     "collapsed": false,
     "input": [
      "html_list = [p for p in BASE_PATH.iterdir() if p.suffix == '.htm']"
     ],
     "language": "python",
     "metadata": {},
     "outputs": [],
     "prompt_number": 3
    },
    {
     "cell_type": "code",
     "collapsed": false,
     "input": [
      "html_list"
     ],
     "language": "python",
     "metadata": {},
     "outputs": [
      {
       "metadata": {},
       "output_type": "pyout",
       "prompt_number": 4,
       "text": [
        "[PosixPath('../\u52de\u52d5\u90e8/\u52de\u52d5\u90e8101\u5e74.htm'), PosixPath('../\u52de\u52d5\u90e8/\u52de\u52d5\u90e8102\u5e74.htm')]"
       ]
      }
     ],
     "prompt_number": 4
    },
    {
     "cell_type": "code",
     "collapsed": false,
     "input": [
      "dom = pq(html_list[0].open().read())"
     ],
     "language": "python",
     "metadata": {},
     "outputs": [],
     "prompt_number": 5
    },
    {
     "cell_type": "code",
     "collapsed": false,
     "input": [
      "dfs = pd.read_html(dom.html(), header=0, infer_types=False)"
     ],
     "language": "python",
     "metadata": {},
     "outputs": [
      {
       "output_type": "stream",
       "stream": "stderr",
       "text": [
        "/Users/liang/.virtualenvs/sci_sys/lib/python3.4/site-packages/pandas/io/html.py:829: FutureWarning: infer_types will have no effect in 0.14\n",
        "  warnings.warn(\"infer_types will have no effect in 0.14\", FutureWarning)\n"
       ]
      }
     ],
     "prompt_number": 6
    },
    {
     "cell_type": "code",
     "collapsed": false,
     "input": [
      "df = dfs[0]"
     ],
     "language": "python",
     "metadata": {},
     "outputs": [],
     "prompt_number": 7
    },
    {
     "cell_type": "code",
     "collapsed": false,
     "input": [
      "shifted_ix = df.loc[df['\u55ae\u4f4d'] == 'nan'].index"
     ],
     "language": "python",
     "metadata": {},
     "outputs": [],
     "prompt_number": 8
    },
    {
     "cell_type": "code",
     "collapsed": false,
     "input": [
      "df.ix[shifted_ix, 1:] = df.ix[shifted_ix, :-1].values"
     ],
     "language": "python",
     "metadata": {},
     "outputs": [],
     "prompt_number": 9
    },
    {
     "cell_type": "code",
     "collapsed": false,
     "input": [
      "df.loc[shifted_ix, '\u5b63'] = np.NaN"
     ],
     "language": "python",
     "metadata": {},
     "outputs": [],
     "prompt_number": 10
    },
    {
     "cell_type": "code",
     "collapsed": false,
     "input": [
      "df = df.ffill()"
     ],
     "language": "python",
     "metadata": {},
     "outputs": [],
     "prompt_number": 11
    },
    {
     "cell_type": "code",
     "collapsed": false,
     "input": [
      "df['\u5a92\u9ad4'] = df.apply(\n",
      "    lambda r: '{}\uff1a{}'.format(r['\u5a92\u9ad4\u578b\u614b'], r['\u520a\u64ad\u5a92\u9ad4']),\n",
      "    axis=1\n",
      ")"
     ],
     "language": "python",
     "metadata": {},
     "outputs": [],
     "prompt_number": 12
    },
    {
     "cell_type": "code",
     "collapsed": false,
     "input": [
      "new_index = df.columns.values\n",
      "new_index[1] = '\u4e3b\u984c'\n",
      "new_index[4] = '\u6642\u9593'\n",
      "new_index[6] = '\u91d1\u984d'\n",
      "new_index[7] = '\u57f7\u884c\u55ae\u4f4d'\n",
      "df.columns = new_index"
     ],
     "language": "python",
     "metadata": {},
     "outputs": [],
     "prompt_number": 13
    },
    {
     "cell_type": "code",
     "collapsed": false,
     "input": [
      "df['\u5099\u8a3b']= df.apply(\n",
      "    lambda r: '\u9732\u51fa\u6b21\u6578\uff1a{}\\n\u5b63\uff1a{}'.format(r[5], r[0]),\n",
      "    axis=1\n",
      ")"
     ],
     "language": "python",
     "metadata": {},
     "outputs": [],
     "prompt_number": 14
    },
    {
     "cell_type": "code",
     "collapsed": false,
     "input": [
      "parse_budget = re.compile('(.*)\u300d?\u7e3d\u7d93\u8cbb(.*)\uff1a\\s*([0-9,]*)\\s*(.*)', re.UNICODE).match"
     ],
     "language": "python",
     "metadata": {},
     "outputs": [],
     "prompt_number": 15
    },
    {
     "cell_type": "code",
     "collapsed": false,
     "input": [
      "def norm_budget(row):\n",
      "    new_row = row.copy()\n",
      "    v = row['\u91d1\u984d']\n",
      "    if v.isnumeric():\n",
      "        # \u6b63\u5e38\u7684\u91d1\u984d\n",
      "        # print(v, 'is a valid number')\n",
      "        new_row['\u91d1\u984d'] = int(v)\n",
      "        return new_row\n",
      "    match = parse_budget(v)\n",
      "    if match:\n",
      "        prj, prj_note, budget, desc = match.groups()\n",
      "        prj += prj_note\n",
      "        # special case\n",
      "        if '\u5831\u7d19\u5ba3\u5c0e\u6848' in prj:\n",
      "            prj = '\u300c\u5831\u7d19\u5ba3\u5c0e\u6848\u300d'\n",
      "        if prj in all_prj:\n",
      "            # \u5df2\u7d93\u51fa\u73fe\u904e\u7684\u5c08\u6848\n",
      "            # print(prj, 'appeared, budget set to 0')\n",
      "            new_row['\u91d1\u984d'] = 0\n",
      "            new_row['\u5099\u8a3b'] += ('\\n\u5c08\u6848\uff1a' + prj + desc)\n",
      "            return new_row\n",
      "        else:\n",
      "            budget = int(budget.replace(',', ''))\n",
      "            # print('add', prj, 'with', budget)\n",
      "            all_prj.add(prj)\n",
      "            new_row['\u91d1\u984d'] = budget\n",
      "            new_row['\u5099\u8a3b'] += ('\\n\u5c08\u6848\uff1a' + prj + desc)\n",
      "            return new_row\n",
      "    else:\n",
      "        print(v, 'is sth strange')\n",
      "        return new_row"
     ],
     "language": "python",
     "metadata": {},
     "outputs": [],
     "prompt_number": 16
    },
    {
     "cell_type": "code",
     "collapsed": false,
     "input": [
      "all_prj = set()\n",
      "df = df.apply(norm_budget, axis=1)"
     ],
     "language": "python",
     "metadata": {},
     "outputs": [
      {
       "output_type": "stream",
       "stream": "stdout",
       "text": [
        "\u5ee0\u5546\u514d\u8cbb\u52a0\u503c\u670d\u52d9 is sth strange\n"
       ]
      }
     ],
     "prompt_number": 17
    },
    {
     "cell_type": "code",
     "collapsed": false,
     "input": [
      "df['\u884c\u653f\u90e8\u6703'] = '\u52de\u52d5\u90e8'\n",
      "df['\u6c11\u570b\u5e74'] = '101'\n",
      "df = df[['\u4e3b\u984c', '\u5a92\u9ad4', '\u6c11\u570b\u5e74', '\u6642\u9593', '\u91d1\u984d', '\u57f7\u884c\u55ae\u4f4d', '\u884c\u653f\u90e8\u6703', '\u5099\u8a3b']]"
     ],
     "language": "python",
     "metadata": {},
     "outputs": [],
     "prompt_number": 18
    },
    {
     "cell_type": "code",
     "collapsed": false,
     "input": [
      "out_stem = str(OUT_PATH / '{}'.format(html_list[0].stem))"
     ],
     "language": "python",
     "metadata": {},
     "outputs": [],
     "prompt_number": 19
    },
    {
     "cell_type": "code",
     "collapsed": false,
     "input": [
      "df.to_csv(out_stem + '.csv', index=False)\n",
      "df.to_excel(out_stem + '.xlsx', index=False)"
     ],
     "language": "python",
     "metadata": {},
     "outputs": [],
     "prompt_number": 20
    },
    {
     "cell_type": "heading",
     "level": 1,
     "metadata": {},
     "source": [
      "102"
     ]
    },
    {
     "cell_type": "heading",
     "level": 2,
     "metadata": {},
     "source": [
      "\u7adf\u7136\u6c92\u6709\u91d1\u984d\u2026\u518f\u2026\u2026"
     ]
    },
    {
     "cell_type": "code",
     "collapsed": false,
     "input": [
      "dom = pq(html_list[1].open().read())\n",
      "df = pd.read_html(dom.html(), header=0, infer_types=False)[0]"
     ],
     "language": "python",
     "metadata": {},
     "outputs": [],
     "prompt_number": 77
    },
    {
     "cell_type": "code",
     "collapsed": false,
     "input": [
      "shifted_ix = df.loc[df['\u55ae\u4f4d'] == 'nan'].index\n",
      "df.ix[shifted_ix, 1:] = df.ix[shifted_ix, :-1].values\n",
      "df.loc[shifted_ix, '\u5b63'] = np.NaN"
     ],
     "language": "python",
     "metadata": {},
     "outputs": [],
     "prompt_number": 78
    },
    {
     "cell_type": "code",
     "collapsed": false,
     "input": [
      "# row 1 is special case\n",
      "df.ix[1, 2:6] = df.ix[1, 1:5].values\n",
      "df.iloc[1, 6] = np.NaN"
     ],
     "language": "python",
     "metadata": {},
     "outputs": [],
     "prompt_number": 79
    },
    {
     "cell_type": "code",
     "collapsed": false,
     "input": [
      "df = df.ffill()"
     ],
     "language": "python",
     "metadata": {},
     "outputs": [],
     "prompt_number": 80
    },
    {
     "cell_type": "code",
     "collapsed": false,
     "input": [
      "df.head()"
     ],
     "language": "python",
     "metadata": {},
     "outputs": [
      {
       "html": [
        "<div style=\"max-height:1000px;max-width:1500px;overflow:auto;\">\n",
        "<table border=\"1\" class=\"dataframe\">\n",
        "  <thead>\n",
        "    <tr style=\"text-align: right;\">\n",
        "      <th></th>\n",
        "      <th>\u5b63</th>\n",
        "      <th>\u5ee3\u544a\u4e3b\u8981\u5167\u5bb9</th>\n",
        "      <th>\u5a92\u9ad4\u578b\u614b</th>\n",
        "      <th>\u520a\u64ad\u5a92\u9ad4</th>\n",
        "      <th>\u520a\u64ad\u6642\u9593</th>\n",
        "      <th>\u9732\u51fa  \u6b21\u6578</th>\n",
        "      <th>\u55ae\u4f4d</th>\n",
        "    </tr>\n",
        "  </thead>\n",
        "  <tbody>\n",
        "    <tr>\n",
        "      <th>0</th>\n",
        "      <td> \u7b2c\u4e8c \u5b63</td>\n",
        "      <td>               \u8077\u707d\u52de\u5de5\u4fdd\u8b77\u8cc7\u6e90\u9ad4\u7cfb</td>\n",
        "      <td> \u5e73\u9762\u5a92\u9ad4</td>\n",
        "      <td>                                          \u806f\u5408\u5831\u3001\u81ea\u7531\u6642\u5831</td>\n",
        "      <td> 102\u5e744\u670826\u65e5</td>\n",
        "      <td>   2</td>\n",
        "      <td> \u798f\u5229\u8655\u3001\u5b89\u885b\u8655\u3001\u52de\u4fdd\u8655\u3001\u689d\u4ef6\u8655\u3001\u52de\u8cc7\u8655\u3001\u52de\u4fdd\u5c40\u3001\u8077\u8a13\u5c40</td>\n",
        "    </tr>\n",
        "    <tr>\n",
        "      <th>1</th>\n",
        "      <td> \u7b2c\u4e8c \u5b63</td>\n",
        "      <td>                     \u7db2\u8def\u5a92\u9ad4</td>\n",
        "      <td> \u7db2\u8def\u5a92\u9ad4</td>\n",
        "      <td>                                             \u806f\u5408\u65b0\u805e\u7db2</td>\n",
        "      <td> 102\u5e744\u670829\u65e5</td>\n",
        "      <td>   1</td>\n",
        "      <td> \u798f\u5229\u8655\u3001\u5b89\u885b\u8655\u3001\u52de\u4fdd\u8655\u3001\u689d\u4ef6\u8655\u3001\u52de\u8cc7\u8655\u3001\u52de\u4fdd\u5c40\u3001\u8077\u8a13\u5c40</td>\n",
        "    </tr>\n",
        "    <tr>\n",
        "      <th>2</th>\n",
        "      <td> \u7b2c\u4e8c \u5b63</td>\n",
        "      <td>                 \u80b2\u5b30\u7559\u8077\u505c\u85aa\u6d25\u8cbc</td>\n",
        "      <td> \u5ee3\u64ad\u5a92\u9ad4</td>\n",
        "      <td> \u4eba\u4eba\u96fb\u53f0\u3001\u5929\u5357\u96fb\u53f0\u3001\u65b0\u7af9\u52de\u5de5\u4e4b\u8072\u3001\u5c71\u6d77\u5c6f\u96fb\u53f0\u3001\u5609\u7fa9\u4e4b\u8072\u3001\u6e2f\u90fd\u96fb\u53f0\u3001\u5357\u65b9\u4e4b\u97f3\u3001\u5c4f\u6771\u4e4b\u8072\u3001\u4e0b\u6e2f\u4e4b...</td>\n",
        "      <td>    102\u5e745\u6708</td>\n",
        "      <td> 374</td>\n",
        "      <td>                         \u52de\u4fdd\u8655</td>\n",
        "    </tr>\n",
        "    <tr>\n",
        "      <th>3</th>\n",
        "      <td> \u7b2c\u4e8c \u5b63</td>\n",
        "      <td> \u64a5\u6253\u300c\u8077\u707d\u52de\u5de5\u8aee\u8a62\u5c08\u7dda0800-001-850\u300d</td>\n",
        "      <td> \u5ee3\u64ad\u5a92\u9ad4</td>\n",
        "      <td>              \u53f0\u5317\u4e4b\u97f3\u3001\u65b0\u8fb2\u96fb\u53f0\u3001\u4e2d\u53f0\u7063\u5ee3\u64ad\u3001\u6fc1\u6c34\u6eaa\u96fb\u53f0\u3001\u9ad8\u5c4f\u5ee3\u64ad\u3001\u6f6e\u5dde\u4e4b\u8072\u3001\u8c50\u84ee\u96fb\u53f0</td>\n",
        "      <td> 102\u5e745\u6708\u81f36\u6708</td>\n",
        "      <td> 200</td>\n",
        "      <td>                         \u798f\u5229\u8655</td>\n",
        "    </tr>\n",
        "    <tr>\n",
        "      <th>4</th>\n",
        "      <td> \u7b2c\u4e8c \u5b63</td>\n",
        "      <td>                 \u5c40\u9650\u7a7a\u9593\u707d\u5bb3\u9810\u9632</td>\n",
        "      <td> \u5ee3\u64ad\u5a92\u9ad4</td>\n",
        "      <td> ICRT\u3001\u5168\u666f\u5ee3\u64ad\u3001\u65b0\u7af9\u52de\u5de5\u4e4b\u8072\u3001\u5947\u5cf0\u96fb\u53f0\u3001\u671b\u6625\u98a8\u5ee3\u64ad\u3001\u5609\u6a02\u5ee3\u64ad\u3001\u4e2d\u90e8\u8abf\u983b\u3001\u5feb\u6a02\u96fb\u53f0\u3001\u98a8\u8072\u96fb...</td>\n",
        "      <td>    102\u5e745\u6708</td>\n",
        "      <td> 251</td>\n",
        "      <td>                         \u6aa2\u67e5\u8655</td>\n",
        "    </tr>\n",
        "  </tbody>\n",
        "</table>\n",
        "<p>5 rows \u00d7 7 columns</p>\n",
        "</div>"
       ],
       "metadata": {},
       "output_type": "pyout",
       "prompt_number": 82,
       "text": [
        "      \u5b63                    \u5ee3\u544a\u4e3b\u8981\u5167\u5bb9  \u5a92\u9ad4\u578b\u614b  \\\n",
        "0  \u7b2c\u4e8c \u5b63                \u8077\u707d\u52de\u5de5\u4fdd\u8b77\u8cc7\u6e90\u9ad4\u7cfb  \u5e73\u9762\u5a92\u9ad4   \n",
        "1  \u7b2c\u4e8c \u5b63                      \u7db2\u8def\u5a92\u9ad4  \u7db2\u8def\u5a92\u9ad4   \n",
        "2  \u7b2c\u4e8c \u5b63                  \u80b2\u5b30\u7559\u8077\u505c\u85aa\u6d25\u8cbc  \u5ee3\u64ad\u5a92\u9ad4   \n",
        "3  \u7b2c\u4e8c \u5b63  \u64a5\u6253\u300c\u8077\u707d\u52de\u5de5\u8aee\u8a62\u5c08\u7dda0800-001-850\u300d  \u5ee3\u64ad\u5a92\u9ad4   \n",
        "4  \u7b2c\u4e8c \u5b63                  \u5c40\u9650\u7a7a\u9593\u707d\u5bb3\u9810\u9632  \u5ee3\u64ad\u5a92\u9ad4   \n",
        "\n",
        "                                                \u520a\u64ad\u5a92\u9ad4       \u520a\u64ad\u6642\u9593 \u9732\u51fa  \u6b21\u6578  \\\n",
        "0                                           \u806f\u5408\u5831\u3001\u81ea\u7531\u6642\u5831  102\u5e744\u670826\u65e5      2   \n",
        "1                                              \u806f\u5408\u65b0\u805e\u7db2  102\u5e744\u670829\u65e5      1   \n",
        "2  \u4eba\u4eba\u96fb\u53f0\u3001\u5929\u5357\u96fb\u53f0\u3001\u65b0\u7af9\u52de\u5de5\u4e4b\u8072\u3001\u5c71\u6d77\u5c6f\u96fb\u53f0\u3001\u5609\u7fa9\u4e4b\u8072\u3001\u6e2f\u90fd\u96fb\u53f0\u3001\u5357\u65b9\u4e4b\u97f3\u3001\u5c4f\u6771\u4e4b\u8072\u3001\u4e0b\u6e2f\u4e4b...     102\u5e745\u6708    374   \n",
        "3               \u53f0\u5317\u4e4b\u97f3\u3001\u65b0\u8fb2\u96fb\u53f0\u3001\u4e2d\u53f0\u7063\u5ee3\u64ad\u3001\u6fc1\u6c34\u6eaa\u96fb\u53f0\u3001\u9ad8\u5c4f\u5ee3\u64ad\u3001\u6f6e\u5dde\u4e4b\u8072\u3001\u8c50\u84ee\u96fb\u53f0  102\u5e745\u6708\u81f36\u6708    200   \n",
        "4  ICRT\u3001\u5168\u666f\u5ee3\u64ad\u3001\u65b0\u7af9\u52de\u5de5\u4e4b\u8072\u3001\u5947\u5cf0\u96fb\u53f0\u3001\u671b\u6625\u98a8\u5ee3\u64ad\u3001\u5609\u6a02\u5ee3\u64ad\u3001\u4e2d\u90e8\u8abf\u983b\u3001\u5feb\u6a02\u96fb\u53f0\u3001\u98a8\u8072\u96fb...     102\u5e745\u6708    251   \n",
        "\n",
        "                            \u55ae\u4f4d  \n",
        "0  \u798f\u5229\u8655\u3001\u5b89\u885b\u8655\u3001\u52de\u4fdd\u8655\u3001\u689d\u4ef6\u8655\u3001\u52de\u8cc7\u8655\u3001\u52de\u4fdd\u5c40\u3001\u8077\u8a13\u5c40  \n",
        "1  \u798f\u5229\u8655\u3001\u5b89\u885b\u8655\u3001\u52de\u4fdd\u8655\u3001\u689d\u4ef6\u8655\u3001\u52de\u8cc7\u8655\u3001\u52de\u4fdd\u5c40\u3001\u8077\u8a13\u5c40  \n",
        "2                          \u52de\u4fdd\u8655  \n",
        "3                          \u798f\u5229\u8655  \n",
        "4                          \u6aa2\u67e5\u8655  \n",
        "\n",
        "[5 rows x 7 columns]"
       ]
      }
     ],
     "prompt_number": 82
    },
    {
     "cell_type": "code",
     "collapsed": false,
     "input": [
      "df['\u5a92\u9ad4'] = df.apply(\n",
      "    lambda r: '{}\uff1a{}'.format(r['\u5a92\u9ad4\u578b\u614b'], r['\u520a\u64ad\u5a92\u9ad4']),\n",
      "    axis=1\n",
      ")"
     ],
     "language": "python",
     "metadata": {},
     "outputs": [],
     "prompt_number": 72
    },
    {
     "cell_type": "code",
     "collapsed": false,
     "input": [
      "new_index = df.columns.values\n",
      "new_index[1] = '\u4e3b\u984c'\n",
      "new_index[4] = '\u6642\u9593'\n",
      "new_index[6] = '\u91d1\u984d'\n",
      "new_index[7] = '\u57f7\u884c\u55ae\u4f4d'\n",
      "df.columns = new_index"
     ],
     "language": "python",
     "metadata": {},
     "outputs": [],
     "prompt_number": 73
    },
    {
     "cell_type": "code",
     "collapsed": false,
     "input": [
      "df['\u5099\u8a3b']= df.apply(\n",
      "    lambda r: '\u9732\u51fa\u6b21\u6578\uff1a{}\\n\u5b63\uff1a{}'.format(r[5], r[0]),\n",
      "    axis=1\n",
      ")"
     ],
     "language": "python",
     "metadata": {},
     "outputs": [],
     "prompt_number": 74
    },
    {
     "cell_type": "code",
     "collapsed": false,
     "input": [
      "all_prj = set()\n",
      "df = df.apply(norm_budget, axis=1)"
     ],
     "language": "python",
     "metadata": {},
     "outputs": [
      {
       "output_type": "stream",
       "stream": "stdout",
       "text": [
        "\u798f\u5229\u8655\u3001\u5b89\u885b\u8655\u3001\u52de\u4fdd\u8655\u3001\u689d\u4ef6\u8655\u3001\u52de\u8cc7\u8655\u3001\u52de\u4fdd\u5c40\u3001\u8077\u8a13\u5c40 is sth strange\n",
        "\u798f\u5229\u8655\u3001\u5b89\u885b\u8655\u3001\u52de\u4fdd\u8655\u3001\u689d\u4ef6\u8655\u3001\u52de\u8cc7\u8655\u3001\u52de\u4fdd\u5c40\u3001\u8077\u8a13\u5c40 is sth strange\n",
        "\u798f\u5229\u8655\u3001\u5b89\u885b\u8655\u3001\u52de\u4fdd\u8655\u3001\u689d\u4ef6\u8655\u3001\u52de\u8cc7\u8655\u3001\u52de\u4fdd\u5c40\u3001\u8077\u8a13\u5c40 is sth strange\n",
        "\u52de\u4fdd\u8655 is sth strange\n",
        "\u798f\u5229\u8655 is sth strange\n",
        "\u6aa2\u67e5\u8655 is sth strange\n",
        "\u52de\u4fdd\u8655 is sth strange\n",
        "\u689d\u4ef6\u8655\u3001\u52de\u8cc7\u8655\u3001\u6aa2\u67e5\u8655\u3001\u52de\u4fdd\u8655\u3001\u52de\u4fdd\u5c40 is sth strange\n",
        "\u689d\u4ef6\u8655\u3001\u5b89\u885b\u8655\u3001\u52de\u4fdd\u5c40\u3001\u8077\u8a13\u5c40 is sth strange\n"
       ]
      }
     ],
     "prompt_number": 75
    },
    {
     "cell_type": "code",
     "collapsed": false,
     "input": [
      "df.head()"
     ],
     "language": "python",
     "metadata": {},
     "outputs": [
      {
       "html": [
        "<div style=\"max-height:1000px;max-width:1500px;overflow:auto;\">\n",
        "<table border=\"1\" class=\"dataframe\">\n",
        "  <thead>\n",
        "    <tr style=\"text-align: right;\">\n",
        "      <th></th>\n",
        "      <th>\u5b63</th>\n",
        "      <th>\u4e3b\u984c</th>\n",
        "      <th>\u5a92\u9ad4\u578b\u614b</th>\n",
        "      <th>\u520a\u64ad\u5a92\u9ad4</th>\n",
        "      <th>\u6642\u9593</th>\n",
        "      <th>\u9732\u51fa  \u6b21\u6578</th>\n",
        "      <th>\u91d1\u984d</th>\n",
        "      <th>\u57f7\u884c\u55ae\u4f4d</th>\n",
        "      <th>\u5099\u8a3b</th>\n",
        "    </tr>\n",
        "  </thead>\n",
        "  <tbody>\n",
        "    <tr>\n",
        "      <th>0</th>\n",
        "      <td> \u7b2c\u4e8c \u5b63</td>\n",
        "      <td>               \u8077\u707d\u52de\u5de5\u4fdd\u8b77\u8cc7\u6e90\u9ad4\u7cfb</td>\n",
        "      <td> \u5e73\u9762\u5a92\u9ad4</td>\n",
        "      <td>                                          \u806f\u5408\u5831\u3001\u81ea\u7531\u6642\u5831</td>\n",
        "      <td> 102\u5e744\u670826\u65e5</td>\n",
        "      <td>   2</td>\n",
        "      <td> \u798f\u5229\u8655\u3001\u5b89\u885b\u8655\u3001\u52de\u4fdd\u8655\u3001\u689d\u4ef6\u8655\u3001\u52de\u8cc7\u8655\u3001\u52de\u4fdd\u5c40\u3001\u8077\u8a13\u5c40</td>\n",
        "      <td>                                     \u5e73\u9762\u5a92\u9ad4\uff1a\u806f\u5408\u5831\u3001\u81ea\u7531\u6642\u5831</td>\n",
        "      <td>   \u9732\u51fa\u6b21\u6578\uff1a2\\n\u5b63\uff1a\u7b2c\u4e8c \u5b63</td>\n",
        "    </tr>\n",
        "    <tr>\n",
        "      <th>1</th>\n",
        "      <td> \u7b2c\u4e8c \u5b63</td>\n",
        "      <td>                     \u7db2\u8def\u5a92\u9ad4</td>\n",
        "      <td> \u7db2\u8def\u5a92\u9ad4</td>\n",
        "      <td>                                             \u806f\u5408\u65b0\u805e\u7db2</td>\n",
        "      <td> 102\u5e744\u670829\u65e5</td>\n",
        "      <td>   1</td>\n",
        "      <td> \u798f\u5229\u8655\u3001\u5b89\u885b\u8655\u3001\u52de\u4fdd\u8655\u3001\u689d\u4ef6\u8655\u3001\u52de\u8cc7\u8655\u3001\u52de\u4fdd\u5c40\u3001\u8077\u8a13\u5c40</td>\n",
        "      <td>                                        \u7db2\u8def\u5a92\u9ad4\uff1a\u806f\u5408\u65b0\u805e\u7db2</td>\n",
        "      <td>   \u9732\u51fa\u6b21\u6578\uff1a1\\n\u5b63\uff1a\u7b2c\u4e8c \u5b63</td>\n",
        "    </tr>\n",
        "    <tr>\n",
        "      <th>2</th>\n",
        "      <td> \u7b2c\u4e8c \u5b63</td>\n",
        "      <td>                 \u80b2\u5b30\u7559\u8077\u505c\u85aa\u6d25\u8cbc</td>\n",
        "      <td> \u5ee3\u64ad\u5a92\u9ad4</td>\n",
        "      <td> \u4eba\u4eba\u96fb\u53f0\u3001\u5929\u5357\u96fb\u53f0\u3001\u65b0\u7af9\u52de\u5de5\u4e4b\u8072\u3001\u5c71\u6d77\u5c6f\u96fb\u53f0\u3001\u5609\u7fa9\u4e4b\u8072\u3001\u6e2f\u90fd\u96fb\u53f0\u3001\u5357\u65b9\u4e4b\u97f3\u3001\u5c4f\u6771\u4e4b\u8072\u3001\u4e0b\u6e2f\u4e4b...</td>\n",
        "      <td>    102\u5e745\u6708</td>\n",
        "      <td> 374</td>\n",
        "      <td>                         \u52de\u4fdd\u8655</td>\n",
        "      <td> \u5ee3\u64ad\u5a92\u9ad4\uff1a\u4eba\u4eba\u96fb\u53f0\u3001\u5929\u5357\u96fb\u53f0\u3001\u65b0\u7af9\u52de\u5de5\u4e4b\u8072\u3001\u5c71\u6d77\u5c6f\u96fb\u53f0\u3001\u5609\u7fa9\u4e4b\u8072\u3001\u6e2f\u90fd\u96fb\u53f0\u3001\u5357\u65b9\u4e4b\u97f3\u3001\u5c4f\u6771\u4e4b...</td>\n",
        "      <td> \u9732\u51fa\u6b21\u6578\uff1a374\\n\u5b63\uff1a\u7b2c\u4e8c \u5b63</td>\n",
        "    </tr>\n",
        "    <tr>\n",
        "      <th>3</th>\n",
        "      <td> \u7b2c\u4e8c \u5b63</td>\n",
        "      <td> \u64a5\u6253\u300c\u8077\u707d\u52de\u5de5\u8aee\u8a62\u5c08\u7dda0800-001-850\u300d</td>\n",
        "      <td> \u5ee3\u64ad\u5a92\u9ad4</td>\n",
        "      <td>              \u53f0\u5317\u4e4b\u97f3\u3001\u65b0\u8fb2\u96fb\u53f0\u3001\u4e2d\u53f0\u7063\u5ee3\u64ad\u3001\u6fc1\u6c34\u6eaa\u96fb\u53f0\u3001\u9ad8\u5c4f\u5ee3\u64ad\u3001\u6f6e\u5dde\u4e4b\u8072\u3001\u8c50\u84ee\u96fb\u53f0</td>\n",
        "      <td> 102\u5e745\u6708\u81f36\u6708</td>\n",
        "      <td> 200</td>\n",
        "      <td>                         \u798f\u5229\u8655</td>\n",
        "      <td>         \u5ee3\u64ad\u5a92\u9ad4\uff1a\u53f0\u5317\u4e4b\u97f3\u3001\u65b0\u8fb2\u96fb\u53f0\u3001\u4e2d\u53f0\u7063\u5ee3\u64ad\u3001\u6fc1\u6c34\u6eaa\u96fb\u53f0\u3001\u9ad8\u5c4f\u5ee3\u64ad\u3001\u6f6e\u5dde\u4e4b\u8072\u3001\u8c50\u84ee\u96fb\u53f0</td>\n",
        "      <td> \u9732\u51fa\u6b21\u6578\uff1a200\\n\u5b63\uff1a\u7b2c\u4e8c \u5b63</td>\n",
        "    </tr>\n",
        "    <tr>\n",
        "      <th>4</th>\n",
        "      <td> \u7b2c\u4e8c \u5b63</td>\n",
        "      <td>                 \u5c40\u9650\u7a7a\u9593\u707d\u5bb3\u9810\u9632</td>\n",
        "      <td> \u5ee3\u64ad\u5a92\u9ad4</td>\n",
        "      <td> ICRT\u3001\u5168\u666f\u5ee3\u64ad\u3001\u65b0\u7af9\u52de\u5de5\u4e4b\u8072\u3001\u5947\u5cf0\u96fb\u53f0\u3001\u671b\u6625\u98a8\u5ee3\u64ad\u3001\u5609\u6a02\u5ee3\u64ad\u3001\u4e2d\u90e8\u8abf\u983b\u3001\u5feb\u6a02\u96fb\u53f0\u3001\u98a8\u8072\u96fb...</td>\n",
        "      <td>    102\u5e745\u6708</td>\n",
        "      <td> 251</td>\n",
        "      <td>                         \u6aa2\u67e5\u8655</td>\n",
        "      <td> \u5ee3\u64ad\u5a92\u9ad4\uff1aICRT\u3001\u5168\u666f\u5ee3\u64ad\u3001\u65b0\u7af9\u52de\u5de5\u4e4b\u8072\u3001\u5947\u5cf0\u96fb\u53f0\u3001\u671b\u6625\u98a8\u5ee3\u64ad\u3001\u5609\u6a02\u5ee3\u64ad\u3001\u4e2d\u90e8\u8abf\u983b\u3001\u5feb\u6a02\u96fb...</td>\n",
        "      <td> \u9732\u51fa\u6b21\u6578\uff1a251\\n\u5b63\uff1a\u7b2c\u4e8c \u5b63</td>\n",
        "    </tr>\n",
        "  </tbody>\n",
        "</table>\n",
        "<p>5 rows \u00d7 9 columns</p>\n",
        "</div>"
       ],
       "metadata": {},
       "output_type": "pyout",
       "prompt_number": 76,
       "text": [
        "      \u5b63                        \u4e3b\u984c  \u5a92\u9ad4\u578b\u614b  \\\n",
        "0  \u7b2c\u4e8c \u5b63                \u8077\u707d\u52de\u5de5\u4fdd\u8b77\u8cc7\u6e90\u9ad4\u7cfb  \u5e73\u9762\u5a92\u9ad4   \n",
        "1  \u7b2c\u4e8c \u5b63                      \u7db2\u8def\u5a92\u9ad4  \u7db2\u8def\u5a92\u9ad4   \n",
        "2  \u7b2c\u4e8c \u5b63                  \u80b2\u5b30\u7559\u8077\u505c\u85aa\u6d25\u8cbc  \u5ee3\u64ad\u5a92\u9ad4   \n",
        "3  \u7b2c\u4e8c \u5b63  \u64a5\u6253\u300c\u8077\u707d\u52de\u5de5\u8aee\u8a62\u5c08\u7dda0800-001-850\u300d  \u5ee3\u64ad\u5a92\u9ad4   \n",
        "4  \u7b2c\u4e8c \u5b63                  \u5c40\u9650\u7a7a\u9593\u707d\u5bb3\u9810\u9632  \u5ee3\u64ad\u5a92\u9ad4   \n",
        "\n",
        "                                                \u520a\u64ad\u5a92\u9ad4         \u6642\u9593 \u9732\u51fa  \u6b21\u6578  \\\n",
        "0                                           \u806f\u5408\u5831\u3001\u81ea\u7531\u6642\u5831  102\u5e744\u670826\u65e5      2   \n",
        "1                                              \u806f\u5408\u65b0\u805e\u7db2  102\u5e744\u670829\u65e5      1   \n",
        "2  \u4eba\u4eba\u96fb\u53f0\u3001\u5929\u5357\u96fb\u53f0\u3001\u65b0\u7af9\u52de\u5de5\u4e4b\u8072\u3001\u5c71\u6d77\u5c6f\u96fb\u53f0\u3001\u5609\u7fa9\u4e4b\u8072\u3001\u6e2f\u90fd\u96fb\u53f0\u3001\u5357\u65b9\u4e4b\u97f3\u3001\u5c4f\u6771\u4e4b\u8072\u3001\u4e0b\u6e2f\u4e4b...     102\u5e745\u6708    374   \n",
        "3               \u53f0\u5317\u4e4b\u97f3\u3001\u65b0\u8fb2\u96fb\u53f0\u3001\u4e2d\u53f0\u7063\u5ee3\u64ad\u3001\u6fc1\u6c34\u6eaa\u96fb\u53f0\u3001\u9ad8\u5c4f\u5ee3\u64ad\u3001\u6f6e\u5dde\u4e4b\u8072\u3001\u8c50\u84ee\u96fb\u53f0  102\u5e745\u6708\u81f36\u6708    200   \n",
        "4  ICRT\u3001\u5168\u666f\u5ee3\u64ad\u3001\u65b0\u7af9\u52de\u5de5\u4e4b\u8072\u3001\u5947\u5cf0\u96fb\u53f0\u3001\u671b\u6625\u98a8\u5ee3\u64ad\u3001\u5609\u6a02\u5ee3\u64ad\u3001\u4e2d\u90e8\u8abf\u983b\u3001\u5feb\u6a02\u96fb\u53f0\u3001\u98a8\u8072\u96fb...     102\u5e745\u6708    251   \n",
        "\n",
        "                            \u91d1\u984d  \\\n",
        "0  \u798f\u5229\u8655\u3001\u5b89\u885b\u8655\u3001\u52de\u4fdd\u8655\u3001\u689d\u4ef6\u8655\u3001\u52de\u8cc7\u8655\u3001\u52de\u4fdd\u5c40\u3001\u8077\u8a13\u5c40   \n",
        "1  \u798f\u5229\u8655\u3001\u5b89\u885b\u8655\u3001\u52de\u4fdd\u8655\u3001\u689d\u4ef6\u8655\u3001\u52de\u8cc7\u8655\u3001\u52de\u4fdd\u5c40\u3001\u8077\u8a13\u5c40   \n",
        "2                          \u52de\u4fdd\u8655   \n",
        "3                          \u798f\u5229\u8655   \n",
        "4                          \u6aa2\u67e5\u8655   \n",
        "\n",
        "                                                \u57f7\u884c\u55ae\u4f4d                \u5099\u8a3b  \n",
        "0                                      \u5e73\u9762\u5a92\u9ad4\uff1a\u806f\u5408\u5831\u3001\u81ea\u7531\u6642\u5831    \u9732\u51fa\u6b21\u6578\uff1a2\\n\u5b63\uff1a\u7b2c\u4e8c \u5b63  \n",
        "1                                         \u7db2\u8def\u5a92\u9ad4\uff1a\u806f\u5408\u65b0\u805e\u7db2    \u9732\u51fa\u6b21\u6578\uff1a1\\n\u5b63\uff1a\u7b2c\u4e8c \u5b63  \n",
        "2  \u5ee3\u64ad\u5a92\u9ad4\uff1a\u4eba\u4eba\u96fb\u53f0\u3001\u5929\u5357\u96fb\u53f0\u3001\u65b0\u7af9\u52de\u5de5\u4e4b\u8072\u3001\u5c71\u6d77\u5c6f\u96fb\u53f0\u3001\u5609\u7fa9\u4e4b\u8072\u3001\u6e2f\u90fd\u96fb\u53f0\u3001\u5357\u65b9\u4e4b\u97f3\u3001\u5c4f\u6771\u4e4b...  \u9732\u51fa\u6b21\u6578\uff1a374\\n\u5b63\uff1a\u7b2c\u4e8c \u5b63  \n",
        "3          \u5ee3\u64ad\u5a92\u9ad4\uff1a\u53f0\u5317\u4e4b\u97f3\u3001\u65b0\u8fb2\u96fb\u53f0\u3001\u4e2d\u53f0\u7063\u5ee3\u64ad\u3001\u6fc1\u6c34\u6eaa\u96fb\u53f0\u3001\u9ad8\u5c4f\u5ee3\u64ad\u3001\u6f6e\u5dde\u4e4b\u8072\u3001\u8c50\u84ee\u96fb\u53f0  \u9732\u51fa\u6b21\u6578\uff1a200\\n\u5b63\uff1a\u7b2c\u4e8c \u5b63  \n",
        "4  \u5ee3\u64ad\u5a92\u9ad4\uff1aICRT\u3001\u5168\u666f\u5ee3\u64ad\u3001\u65b0\u7af9\u52de\u5de5\u4e4b\u8072\u3001\u5947\u5cf0\u96fb\u53f0\u3001\u671b\u6625\u98a8\u5ee3\u64ad\u3001\u5609\u6a02\u5ee3\u64ad\u3001\u4e2d\u90e8\u8abf\u983b\u3001\u5feb\u6a02\u96fb...  \u9732\u51fa\u6b21\u6578\uff1a251\\n\u5b63\uff1a\u7b2c\u4e8c \u5b63  \n",
        "\n",
        "[5 rows x 9 columns]"
       ]
      }
     ],
     "prompt_number": 76
    },
    {
     "cell_type": "code",
     "collapsed": false,
     "input": [],
     "language": "python",
     "metadata": {},
     "outputs": []
    }
   ],
   "metadata": {}
  }
 ]
}