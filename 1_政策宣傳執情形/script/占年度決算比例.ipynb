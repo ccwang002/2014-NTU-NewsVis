{
 "metadata": {
  "name": ""
 },
 "nbformat": 3,
 "nbformat_minor": 0,
 "worksheets": [
  {
   "cells": [
    {
     "cell_type": "code",
     "collapsed": false,
     "input": [
      "from pathlib import Path\n",
      "import pandas as pd\n",
      "import numpy as np\n",
      "import re\n",
      "\n",
      "import matplotlib as mpl\n",
      "mpl.use('agg')\n",
      "%pylab inline\n",
      "chtfont2 = mpl.font_manager.FontProperties(fname='/Library/Fonts/\u5137\u9ed1 Pro.ttf')\n",
      "chtfont = mpl.font_manager.FontProperties(fname='/Users/liang/Library/Fonts/DFHeiStd-W5.otf')\n",
      "\n",
      "rcParams['figure.figsize'] = (10, 4)\n",
      "rcParams['savefig.format'] = 'svg'"
     ],
     "language": "python",
     "metadata": {},
     "outputs": [
      {
       "output_type": "stream",
       "stream": "stdout",
       "text": [
        "Populating the interactive namespace from numpy and matplotlib\n"
       ]
      }
     ],
     "prompt_number": 1
    },
    {
     "cell_type": "code",
     "collapsed": false,
     "input": [
      "final_dir = Path('../\u7e3d\u6574\u7406')\n",
      "all_xls = [p for p in final_dir.iterdir() if p.suffix == '.xlsx' and '\u52de\u52d5' not in str(p)]\n",
      "df_by_disp = {\n",
      "    p.stem[:3]: pd.read_excel(str(p), 0)\n",
      "    for p in all_xls\n",
      "}\n",
      "all_disp = set(df_by_disp.keys())\n",
      "RESULT_DIR = Path('../\u8f38\u51fa\u5716\u8868/')"
     ],
     "language": "python",
     "metadata": {},
     "outputs": [],
     "prompt_number": 2
    },
    {
     "cell_type": "code",
     "collapsed": false,
     "input": [
      "df = df_by_disp['\u6559\u80b2\u90e8']\n",
      "df.groupby('\u6c11\u570b\u5e74').sum().loc[:, '\u91d1\u984d']"
     ],
     "language": "python",
     "metadata": {},
     "outputs": [
      {
       "metadata": {},
       "output_type": "pyout",
       "prompt_number": 10,
       "text": [
        "\u6c11\u570b\u5e74\n",
        "101    55831697\n",
        "102    34648366\n",
        "Name: \u91d1\u984d, dtype: int64"
       ]
      }
     ],
     "prompt_number": 10
    },
    {
     "cell_type": "code",
     "collapsed": false,
     "input": [
      "df_spend = pd.DataFrame({\n",
      "    disp: df.groupby('\u6c11\u570b\u5e74').sum().loc[:, '\u91d1\u984d']\n",
      "    for disp, df in df_by_disp.items()\n",
      "}).T\n",
      "df_spend.columns = [str(c) for c in df_spend.columns]"
     ],
     "language": "python",
     "metadata": {},
     "outputs": [],
     "prompt_number": 40
    },
    {
     "cell_type": "code",
     "collapsed": false,
     "input": [
      "exact_expend = '''\\\n",
      "    \u6559\u80b2\u90e8101\u5e74\u6c7a\u7b97\uff1a186,443,590,706\n",
      "    \u539f\u80fd\u6703101\u5e74\u6c7a\u7b97\uff1a3,000,865,618\n",
      "    \u8fb2\u59d4\u6703101\u5e74\u6c7a\u7b97\uff1a89,637,981,476\n",
      "    \u8fb2\u59d4\u6703102\u5e74\u6c7a\u7b97\uff1a90,807,170,289 \n",
      "    \u6cd5\u52d9\u90e8101\u5e74\u6c7a\u7b97\uff1a1,077,380,993\n",
      "    \u5916\u4ea4\u90e8101\u5e74\u6c7a\u7b97\uff1a7,427,444,293\n",
      "    \u9678\u59d4\u6703102\u5e74\u6c7a\u7b97\uff1a972,374,368\n",
      "    \u9678\u59d4\u6703101\u5e74\u6c7a\u7b97\uff1a1,070,970,266\n",
      "    \u570b\u9632\u90e8100\u5e74\u6c7a\u7b97\uff1a287,442,623,923\n",
      "    \u539f\u6c11\u6703102\u5e74\u6c7a\u7b97\uff1a710,855,021\n",
      "'''"
     ],
     "language": "python",
     "metadata": {},
     "outputs": [],
     "prompt_number": 41
    },
    {
     "cell_type": "code",
     "collapsed": false,
     "input": [
      "df_exact = df_spend.copy()\n",
      "df_exact.iloc[:, :] = 0"
     ],
     "language": "python",
     "metadata": {},
     "outputs": [],
     "prompt_number": 47
    },
    {
     "cell_type": "code",
     "collapsed": false,
     "input": [
      "spend_parse = re.compile('(.{3})(\\d+)\u5e74\u6c7a\u7b97\uff1a(\\d+)', re.UNICODE).search\n",
      "for spend_record in exact_expend.splitlines():\n",
      "    disp, year, exact = spend_parse(spend_record.replace(',', '')).groups()\n",
      "    df_exact.at[disp, year] = int(exact)\n",
      "    print(disp, year, exact)"
     ],
     "language": "python",
     "metadata": {},
     "outputs": [
      {
       "output_type": "stream",
       "stream": "stdout",
       "text": [
        "\u6559\u80b2\u90e8 101 186443590706\n",
        "\u539f\u80fd\u6703 101 3000865618\n",
        "\u8fb2\u59d4\u6703 101 89637981476\n",
        "\u8fb2\u59d4\u6703 102 90807170289\n",
        "\u6cd5\u52d9\u90e8 101 1077380993\n",
        "\u5916\u4ea4\u90e8 101 7427444293\n",
        "\u9678\u59d4\u6703 102 972374368\n",
        "\u9678\u59d4\u6703 101 1070970266\n",
        "\u570b\u9632\u90e8 100 287442623923\n",
        "\u539f\u6c11\u6703 102 710855021\n"
       ]
      }
     ],
     "prompt_number": 48
    },
    {
     "cell_type": "code",
     "collapsed": false,
     "input": [
      "df_final = pd.read_csv(str(RESULT_DIR / '\u6240\u6709\u90e8\u6703\u6309\u5a92\u9ad4\u985e\u578b\u9810\u7b97\u91d1\u984d.csv'), index_col=0)"
     ],
     "language": "python",
     "metadata": {},
     "outputs": [],
     "prompt_number": 61
    },
    {
     "cell_type": "code",
     "collapsed": false,
     "input": [
      "df_final['\u6bcf\u5e74\u5e73\u5747\u6c7a\u7b97'] = df_exact.mean(axis=1)\n",
      "df_final['\u5ee3\u544a\u5360\u6c7a\u7b97\u6bd4\u4f8b(%)'] = 100 * df_final['\u6bcf\u5e74\u5e73\u5747\u9810\u7b97\u652f\u51fa'] / df_final['\u6bcf\u5e74\u5e73\u5747\u6c7a\u7b97']"
     ],
     "language": "python",
     "metadata": {},
     "outputs": [],
     "prompt_number": 77
    },
    {
     "cell_type": "code",
     "collapsed": false,
     "input": [
      "disp_prop = df_final.sort(columns=['\u5ee3\u544a\u5360\u6c7a\u7b97\u6bd4\u4f8b(%)'])\n",
      "\n",
      "y_pos = np.arange(len(disp_prop))\n",
      "plt.barh(\n",
      "    y_pos,\n",
      "    disp_prop['\u5ee3\u544a\u5360\u6c7a\u7b97\u6bd4\u4f8b(%)'],\n",
      "    align='center', alpha=0.7,\n",
      "    color='g'\n",
      ")\n",
      "\n",
      "plt.yticks(y_pos, disp_prop.index, font_properties=chtfont)\n",
      "plt.title('\u884c\u653f\u90e8\u6703\u5ee3\u544a\u5360\u6c7a\u7b97\u6bd4\u4f8b(%)', font_properties=chtfont, fontsize=20)\n",
      "plt.savefig(str(RESULT_DIR/'\u884c\u653f\u90e8\u6703\u5ee3\u544a\u5360\u6c7a\u7b97\u6bd4\u4f8b.svg'))\n",
      "plt.show()"
     ],
     "language": "python",
     "metadata": {},
     "outputs": [
      {
       "metadata": {},
       "output_type": "display_data",
       "png": "[encoded data removed]",
       "text": [
        "<matplotlib.figure.Figure at 0x11662ebe0>"
       ]
      }
     ],
     "prompt_number": 88
    },
    {
     "cell_type": "code",
     "collapsed": false,
     "input": [],
     "language": "python",
     "metadata": {},
     "outputs": []
    }
   ],
   "metadata": {}
  }
 ]
}