{
 "metadata": {
  "name": ""
 },
 "nbformat": 3,
 "nbformat_minor": 0,
 "worksheets": [
  {
   "cells": [
    {
     "cell_type": "code",
     "collapsed": false,
     "input": [
      "from pathlib import Path\n",
      "import pandas as pd\n",
      "import numpy as np\n",
      "import re"
     ],
     "language": "python",
     "metadata": {},
     "outputs": [],
     "prompt_number": 1
    },
    {
     "cell_type": "code",
     "collapsed": false,
     "input": [
      "DISP_DIRS = [d for d in Path('../').iterdir() if str(d).endswith('\u90e8') and d.is_dir()]"
     ],
     "language": "python",
     "metadata": {},
     "outputs": [],
     "prompt_number": 5
    },
    {
     "cell_type": "code",
     "collapsed": false,
     "input": [
      "DISP_DIRS"
     ],
     "language": "python",
     "metadata": {},
     "outputs": [
      {
       "metadata": {},
       "output_type": "pyout",
       "prompt_number": 6,
       "text": [
        "[PosixPath('../\u4ea4\u901a\u90e8'),\n",
        " PosixPath('../\u5167\u653f\u90e8'),\n",
        " PosixPath('../\u52de\u52d5\u90e8'),\n",
        " PosixPath('../\u570b\u9632\u90e8'),\n",
        " PosixPath('../\u5916\u4ea4\u90e8'),\n",
        " PosixPath('../\u6559\u80b2\u90e8'),\n",
        " PosixPath('../\u6587\u5316\u90e8'),\n",
        " PosixPath('../\u6cd5\u52d9\u90e8'),\n",
        " PosixPath('../\u7d93\u6fdf\u90e8'),\n",
        " PosixPath('../\u885b\u798f\u90e8')]"
       ]
      }
     ],
     "prompt_number": 6
    },
    {
     "cell_type": "code",
     "collapsed": false,
     "input": [],
     "language": "python",
     "metadata": {},
     "outputs": [
      {
       "ename": "NameError",
       "evalue": "name 'd' is not defined",
       "output_type": "pyerr",
       "traceback": [
        "\u001b[0;31m---------------------------------------------------------------------------\u001b[0m\n\u001b[0;31mNameError\u001b[0m                                 Traceback (most recent call last)",
        "\u001b[0;32m<ipython-input-7-e29311f6f1bf>\u001b[0m in \u001b[0;36m<module>\u001b[0;34m()\u001b[0m\n\u001b[0;32m----> 1\u001b[0;31m \u001b[0md\u001b[0m\u001b[0;34m\u001b[0m\u001b[0m\n\u001b[0m",
        "\u001b[0;31mNameError\u001b[0m: name 'd' is not defined"
       ]
      }
     ],
     "prompt_number": 7
    },
    {
     "cell_type": "code",
     "collapsed": false,
     "input": [],
     "language": "python",
     "metadata": {},
     "outputs": []
    }
   ],
   "metadata": {}
  }
 ]
}