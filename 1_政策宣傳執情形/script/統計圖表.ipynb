{
 "metadata": {
  "name": ""
 },
 "nbformat": 3,
 "nbformat_minor": 0,
 "worksheets": [
  {
   "cells": [
    {
     "cell_type": "code",
     "collapsed": false,
     "input": [
      "from pathlib import Path\n",
      "import pandas as pd\n",
      "import numpy as np\n",
      "import re"
     ],
     "language": "python",
     "metadata": {},
     "outputs": [],
     "prompt_number": 1
    },
    {
     "cell_type": "code",
     "collapsed": false,
     "input": [
      "import matplotlib as mpl\n",
      "mpl.use('agg')\n",
      "%pylab inline\n",
      "chtfont2 = mpl.font_manager.FontProperties(fname='/Library/Fonts/\u5137\u9ed1 Pro.ttf')\n",
      "chtfont = mpl.font_manager.FontProperties(fname='/Users/liang/Library/Fonts/DFHeiStd-W5.otf')"
     ],
     "language": "python",
     "metadata": {},
     "outputs": [
      {
       "output_type": "stream",
       "stream": "stdout",
       "text": [
        "Populating the interactive namespace from numpy and matplotlib\n"
       ]
      }
     ],
     "prompt_number": 2
    },
    {
     "cell_type": "code",
     "collapsed": false,
     "input": [
      "rcParams['figure.figsize'] = (10, 4)\n",
      "rcParams['figure.dpi'] = 120\n",
      "rcParams['savefig.format'] = 'svg'"
     ],
     "language": "python",
     "metadata": {},
     "outputs": [],
     "prompt_number": 3
    },
    {
     "cell_type": "code",
     "collapsed": false,
     "input": [
      "final_dir = Path('../\u7e3d\u6574\u7406')\n",
      "all_xls = [p for p in final_dir.iterdir() if p.suffix == '.xlsx']\n",
      "df_by_disp = {\n",
      "    p.stem[:3]: pd.read_excel(str(p), 0)\n",
      "    for p in all_xls\n",
      "}\n",
      "all_disp = set(df_by_disp.keys())"
     ],
     "language": "python",
     "metadata": {},
     "outputs": [],
     "prompt_number": 4
    },
    {
     "cell_type": "code",
     "collapsed": false,
     "input": [
      "all_disp"
     ],
     "language": "python",
     "metadata": {},
     "outputs": [
      {
       "metadata": {},
       "output_type": "pyout",
       "prompt_number": 5,
       "text": [
        "{'\u52de\u52d5\u90e8', '\u539f\u6c11\u6703', '\u539f\u80fd\u6703', '\u5916\u4ea4\u90e8', '\u6559\u80b2\u90e8', '\u6cd5\u52d9\u90e8', '\u8fb2\u59d4\u6703', '\u9678\u59d4\u6703'}"
       ]
      }
     ],
     "prompt_number": 5
    },
    {
     "cell_type": "heading",
     "level": 1,
     "metadata": {},
     "source": [
      "\u5404\u90e8\u9810\u7b97\u52a0\u7e3d"
     ]
    },
    {
     "cell_type": "code",
     "collapsed": false,
     "input": [
      "disp_total_ad = pd.DataFrame(\n",
      "    [[disp, df['\u91d1\u984d'].sum()] for disp, df in df_by_disp.items()],\n",
      "    columns = ['\u884c\u653f\u90e8\u6703', '\u7e3d\u5ee3\u544a\u91d1\u984d'])"
     ],
     "language": "python",
     "metadata": {},
     "outputs": [],
     "prompt_number": 6
    },
    {
     "cell_type": "code",
     "collapsed": false,
     "input": [
      "disp_total_ad.sort(columns=['\u7e3d\u5ee3\u544a\u91d1\u984d'], inplace=True)\n",
      "disp_total_ad.reset_index(drop=True, inplace=True)"
     ],
     "language": "python",
     "metadata": {},
     "outputs": [],
     "prompt_number": 8
    },
    {
     "cell_type": "code",
     "collapsed": false,
     "input": [
      "y_pos = np.arange(len(disp_total_ad))\n",
      "plt.barh(\n",
      "    y_pos,\n",
      "    disp_total_ad['\u7e3d\u5ee3\u544a\u91d1\u984d'],\n",
      "    align='center', alpha=0.7\n",
      ")\n",
      "plt.yticks(y_pos, disp_total_ad['\u884c\u653f\u90e8\u6703'], font_properties=chtfont)\n",
      "plt.title('\u884c\u653f\u90e8\u6703\u5ee3\u544a\u7e3d\u9810\u7b97\u6392\u884c', font_properties=chtfont, fontsize=20)\n",
      "plt.savefig('\u5ee3\u544a\u7e3d\u9810\u7b97\u6392\u884c.svg')\n",
      "plt.show()"
     ],
     "language": "python",
     "metadata": {},
     "outputs": [
      {
       "metadata": {},
       "output_type": "display_data",
       "png": "[encoded data removed]",
       "text": [
        "<matplotlib.figure.Figure at 0x1167e9cc0>"
       ]
      }
     ],
     "prompt_number": 12
    },
    {
     "cell_type": "heading",
     "level": 1,
     "metadata": {},
     "source": [
      "\u5a92\u9ad4\u985e\u578b\u6bd4\u4f8b"
     ]
    },
    {
     "cell_type": "code",
     "collapsed": false,
     "input": [
      "#\u5831\u7d19\u3001\u96dc\u8a8c\u3001\u96fb\u8996\u3001\u5ee3\u64ad\u3001\u884c\u52d5\u3001\u7db2\u8def\u3001\u71c8\u7bb1\u3001\u5176\u4ed6\n",
      "media_type = '\u5831\u7d19\u3001\u96dc\u8a8c\u3001\u96fb\u8996\u3001\u5ee3\u64ad\u3001\u884c\u52d5\u3001\u7db2\u8def\u3001\u71c8\u7bb1\u3001\u5176\u4ed6'.split('\u3001')"
     ],
     "language": "python",
     "metadata": {},
     "outputs": [],
     "prompt_number": 14
    },
    {
     "cell_type": "code",
     "collapsed": false,
     "input": [],
     "language": "python",
     "metadata": {},
     "outputs": [
      {
       "metadata": {},
       "output_type": "pyout",
       "prompt_number": 15,
       "text": [
        "['\u5831\u7d19', '\u96dc\u8a8c', '\u96fb\u8996', '\u5ee3\u64ad', '\u884c\u52d5', '\u7db2\u8def', '\u71c8\u7bb1', '\u5176\u4ed6']"
       ]
      }
     ],
     "prompt_number": 15
    },
    {
     "cell_type": "code",
     "collapsed": false,
     "input": [],
     "language": "python",
     "metadata": {},
     "outputs": []
    }
   ],
   "metadata": {}
  }
 ]
}