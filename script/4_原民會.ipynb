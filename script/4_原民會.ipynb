{
 "metadata": {
  "name": ""
 },
 "nbformat": 3,
 "nbformat_minor": 0,
 "worksheets": [
  {
   "cells": [
    {
     "cell_type": "code",
     "collapsed": false,
     "input": [
      "from pathlib import Path\n",
      "import pandas as pd\n",
      "import numpy as np\n",
      "import re"
     ],
     "language": "python",
     "metadata": {},
     "outputs": [],
     "prompt_number": 1
    },
    {
     "cell_type": "code",
     "collapsed": false,
     "input": [
      "BASE_PATH = Path('../\u539f\u6c11\u6703')\n",
      "OUT = BASE_PATH / 'parsed'\n",
      "#OUT.mkdir()"
     ],
     "language": "python",
     "metadata": {},
     "outputs": [],
     "prompt_number": 2
    },
    {
     "cell_type": "code",
     "collapsed": false,
     "input": [
      "human_xlsx = str(BASE_PATH / '\u539f\u6c11\u6703\u6574\u7406.xlsx')"
     ],
     "language": "python",
     "metadata": {},
     "outputs": [],
     "prompt_number": 3
    },
    {
     "cell_type": "code",
     "collapsed": false,
     "input": [
      "df = pd.read_excel(human_xlsx, 0, infered_types=False)"
     ],
     "language": "python",
     "metadata": {},
     "outputs": [],
     "prompt_number": 4
    },
    {
     "cell_type": "code",
     "collapsed": false,
     "input": [
      "df.head()"
     ],
     "language": "python",
     "metadata": {},
     "outputs": [
      {
       "html": [
        "<div style=\"max-height:1000px;max-width:1500px;overflow:auto;\">\n",
        "<table border=\"1\" class=\"dataframe\">\n",
        "  <thead>\n",
        "    <tr style=\"text-align: right;\">\n",
        "      <th></th>\n",
        "      <th>\u4e3b\u984c</th>\n",
        "      <th>\u5a92\u9ad4</th>\n",
        "      <th>\u6c11\u570b\u5e74</th>\n",
        "      <th>\u6642\u9593</th>\n",
        "      <th>\u91d1\u984d</th>\n",
        "      <th>\u57f7\u884c\u55ae\u4f4d</th>\n",
        "      <th>\u884c\u653f\u90e8\u6703</th>\n",
        "      <th>\u5099\u8a3b</th>\n",
        "    </tr>\n",
        "  </thead>\n",
        "  <tbody>\n",
        "    <tr>\n",
        "      <th>0</th>\n",
        "      <td> 101\u5e74\u5ea6\u539f\u4f4f\u6c11\u65cf\u7d9c\u5408\u767c\u5c55\u57fa\u91d1\u696d\u52d9\u5ba3\u50b3</td>\n",
        "      <td>  \u4e2d\u570b\u6642\u5831</td>\n",
        "      <td> 101</td>\n",
        "      <td> 3\u670813\u65e5</td>\n",
        "      <td> 575500</td>\n",
        "      <td> \u539f\u6c11\u6703</td>\n",
        "      <td> \u539f\u6c11\u6703</td>\n",
        "      <td>NaN</td>\n",
        "    </tr>\n",
        "    <tr>\n",
        "      <th>1</th>\n",
        "      <td> 101\u5e74\u5ea6\u539f\u4f4f\u6c11\u65cf\u7d9c\u5408\u767c\u5c55\u57fa\u91d1\u696d\u52d9\u5ba3\u50b3</td>\n",
        "      <td>   \u806f\u5408\u5831</td>\n",
        "      <td> 101</td>\n",
        "      <td> 3\u670814\u65e5</td>\n",
        "      <td>      0</td>\n",
        "      <td> \u539f\u6c11\u6703</td>\n",
        "      <td> \u539f\u6c11\u6703</td>\n",
        "      <td>NaN</td>\n",
        "    </tr>\n",
        "    <tr>\n",
        "      <th>2</th>\n",
        "      <td> 101\u5e74\u5ea6\u539f\u4f4f\u6c11\u65cf\u7d9c\u5408\u767c\u5c55\u57fa\u91d1\u696d\u52d9\u5ba3\u50b3</td>\n",
        "      <td>  \u81ea\u7531\u6642\u5831</td>\n",
        "      <td> 101</td>\n",
        "      <td> 3\u670815\u65e5</td>\n",
        "      <td>      0</td>\n",
        "      <td> \u539f\u6c11\u6703</td>\n",
        "      <td> \u539f\u6c11\u6703</td>\n",
        "      <td>NaN</td>\n",
        "    </tr>\n",
        "    <tr>\n",
        "      <th>3</th>\n",
        "      <td> 101\u5e74\u5ea6\u539f\u4f4f\u6c11\u65cf\u7d9c\u5408\u767c\u5c55\u57fa\u91d1\u696d\u52d9\u5ba3\u50b3</td>\n",
        "      <td>  \u66f4\u751f\u65e5\u5831</td>\n",
        "      <td> 101</td>\n",
        "      <td> 3\u670813\u65e5</td>\n",
        "      <td>      0</td>\n",
        "      <td> \u539f\u6c11\u6703</td>\n",
        "      <td> \u539f\u6c11\u6703</td>\n",
        "      <td>NaN</td>\n",
        "    </tr>\n",
        "    <tr>\n",
        "      <th>4</th>\n",
        "      <td> 101\u5e74\u5ea6\u539f\u4f4f\u6c11\u65cf\u7d9c\u5408\u767c\u5c55\u57fa\u91d1\u696d\u52d9\u5ba3\u50b3</td>\n",
        "      <td> \u81fa\u7063\u65b0\u751f\u5831</td>\n",
        "      <td> 101</td>\n",
        "      <td> 3\u670816\u65e5</td>\n",
        "      <td>      0</td>\n",
        "      <td> \u539f\u6c11\u6703</td>\n",
        "      <td> \u539f\u6c11\u6703</td>\n",
        "      <td>NaN</td>\n",
        "    </tr>\n",
        "  </tbody>\n",
        "</table>\n",
        "<p>5 rows \u00d7 8 columns</p>\n",
        "</div>"
       ],
       "metadata": {},
       "output_type": "pyout",
       "prompt_number": 5,
       "text": [
        "                    \u4e3b\u984c     \u5a92\u9ad4  \u6c11\u570b\u5e74     \u6642\u9593      \u91d1\u984d \u57f7\u884c\u55ae\u4f4d \u884c\u653f\u90e8\u6703  \u5099\u8a3b\n",
        "0  101\u5e74\u5ea6\u539f\u4f4f\u6c11\u65cf\u7d9c\u5408\u767c\u5c55\u57fa\u91d1\u696d\u52d9\u5ba3\u50b3   \u4e2d\u570b\u6642\u5831  101  3\u670813\u65e5  575500  \u539f\u6c11\u6703  \u539f\u6c11\u6703 NaN\n",
        "1  101\u5e74\u5ea6\u539f\u4f4f\u6c11\u65cf\u7d9c\u5408\u767c\u5c55\u57fa\u91d1\u696d\u52d9\u5ba3\u50b3    \u806f\u5408\u5831  101  3\u670814\u65e5       0  \u539f\u6c11\u6703  \u539f\u6c11\u6703 NaN\n",
        "2  101\u5e74\u5ea6\u539f\u4f4f\u6c11\u65cf\u7d9c\u5408\u767c\u5c55\u57fa\u91d1\u696d\u52d9\u5ba3\u50b3   \u81ea\u7531\u6642\u5831  101  3\u670815\u65e5       0  \u539f\u6c11\u6703  \u539f\u6c11\u6703 NaN\n",
        "3  101\u5e74\u5ea6\u539f\u4f4f\u6c11\u65cf\u7d9c\u5408\u767c\u5c55\u57fa\u91d1\u696d\u52d9\u5ba3\u50b3   \u66f4\u751f\u65e5\u5831  101  3\u670813\u65e5       0  \u539f\u6c11\u6703  \u539f\u6c11\u6703 NaN\n",
        "4  101\u5e74\u5ea6\u539f\u4f4f\u6c11\u65cf\u7d9c\u5408\u767c\u5c55\u57fa\u91d1\u696d\u52d9\u5ba3\u50b3  \u81fa\u7063\u65b0\u751f\u5831  101  3\u670816\u65e5       0  \u539f\u6c11\u6703  \u539f\u6c11\u6703 NaN\n",
        "\n",
        "[5 rows x 8 columns]"
       ]
      }
     ],
     "prompt_number": 5
    },
    {
     "cell_type": "code",
     "collapsed": false,
     "input": [
      "df['\u5099\u8a3b'] = ''"
     ],
     "language": "python",
     "metadata": {},
     "outputs": [],
     "prompt_number": 6
    },
    {
     "cell_type": "code",
     "collapsed": false,
     "input": [
      "# \u6709\u4e00\u884c\u6c92\u6709\u6642\u9593\u3001\u91d1\u984d\u7684\u8cc7\u6599\n",
      "df = df.dropna()"
     ],
     "language": "python",
     "metadata": {},
     "outputs": [],
     "prompt_number": 7
    },
    {
     "cell_type": "code",
     "collapsed": false,
     "input": [
      "out_stem = str(OUT / '\u539f\u6c11\u6703101-102\u5e74\u7e3d\u6574\u7406')"
     ],
     "language": "python",
     "metadata": {},
     "outputs": [],
     "prompt_number": 26
    },
    {
     "cell_type": "code",
     "collapsed": false,
     "input": [
      "out_stem"
     ],
     "language": "python",
     "metadata": {},
     "outputs": [
      {
       "metadata": {},
       "output_type": "pyout",
       "prompt_number": 27,
       "text": [
        "'../\u539f\u6c11\u6703/parsed/\u539f\u6c11\u6703101-102\u5e74\u7e3d\u6574\u7406'"
       ]
      }
     ],
     "prompt_number": 27
    },
    {
     "cell_type": "code",
     "collapsed": false,
     "input": [
      "df.to_excel(out_stem + '.xlsx', index=False)\n",
      "df.to_csv(out_stem + '.csv', index=False)"
     ],
     "language": "python",
     "metadata": {},
     "outputs": [],
     "prompt_number": 28
    },
    {
     "cell_type": "code",
     "collapsed": false,
     "input": [],
     "language": "python",
     "metadata": {},
     "outputs": []
    }
   ],
   "metadata": {}
  }
 ]
}