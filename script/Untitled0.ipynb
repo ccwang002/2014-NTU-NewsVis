{
 "metadata": {
  "name": ""
 },
 "nbformat": 3,
 "nbformat_minor": 0,
 "worksheets": [
  {
   "cells": [
    {
     "cell_type": "code",
     "collapsed": false,
     "input": [
      "from pathlib import Path\n",
      "import pandas as pd\n",
      "import numpy as np\n",
      "import re\n",
      "\n",
      "df_final = pd.read_excel('../\u8f38\u51fa\u5716\u8868/\u6240\u6709\u90e8\u6703\u6309\u5a92\u9ad4\u985e\u578b\u9810\u7b97\u91d1\u984d.xlsx', 0)"
     ],
     "language": "python",
     "metadata": {},
     "outputs": [],
     "prompt_number": 3
    },
    {
     "cell_type": "code",
     "collapsed": false,
     "input": [
      "for disp, row in df_final.loc[:, :'\u5176\u4ed6'].iterrows():\n",
      "    print(disp)\n",
      "    r = row.sort(ascending=False)\n",
      "    print(', '.join(row[:3].index.tolist()))"
     ],
     "language": "python",
     "metadata": {},
     "outputs": [
      {
       "output_type": "stream",
       "stream": "stdout",
       "text": [
        "\u539f\u6c11\u6703\n",
        "\u96fb\u8996, \u884c\u52d5, \u5831\u7d19\n",
        "\u539f\u80fd\u6703\n",
        "\u96fb\u8996, \u96dc\u8a8c, \u5176\u4ed6\n",
        "\u570b\u9632\u90e8\n",
        "\u5ee3\u64ad, \u5176\u4ed6, \u884c\u52d5\n",
        "\u5916\u4ea4\u90e8\n",
        "\u5176\u4ed6, \u884c\u52d5, \u96fb\u8996\n",
        "\u6559\u80b2\u90e8\n",
        "\u5176\u4ed6, \u96fb\u8996, \u5831\u7d19\n",
        "\u6cd5\u52d9\u90e8\n",
        "\u96fb\u8996, \u5176\u4ed6, \u7db2\u8def\n",
        "\u8fb2\u59d4\u6703\n",
        "\u5831\u7d19, \u96fb\u8996, \u96dc\u8a8c\n",
        "\u9678\u59d4\u6703\n",
        "\u96fb\u8996, \u96dc\u8a8c, \u7db2\u8def\n"
       ]
      }
     ],
     "prompt_number": 16
    },
    {
     "cell_type": "code",
     "collapsed": false,
     "input": [],
     "language": "python",
     "metadata": {},
     "outputs": []
    }
   ],
   "metadata": {}
  }
 ]
}