{
 "metadata": {
  "name": ""
 },
 "nbformat": 3,
 "nbformat_minor": 0,
 "worksheets": [
  {
   "cells": [
    {
     "cell_type": "code",
     "collapsed": false,
     "input": [
      "from pathlib import Path\n",
      "import pandas as pd\n",
      "import numpy as np\n",
      "import re\n",
      "import xlrd"
     ],
     "language": "python",
     "metadata": {},
     "outputs": [],
     "prompt_number": 1
    },
    {
     "cell_type": "code",
     "collapsed": false,
     "input": [
      "RAW_BASE = Path(\"../\u6cd5\u52d9\u90e8\")\n",
      "OUTPUT_BSAE = RAW_BASE / \"parsed\"\n",
      "# OUTPUT_BSAE.mkdir()"
     ],
     "language": "python",
     "metadata": {},
     "outputs": [],
     "prompt_number": 4
    },
    {
     "cell_type": "code",
     "collapsed": false,
     "input": [
      "parse_date = re.compile('\u8cc7\u8a0a\u8655\u6c11\u570b(\\d+)\u5e74\u5ea6\u7b2c(\\d+)\u5b63\u8fa6\u7406\u653f\u7b56\u5ba3\u5c0e\u5ee3\u544a\u9673\u5831\u8868', re.UNICODE).search"
     ],
     "language": "python",
     "metadata": {},
     "outputs": [],
     "prompt_number": 5
    },
    {
     "cell_type": "code",
     "collapsed": false,
     "input": [
      "def get_report_year(xls_p):\n",
      "    xls = xlrd.open_workbook(str(xls_p))\n",
      "    header = xls.sheet_by_index(0).cell(0, 0).value\n",
      "    return parse_date(header).groups()"
     ],
     "language": "python",
     "metadata": {},
     "outputs": [],
     "prompt_number": 6
    },
    {
     "cell_type": "heading",
     "level": 1,
     "metadata": {},
     "source": [
      "Batch"
     ]
    },
    {
     "cell_type": "code",
     "collapsed": false,
     "input": [
      "def norm_data(xls_p):\n",
      "    df = pd.read_excel(str(xls_p), 0, skiprows=1, skipfooter=2)\n",
      "    # ['\u4e3b\u984c', '\u5a92\u9ad4', '\u6642\u9593', '\u91d1\u984d', '\u57f7\u884c\u55ae\u4f4d', '\u5099\u8a3b']\n",
      "    new_index = df.columns[:].values\n",
      "    new_index[:3] = ['\u5a92\u9ad4', '\u4e3b\u984c', '\u6642\u9593']\n",
      "    new_index[-1] = '\u91d1\u984d'\n",
      "    df.columns = new_index\n",
      "    # \u6293\u51fa\u88fd\u8868\u6642\u9593\n",
      "    report_year, report_quarter = get_report_year(xls_p)\n",
      "    df['\u6c11\u570b\u5e74'] = report_year\n",
      "    # \u628a\u591a\u9918\u7684\u8cc7\u8a0a\u6536\u96c6\u8d77\u4f86\n",
      "    df['\u5099\u8a3b'] = df.apply(lambda r: '\u6b21\u6578: {}\\n\u5c0d\u8c61: {}'.format(r['\u6b21\u6578'], r['\u5c0d\u8c61']), axis=1)\n",
      "    df = df.ffill()\n",
      "    df['\u57f7\u884c\u55ae\u4f4d'] = '\u8cc7\u8a0a\u8655'\n",
      "    df['\u884c\u653f\u90e8\u6703'] = '\u6cd5\u52d9\u90e8'\n",
      "    df = df[['\u4e3b\u984c', '\u5a92\u9ad4', '\u6c11\u570b\u5e74', '\u6642\u9593', '\u91d1\u984d', '\u57f7\u884c\u55ae\u4f4d', '\u884c\u653f\u90e8\u6703', '\u5099\u8a3b']]\n",
      "    # output\n",
      "    out_stem = OUTPUT_BSAE / '{}\u5e74\u7b2c{}\u5b63_{}'.format(report_year, report_quarter, xls_p.stem)\n",
      "    df.to_csv(str(out_stem)+ \".csv\", index=False)\n",
      "    df.to_excel(str(out_stem) + \".xlsx\", index=False)"
     ],
     "language": "python",
     "metadata": {},
     "outputs": [],
     "prompt_number": 7
    },
    {
     "cell_type": "code",
     "collapsed": false,
     "input": [
      "xls_fail = []\n",
      "for xls_p in RAW_BASE.iterdir():\n",
      "    if xls_p.suffix not in ['.xlsx', '.xls']:\n",
      "        print('skip {}'.format(xls_p))\n",
      "        continue\n",
      "    else:\n",
      "        print('working {}'.format(xls_p))\n",
      "    try:\n",
      "        norm_data(xls_p)\n",
      "    except Exception as e:\n",
      "        print('Caught Error: ', e)\n",
      "        xls_fail.append(xls_p)"
     ],
     "language": "python",
     "metadata": {},
     "outputs": [
      {
       "output_type": "stream",
       "stream": "stdout",
       "text": [
        "working ../\u6cd5\u52d9\u90e8/210181445976.xls\n",
        "working ../\u6cd5\u52d9\u90e8/211221155896.xlsx"
       ]
      },
      {
       "output_type": "stream",
       "stream": "stdout",
       "text": [
        "\n",
        "Caught Error:  'NoneType' object has no attribute 'groups'\n",
        "working ../\u6cd5\u52d9\u90e8/2122614425229.xls\n",
        "working ../\u6cd5\u52d9\u90e8/283116273998.xls"
       ]
      },
      {
       "output_type": "stream",
       "stream": "stdout",
       "text": [
        "\n",
        "Caught Error:  'NoneType' object has no attribute 'groups'\n",
        "working ../\u6cd5\u52d9\u90e8/31249425174.xls\n",
        "working ../\u6cd5\u52d9\u90e8/31249433937.xls"
       ]
      },
      {
       "output_type": "stream",
       "stream": "stdout",
       "text": [
        "\n",
        "working ../\u6cd5\u52d9\u90e8/34816563354.xls"
       ]
      },
      {
       "output_type": "stream",
       "stream": "stdout",
       "text": [
        "\n",
        "Caught Error:  'NoneType' object has no attribute 'groups'\n",
        "working ../\u6cd5\u52d9\u90e8/412416134929.xls\n",
        "Caught Error:  'NoneType' object has no attribute 'groups'\n",
        "skip ../\u6cd5\u52d9\u90e8/parsed\n"
       ]
      }
     ],
     "prompt_number": 9
    },
    {
     "cell_type": "code",
     "collapsed": false,
     "input": [
      "xls_fail"
     ],
     "language": "python",
     "metadata": {},
     "outputs": [
      {
       "metadata": {},
       "output_type": "pyout",
       "prompt_number": 10,
       "text": [
        "[PosixPath('../\u6cd5\u52d9\u90e8/211221155896.xlsx'),\n",
        " PosixPath('../\u6cd5\u52d9\u90e8/283116273998.xls'),\n",
        " PosixPath('../\u6cd5\u52d9\u90e8/34816563354.xls'),\n",
        " PosixPath('../\u6cd5\u52d9\u90e8/412416134929.xls')]"
       ]
      }
     ],
     "prompt_number": 10
    },
    {
     "cell_type": "heading",
     "level": 1,
     "metadata": {},
     "source": [
      "\u5ec9\u653f\u7f72"
     ]
    },
    {
     "cell_type": "code",
     "collapsed": false,
     "input": [
      "xls_p = xls_fail[0]"
     ],
     "language": "python",
     "metadata": {},
     "outputs": [],
     "prompt_number": 11
    },
    {
     "cell_type": "code",
     "collapsed": false,
     "input": [
      "xls = xlrd.open_workbook(str(xls_p))"
     ],
     "language": "python",
     "metadata": {},
     "outputs": [],
     "prompt_number": 12
    },
    {
     "cell_type": "code",
     "collapsed": false,
     "input": [
      "sheets = xls.sheets()"
     ],
     "language": "python",
     "metadata": {},
     "outputs": [],
     "prompt_number": 13
    },
    {
     "cell_type": "code",
     "collapsed": false,
     "input": [
      "sheets[0].name"
     ],
     "language": "python",
     "metadata": {},
     "outputs": [
      {
       "metadata": {},
       "output_type": "pyout",
       "prompt_number": 14,
       "text": [
        "'101\u5e74\u7b2c2\u5b63'"
       ]
      }
     ],
     "prompt_number": 14
    },
    {
     "cell_type": "code",
     "collapsed": false,
     "input": [
      "parse_date = re.compile('(\\d+)\u5e74\u7b2c(\\d+)\u5b63', re.UNICODE).search"
     ],
     "language": "python",
     "metadata": {},
     "outputs": [],
     "prompt_number": 15
    },
    {
     "cell_type": "code",
     "collapsed": false,
     "input": [
      "df = pd.read_excel(str(xls_p), sheets[0].name, skiprows=1, skipfooter=1)\n",
      "new_index = df.columns[:].values\n",
      "new_index[:3] = ['\u5a92\u9ad4', '\u4e3b\u984c', '\u6642\u9593']\n",
      "new_index[-1] = '\u91d1\u984d'\n",
      "df.columns = new_index\n",
      "# \u6293\u51fa\u88fd\u8868\u6642\u9593\n",
      "report_year, report_quarter = parse_date(sheets[0].name).groups()\n",
      "df['\u6c11\u570b\u5e74'] = report_year\n",
      "# \u628a\u591a\u9918\u7684\u8cc7\u8a0a\u6536\u96c6\u8d77\u4f86\n",
      "df['\u5099\u8a3b'] = df.apply(lambda r: '\u6b21\u6578: {}\\n\u5c0d\u8c61: {}'.format(r['\u6b21\u6578'], r['\u5c0d\u8c61']), axis=1)\n",
      "df = df.ffill()\n",
      "df['\u57f7\u884c\u55ae\u4f4d'] = '\u5ec9\u653f\u7f72'\n",
      "df['\u884c\u653f\u90e8\u6703'] = '\u6cd5\u52d9\u90e8'\n",
      "df = df[['\u4e3b\u984c', '\u5a92\u9ad4', '\u6c11\u570b\u5e74', '\u6642\u9593', '\u91d1\u984d', '\u57f7\u884c\u55ae\u4f4d', '\u884c\u653f\u90e8\u6703', '\u5099\u8a3b']]\n",
      "# output\n",
      "out_stem = OUTPUT_BSAE / '{}\u5e74\u7b2c{}\u5b63_{}'.format(report_year, report_quarter, xls_p.stem)\n",
      "df.to_csv(str(out_stem)+ \".csv\", index=False)\n",
      "df.to_excel(str(out_stem) + \".xlsx\", index=False)"
     ],
     "language": "python",
     "metadata": {},
     "outputs": [],
     "prompt_number": 16
    },
    {
     "cell_type": "heading",
     "level": 1,
     "metadata": {},
     "source": [
      "\u81fa\u5317\u5730\u65b9\u6cd5\u9662\u6aa2\u5bdf\u7f72"
     ]
    },
    {
     "cell_type": "code",
     "collapsed": false,
     "input": [
      "xls_p = xls_fail[1]"
     ],
     "language": "python",
     "metadata": {},
     "outputs": [],
     "prompt_number": 51
    },
    {
     "cell_type": "code",
     "collapsed": false,
     "input": [
      "df = pd.read_excel(str(xls_p), 0, skiprows=3, skipfooter=3)"
     ],
     "language": "python",
     "metadata": {},
     "outputs": [],
     "prompt_number": 52
    },
    {
     "cell_type": "code",
     "collapsed": false,
     "input": [
      "new_index = df.columns.values\n",
      "new_index[:3] = ['\u5a92\u9ad4', '\u4e3b\u984c', '\u6642\u9593']\n",
      "new_index[-1] = '\u91d1\u984d'\n",
      "df.columns = new_index"
     ],
     "language": "python",
     "metadata": {},
     "outputs": [],
     "prompt_number": 53
    },
    {
     "cell_type": "code",
     "collapsed": false,
     "input": [
      "# \u628a\u591a\u9918\u7684\u8cc7\u8a0a\u6536\u96c6\u8d77\u4f86\n",
      "df['\u5099\u8a3b'] = df.apply(lambda r: '\u6b21\u6578: {}\\n\u5c0d\u8c61: {}'.format(r['\u6b21\u6578'], r['\u5c0d\u8c61']), axis=1)"
     ],
     "language": "python",
     "metadata": {},
     "outputs": [],
     "prompt_number": 54
    },
    {
     "cell_type": "code",
     "collapsed": false,
     "input": [
      "df['\u57f7\u884c\u55ae\u4f4d'] = '\u81fa\u5317\u5730\u65b9\u6cd5\u9662\u6aa2\u5bdf\u7f72'\n",
      "df['\u884c\u653f\u90e8\u6703'] = '\u6cd5\u52d9\u90e8'\n",
      "df['\u6c11\u570b\u5e74'] = '101'\n",
      "df = df[['\u4e3b\u984c', '\u5a92\u9ad4', '\u6c11\u570b\u5e74', '\u6642\u9593', '\u91d1\u984d', '\u57f7\u884c\u55ae\u4f4d', '\u884c\u653f\u90e8\u6703', '\u5099\u8a3b']]"
     ],
     "language": "python",
     "metadata": {},
     "outputs": [],
     "prompt_number": 55
    },
    {
     "cell_type": "code",
     "collapsed": false,
     "input": [
      "# \u8655\u7406\u91d1\u984d\n",
      "df['\u91d1\u984d']"
     ],
     "language": "python",
     "metadata": {},
     "outputs": [
      {
       "metadata": {},
       "output_type": "pyout",
       "prompt_number": 57,
       "text": [
        "0    35\ufe50235\u5143\n",
        "1    99\ufe50600\u5143\n",
        "2    95\ufe50000\u5143\n",
        "3    70\ufe50165\u5143\n",
        "Name: \u91d1\u984d, dtype: object"
       ]
      }
     ],
     "prompt_number": 57
    },
    {
     "cell_type": "code",
     "collapsed": false,
     "input": [
      "money_to_int = re.compile('(\\d+)\ufe50(\\d+)\u5143').match\n",
      "def convert_budget(cell):\n",
      "    return int(''.join(money_to_int(cell).groups()))"
     ],
     "language": "python",
     "metadata": {},
     "outputs": [],
     "prompt_number": 58
    },
    {
     "cell_type": "code",
     "collapsed": false,
     "input": [
      "df.loc[:, '\u91d1\u984d'] = df['\u91d1\u984d'].apply(convert_budget)"
     ],
     "language": "python",
     "metadata": {},
     "outputs": [],
     "prompt_number": 59
    },
    {
     "cell_type": "code",
     "collapsed": false,
     "input": [
      "df"
     ],
     "language": "python",
     "metadata": {},
     "outputs": [
      {
       "html": [
        "<div style=\"max-height:1000px;max-width:1500px;overflow:auto;\">\n",
        "<table border=\"1\" class=\"dataframe\">\n",
        "  <thead>\n",
        "    <tr style=\"text-align: right;\">\n",
        "      <th></th>\n",
        "      <th>\u4e3b\u984c</th>\n",
        "      <th>\u5a92\u9ad4</th>\n",
        "      <th>\u6c11\u570b\u5e74</th>\n",
        "      <th>\u6642\u9593</th>\n",
        "      <th>\u91d1\u984d</th>\n",
        "      <th>\u57f7\u884c\u55ae\u4f4d</th>\n",
        "      <th>\u884c\u653f\u90e8\u6703</th>\n",
        "      <th>\u5099\u8a3b</th>\n",
        "    </tr>\n",
        "  </thead>\n",
        "  <tbody>\n",
        "    <tr>\n",
        "      <th>0</th>\n",
        "      <td>     \u53cd\u8cc4\u9078\u5ba3\u5c0e\u8eca\u9ad4\u5ee3\u544a</td>\n",
        "      <td> \u5e73\u9762\u5ee3\u544a</td>\n",
        "      <td> 101</td>\n",
        "      <td> 100\u5e7411\u6708\u81f3101\u5e741\u670813\u65e5</td>\n",
        "      <td> 35235</td>\n",
        "      <td> \u81fa\u5317\u5730\u65b9\u6cd5\u9662\u6aa2\u5bdf\u7f72</td>\n",
        "      <td> \u6cd5\u52d9\u90e8</td>\n",
        "      <td> \u6b21\u6578: \u5f35\u8cbc\u672c\u7f72\u516c\u52d9\u8eca\u8f1b\u51718\u90e8\\n\u5c0d\u8c61: \u4e00\u822c\u6c11\u773e</td>\n",
        "    </tr>\n",
        "    <tr>\n",
        "      <th>1</th>\n",
        "      <td>   \u53cd\u8cc4\u9078\u5ba3\u5c0e\u6587\u5ba3\u6587\u5177\u7528\u54c1</td>\n",
        "      <td> \u5e73\u9762\u5ee3\u544a</td>\n",
        "      <td> 101</td>\n",
        "      <td> 100\u5e7411\u6708\u81f3101\u5e741\u670813\u65e5</td>\n",
        "      <td> 99600</td>\n",
        "      <td> \u81fa\u5317\u5730\u65b9\u6cd5\u9662\u6aa2\u5bdf\u7f72</td>\n",
        "      <td> \u6cd5\u52d9\u90e8</td>\n",
        "      <td>    \u6b21\u6578: \u5404\u9805\u5ba3\u5c0e\u6d3b\u52d5\u5834\u5408\\n\u5c0d\u8c61: \u4e00\u822c\u6c11\u773e</td>\n",
        "    </tr>\n",
        "    <tr>\n",
        "      <th>2</th>\n",
        "      <td>     \u53cd\u8cc4\u9078\u5ba3\u5c0e\u9285\u8cea\u66f8\u7c64</td>\n",
        "      <td> \u5e73\u9762\u5ee3\u544a</td>\n",
        "      <td> 101</td>\n",
        "      <td> 100\u5e7411\u6708\u81f3101\u5e741\u670813\u65e5</td>\n",
        "      <td> 95000</td>\n",
        "      <td> \u81fa\u5317\u5730\u65b9\u6cd5\u9662\u6aa2\u5bdf\u7f72</td>\n",
        "      <td> \u6cd5\u52d9\u90e8</td>\n",
        "      <td>    \u6b21\u6578: \u5404\u9805\u5ba3\u5c0e\u6d3b\u52d5\u5834\u5408\\n\u5c0d\u8c61: \u4e00\u822c\u6c11\u773e</td>\n",
        "    </tr>\n",
        "    <tr>\n",
        "      <th>3</th>\n",
        "      <td> \u53cd\u8cc4\u9078\u5ba3\u5c0e\uff2c\u593e\u53ca\u53cd\u8cc4\u884c\u52d5\u6a39</td>\n",
        "      <td> \u5e73\u9762\u5ee3\u544a</td>\n",
        "      <td> 101</td>\n",
        "      <td> 100\u5e7411\u6708\u81f3101\u5e741\u670813\u65e5</td>\n",
        "      <td> 70165</td>\n",
        "      <td> \u81fa\u5317\u5730\u65b9\u6cd5\u9662\u6aa2\u5bdf\u7f72</td>\n",
        "      <td> \u6cd5\u52d9\u90e8</td>\n",
        "      <td>    \u6b21\u6578: \u5404\u9805\u5ba3\u5c0e\u6d3b\u52d5\u5834\u5408\\n\u5c0d\u8c61: \u4e00\u822c\u6c11\u773e</td>\n",
        "    </tr>\n",
        "  </tbody>\n",
        "</table>\n",
        "<p>4 rows \u00d7 8 columns</p>\n",
        "</div>"
       ],
       "metadata": {},
       "output_type": "pyout",
       "prompt_number": 60,
       "text": [
        "              \u4e3b\u984c    \u5a92\u9ad4  \u6c11\u570b\u5e74                 \u6642\u9593     \u91d1\u984d       \u57f7\u884c\u55ae\u4f4d \u884c\u653f\u90e8\u6703  \\\n",
        "0      \u53cd\u8cc4\u9078\u5ba3\u5c0e\u8eca\u9ad4\u5ee3\u544a  \u5e73\u9762\u5ee3\u544a  101  100\u5e7411\u6708\u81f3101\u5e741\u670813\u65e5  35235  \u81fa\u5317\u5730\u65b9\u6cd5\u9662\u6aa2\u5bdf\u7f72  \u6cd5\u52d9\u90e8   \n",
        "1    \u53cd\u8cc4\u9078\u5ba3\u5c0e\u6587\u5ba3\u6587\u5177\u7528\u54c1  \u5e73\u9762\u5ee3\u544a  101  100\u5e7411\u6708\u81f3101\u5e741\u670813\u65e5  99600  \u81fa\u5317\u5730\u65b9\u6cd5\u9662\u6aa2\u5bdf\u7f72  \u6cd5\u52d9\u90e8   \n",
        "2      \u53cd\u8cc4\u9078\u5ba3\u5c0e\u9285\u8cea\u66f8\u7c64  \u5e73\u9762\u5ee3\u544a  101  100\u5e7411\u6708\u81f3101\u5e741\u670813\u65e5  95000  \u81fa\u5317\u5730\u65b9\u6cd5\u9662\u6aa2\u5bdf\u7f72  \u6cd5\u52d9\u90e8   \n",
        "3  \u53cd\u8cc4\u9078\u5ba3\u5c0e\uff2c\u593e\u53ca\u53cd\u8cc4\u884c\u52d5\u6a39  \u5e73\u9762\u5ee3\u544a  101  100\u5e7411\u6708\u81f3101\u5e741\u670813\u65e5  70165  \u81fa\u5317\u5730\u65b9\u6cd5\u9662\u6aa2\u5bdf\u7f72  \u6cd5\u52d9\u90e8   \n",
        "\n",
        "                          \u5099\u8a3b  \n",
        "0  \u6b21\u6578: \u5f35\u8cbc\u672c\u7f72\u516c\u52d9\u8eca\u8f1b\u51718\u90e8\\n\u5c0d\u8c61: \u4e00\u822c\u6c11\u773e  \n",
        "1     \u6b21\u6578: \u5404\u9805\u5ba3\u5c0e\u6d3b\u52d5\u5834\u5408\\n\u5c0d\u8c61: \u4e00\u822c\u6c11\u773e  \n",
        "2     \u6b21\u6578: \u5404\u9805\u5ba3\u5c0e\u6d3b\u52d5\u5834\u5408\\n\u5c0d\u8c61: \u4e00\u822c\u6c11\u773e  \n",
        "3     \u6b21\u6578: \u5404\u9805\u5ba3\u5c0e\u6d3b\u52d5\u5834\u5408\\n\u5c0d\u8c61: \u4e00\u822c\u6c11\u773e  \n",
        "\n",
        "[4 rows x 8 columns]"
       ]
      }
     ],
     "prompt_number": 60
    },
    {
     "cell_type": "code",
     "collapsed": false,
     "input": [
      "out_stem = OUTPUT_BSAE / '101\u5e74\u4e0a\u534a_{}'.format(xls_p.stem)\n",
      "df.to_csv(str(out_stem)+ \".csv\", index=False)\n",
      "df.to_excel(str(out_stem) + \".xlsx\", index=False)"
     ],
     "language": "python",
     "metadata": {},
     "outputs": [],
     "prompt_number": 63
    },
    {
     "cell_type": "heading",
     "level": 1,
     "metadata": {},
     "source": [
      "\u4fdd\u8b77\u53f8\u6cd5\u6cbb\u5ba3\u6559\u79d1"
     ]
    },
    {
     "cell_type": "code",
     "collapsed": false,
     "input": [
      "xls_p = xls_fail[2]"
     ],
     "language": "python",
     "metadata": {},
     "outputs": [],
     "prompt_number": 65
    },
    {
     "cell_type": "code",
     "collapsed": false,
     "input": [
      "df = pd.read_excel(str(xls_p), 0, skiprows=1, skipfooter=2)\n",
      "df"
     ],
     "language": "python",
     "metadata": {},
     "outputs": [
      {
       "html": [
        "<div style=\"max-height:1000px;max-width:1500px;overflow:auto;\">\n",
        "<table border=\"1\" class=\"dataframe\">\n",
        "  <thead>\n",
        "    <tr style=\"text-align: right;\">\n",
        "      <th></th>\n",
        "      <th>\u5ba3\u5c0e\u7ba1\u9053</th>\n",
        "      <th>\u4e3b\u8981\u5167\u5bb9</th>\n",
        "      <th>\u520a\u767b\u6642\u9593</th>\n",
        "      <th>\u6b21\u6578</th>\n",
        "      <th>\u5c0d\u8c61</th>\n",
        "      <th>\u91d1\u984d(\u5143)\n",
        "\u55ae\u4f4d\uff1a\u65b0\u81fa\u5e63</th>\n",
        "    </tr>\n",
        "  </thead>\n",
        "  <tbody>\n",
        "    <tr>\n",
        "      <th>0</th>\n",
        "      <td> \u5e73\u9762\u5a92\u9ad4</td>\n",
        "      <td> \u7d50\u5408\u672a\u4f86\u5c11\u5e74\u6708\u520a\u8fa6\u7406\u300c\u53cd\u6bd2\u5c0f\u5b78\u5802\u300d\u7db2\u8def\u6709\u734e\u5fb5\u7b54\u6d3b\u52d5</td>\n",
        "      <td> 101\u5e749\u6708</td>\n",
        "      <td> 1\u6b21</td>\n",
        "      <td> \u9752\u5c11\u5e74\u3001\u5bb6\u9577</td>\n",
        "      <td> 98000</td>\n",
        "    </tr>\n",
        "  </tbody>\n",
        "</table>\n",
        "<p>1 rows \u00d7 6 columns</p>\n",
        "</div>"
       ],
       "metadata": {},
       "output_type": "pyout",
       "prompt_number": 67,
       "text": [
        "   \u5ba3\u5c0e\u7ba1\u9053                       \u4e3b\u8981\u5167\u5bb9    \u520a\u767b\u6642\u9593  \u6b21\u6578      \u5c0d\u8c61  \u91d1\u984d(\u5143)\\n\u55ae\u4f4d\uff1a\u65b0\u81fa\u5e63\n",
        "0  \u5e73\u9762\u5a92\u9ad4  \u7d50\u5408\u672a\u4f86\u5c11\u5e74\u6708\u520a\u8fa6\u7406\u300c\u53cd\u6bd2\u5c0f\u5b78\u5802\u300d\u7db2\u8def\u6709\u734e\u5fb5\u7b54\u6d3b\u52d5  101\u5e749\u6708  1\u6b21  \u9752\u5c11\u5e74\u3001\u5bb6\u9577          98000\n",
        "\n",
        "[1 rows x 6 columns]"
       ]
      }
     ],
     "prompt_number": 67
    },
    {
     "cell_type": "code",
     "collapsed": false,
     "input": [
      "new_index = df.columns[:].values\n",
      "new_index[:3] = ['\u5a92\u9ad4', '\u4e3b\u984c', '\u6642\u9593']\n",
      "new_index[-1] = '\u91d1\u984d'\n",
      "df.columns = new_index"
     ],
     "language": "python",
     "metadata": {},
     "outputs": [],
     "prompt_number": 68
    },
    {
     "cell_type": "code",
     "collapsed": false,
     "input": [
      "# \u628a\u591a\u9918\u7684\u8cc7\u8a0a\u6536\u96c6\u8d77\u4f86\n",
      "df['\u5099\u8a3b'] = df.apply(lambda r: '\u6b21\u6578: {}\\n\u5c0d\u8c61: {}'.format(r['\u6b21\u6578'], r['\u5c0d\u8c61']), axis=1)\n",
      "df = df.ffill()\n",
      "df['\u57f7\u884c\u55ae\u4f4d'] = '\u4fdd\u8b77\u53f8\u6cd5\u6cbb\u5ba3\u6559\u79d1'\n",
      "df['\u884c\u653f\u90e8\u6703'] = '\u6cd5\u52d9\u90e8'\n",
      "df['\u6c11\u570b\u5e74'] = '101'\n",
      "df = df[['\u4e3b\u984c', '\u5a92\u9ad4', '\u6c11\u570b\u5e74', '\u6642\u9593', '\u91d1\u984d', '\u57f7\u884c\u55ae\u4f4d', '\u884c\u653f\u90e8\u6703', '\u5099\u8a3b']]"
     ],
     "language": "python",
     "metadata": {},
     "outputs": [],
     "prompt_number": 70
    },
    {
     "cell_type": "code",
     "collapsed": false,
     "input": [
      "out_stem = OUTPUT_BSAE / '101\u5e74\u7b2c3\u5b63_{}'.format(xls_p.stem)\n",
      "df.to_csv(str(out_stem)+ \".csv\", index=False)\n",
      "df.to_excel(str(out_stem) + \".xlsx\", index=False)"
     ],
     "language": "python",
     "metadata": {},
     "outputs": [],
     "prompt_number": 72
    },
    {
     "cell_type": "heading",
     "level": 2,
     "metadata": {},
     "source": [
      "\u6700\u5f8c\u4e00\u500b\u6a94"
     ]
    },
    {
     "cell_type": "code",
     "collapsed": false,
     "input": [
      "xls_p = xls_fail[-1]\n",
      "xls_p"
     ],
     "language": "python",
     "metadata": {},
     "outputs": [
      {
       "metadata": {},
       "output_type": "pyout",
       "prompt_number": 79,
       "text": [
        "PosixPath('../\u6cd5\u52d9\u90e8/412416134929.xls')"
       ]
      }
     ],
     "prompt_number": 79
    },
    {
     "cell_type": "code",
     "collapsed": false,
     "input": [
      "df = pd.read_excel(str(xls_p), 0, skiprows=1, skipfooter=2)\n",
      "df.head()"
     ],
     "language": "python",
     "metadata": {},
     "outputs": [
      {
       "html": [
        "<div style=\"max-height:1000px;max-width:1500px;overflow:auto;\">\n",
        "<table border=\"1\" class=\"dataframe\">\n",
        "  <thead>\n",
        "    <tr style=\"text-align: right;\">\n",
        "      <th></th>\n",
        "      <th>\u5ba3\u5c0e\u7ba1\u9053</th>\n",
        "      <th>\u4e3b\u8981\u5167\u5bb9</th>\n",
        "      <th>\u520a\u767b\u6642\u9593</th>\n",
        "      <th>\u6b21\u6578</th>\n",
        "      <th>\u5c0d\u8c61</th>\n",
        "      <th>\u91d1\u984d(\u5143)\n",
        "\u55ae\u4f4d\uff1a\u65b0\u81fa\u5e63</th>\n",
        "    </tr>\n",
        "  </thead>\n",
        "  <tbody>\n",
        "    <tr>\n",
        "      <th>0</th>\n",
        "      <td> \u5e73\u9762\u5a92\u9ad4</td>\n",
        "      <td> \u53cd\u6bd2\u6559\u80b2\u5ba3\u5c0e</td>\n",
        "      <td> 1.5/30\u7b2c\u4e00\u96c6\u3010\u5411\u964c\u751f\u9080\u7d04\u8aaa\u4e0d\u3011\\n2.6/13\u7b2c\u4e8c\u96c6\u3010\u6ce8\u610f!\u5371\u6a5f\u73fe\u8eab\u3011\\n3.6/27...</td>\n",
        "      <td>    13\u6b21</td>\n",
        "      <td> \u570b\u4e2d\u5c0f\u5b78\u751f\u53ca\u5bb6\u9577</td>\n",
        "      <td>  300300</td>\n",
        "    </tr>\n",
        "    <tr>\n",
        "      <th>1</th>\n",
        "      <td> \u96fb\u8996\u5a92\u9ad4</td>\n",
        "      <td> \u53cd\u6bd2\u6559\u80b2\u5ba3\u5c0e</td>\n",
        "      <td> 102.8.22~26\\n\u4e09\u7acb\u90fd\u6703\u3001\u885b\u8996\u3001\u4e2d\u5929\u3001FOX\u5a1b\u6a02\u3001\u6771\u68ee\u96fb\u5f71\u3001\u6771\u68ee\u6232\u5287\u3001\u7def\u4f86\u6232\u5287\u3001\u4e09...</td>\n",
        "      <td> 1,058\u6a94</td>\n",
        "      <td>     \u4e00\u822c\u6c11\u773e</td>\n",
        "      <td> 1912000</td>\n",
        "    </tr>\n",
        "    <tr>\n",
        "      <th>2</th>\n",
        "      <td> \u6236\u5916\u5a92\u9ad4</td>\n",
        "      <td>    NaN</td>\n",
        "      <td>                             102.8.15~9.14\u570b\u5149\u5ba2\u904b\u96fb\u8996\u806f\u64ad</td>\n",
        "      <td> 1,536\u6a94</td>\n",
        "      <td>     \u4e00\u822c\u6c11\u773e</td>\n",
        "      <td>  251000</td>\n",
        "    </tr>\n",
        "    <tr>\n",
        "      <th>3</th>\n",
        "      <td>  NaN</td>\n",
        "      <td>    NaN</td>\n",
        "      <td>                               102.8.15~9.14\u53f0\u9435\u806f\u64ad\u96fb\u8996</td>\n",
        "      <td> 1,536\u6a94</td>\n",
        "      <td>     \u4e00\u822c\u6c11\u773e</td>\n",
        "      <td>       0</td>\n",
        "    </tr>\n",
        "    <tr>\n",
        "      <th>4</th>\n",
        "      <td>  NaN</td>\n",
        "      <td>    NaN</td>\n",
        "      <td>                            102.9.16~26\u53f0\u5317\u6377\u904bLED\u96fb\u8996\u806f\u64ad</td>\n",
        "      <td>   504\u6a94</td>\n",
        "      <td>     \u4e00\u822c\u6c11\u773e</td>\n",
        "      <td>  237000</td>\n",
        "    </tr>\n",
        "  </tbody>\n",
        "</table>\n",
        "<p>5 rows \u00d7 6 columns</p>\n",
        "</div>"
       ],
       "metadata": {},
       "output_type": "pyout",
       "prompt_number": 80,
       "text": [
        "   \u5ba3\u5c0e\u7ba1\u9053    \u4e3b\u8981\u5167\u5bb9                                               \u520a\u767b\u6642\u9593      \u6b21\u6578  \\\n",
        "0  \u5e73\u9762\u5a92\u9ad4  \u53cd\u6bd2\u6559\u80b2\u5ba3\u5c0e  1.5/30\u7b2c\u4e00\u96c6\u3010\u5411\u964c\u751f\u9080\u7d04\u8aaa\u4e0d\u3011\\n2.6/13\u7b2c\u4e8c\u96c6\u3010\u6ce8\u610f!\u5371\u6a5f\u73fe\u8eab\u3011\\n3.6/27...     13\u6b21   \n",
        "1  \u96fb\u8996\u5a92\u9ad4  \u53cd\u6bd2\u6559\u80b2\u5ba3\u5c0e  102.8.22~26\\n\u4e09\u7acb\u90fd\u6703\u3001\u885b\u8996\u3001\u4e2d\u5929\u3001FOX\u5a1b\u6a02\u3001\u6771\u68ee\u96fb\u5f71\u3001\u6771\u68ee\u6232\u5287\u3001\u7def\u4f86\u6232\u5287\u3001\u4e09...  1,058\u6a94   \n",
        "2  \u6236\u5916\u5a92\u9ad4     NaN                              102.8.15~9.14\u570b\u5149\u5ba2\u904b\u96fb\u8996\u806f\u64ad  1,536\u6a94   \n",
        "3   NaN     NaN                                102.8.15~9.14\u53f0\u9435\u806f\u64ad\u96fb\u8996  1,536\u6a94   \n",
        "4   NaN     NaN                             102.9.16~26\u53f0\u5317\u6377\u904bLED\u96fb\u8996\u806f\u64ad    504\u6a94   \n",
        "\n",
        "         \u5c0d\u8c61  \u91d1\u984d(\u5143)\\n\u55ae\u4f4d\uff1a\u65b0\u81fa\u5e63  \n",
        "0  \u570b\u4e2d\u5c0f\u5b78\u751f\u53ca\u5bb6\u9577         300300  \n",
        "1      \u4e00\u822c\u6c11\u773e        1912000  \n",
        "2      \u4e00\u822c\u6c11\u773e         251000  \n",
        "3      \u4e00\u822c\u6c11\u773e              0  \n",
        "4      \u4e00\u822c\u6c11\u773e         237000  \n",
        "\n",
        "[5 rows x 6 columns]"
       ]
      }
     ],
     "prompt_number": 80
    },
    {
     "cell_type": "code",
     "collapsed": false,
     "input": [
      "new_index = df.columns[:].values\n",
      "new_index[:3] = ['\u5a92\u9ad4', '\u4e3b\u984c', '\u6642\u9593']\n",
      "new_index[-1] = '\u91d1\u984d'\n",
      "df.columns = new_index\n",
      "\n",
      "# \u628a\u591a\u9918\u7684\u8cc7\u8a0a\u6536\u96c6\u8d77\u4f86\n",
      "df['\u5099\u8a3b'] = df.apply(lambda r: '\u6b21\u6578: {}\\n\u5c0d\u8c61: {}'.format(r['\u6b21\u6578'], r['\u5c0d\u8c61']), axis=1)\n",
      "df = df.ffill()\n",
      "df['\u57f7\u884c\u55ae\u4f4d'] = '\u4fdd\u8b77\u53f8\u6cd5\u6cbb\u5ba3\u6559\u79d1'\n",
      "df['\u884c\u653f\u90e8\u6703'] = '\u6cd5\u52d9\u90e8'\n",
      "df['\u6c11\u570b\u5e74'] = '102'\n",
      "df = df[['\u4e3b\u984c', '\u5a92\u9ad4', '\u6c11\u570b\u5e74', '\u6642\u9593', '\u91d1\u984d', '\u57f7\u884c\u55ae\u4f4d', '\u884c\u653f\u90e8\u6703', '\u5099\u8a3b']]"
     ],
     "language": "python",
     "metadata": {},
     "outputs": [],
     "prompt_number": 81
    },
    {
     "cell_type": "code",
     "collapsed": false,
     "input": [
      "out_stem = OUTPUT_BSAE / '102\u5e74\u7b2c2-4\u5b63_{}'.format(xls_p.stem)\n",
      "df.to_csv(str(out_stem)+ \".csv\", index=False)\n",
      "df.to_excel(str(out_stem) + \".xlsx\", index=False)"
     ],
     "language": "python",
     "metadata": {},
     "outputs": [],
     "prompt_number": 82
    },
    {
     "cell_type": "heading",
     "level": 1,
     "metadata": {},
     "source": [
      "\u5408\u4f75\u5168\u90e8\u6a94\u6848"
     ]
    },
    {
     "cell_type": "code",
     "collapsed": false,
     "input": [
      "csv_to_merge = [p for p in OUTPUT_BSAE.iterdir() if p.suffix == '.csv' and '\u7e3d\u6574\u7406' not in p.name]\n",
      "csv_to_merge"
     ],
     "language": "python",
     "metadata": {},
     "outputs": [
      {
       "metadata": {},
       "output_type": "pyout",
       "prompt_number": 92,
       "text": [
        "[PosixPath('../\u6cd5\u52d9\u90e8/parsed/101\u5e74\u4e0a\u534a_283116273998.csv'),\n",
        " PosixPath('../\u6cd5\u52d9\u90e8/parsed/101\u5e74\u7b2c2\u5b63_211221155896.csv'),\n",
        " PosixPath('../\u6cd5\u52d9\u90e8/parsed/101\u5e74\u7b2c3\u5b63_210181445976.csv'),\n",
        " PosixPath('../\u6cd5\u52d9\u90e8/parsed/101\u5e74\u7b2c3\u5b63_34816563354.csv'),\n",
        " PosixPath('../\u6cd5\u52d9\u90e8/parsed/101\u5e74\u7b2c4\u5b63_2122614425229.csv'),\n",
        " PosixPath('../\u6cd5\u52d9\u90e8/parsed/102\u5e74\u7b2c2-4\u5b63_412416134929.csv'),\n",
        " PosixPath('../\u6cd5\u52d9\u90e8/parsed/102\u5e74\u7b2c3\u5b63_31249425174.csv'),\n",
        " PosixPath('../\u6cd5\u52d9\u90e8/parsed/102\u5e74\u7b2c4\u5b63_31249433937.csv')]"
       ]
      }
     ],
     "prompt_number": 92
    },
    {
     "cell_type": "code",
     "collapsed": false,
     "input": [
      "df_merged = pd.concat([pd.read_csv(str(p)) for p in csv_to_merge], ignore_index=True)"
     ],
     "language": "python",
     "metadata": {},
     "outputs": [],
     "prompt_number": 93
    },
    {
     "cell_type": "code",
     "collapsed": false,
     "input": [
      "df_merged.head()"
     ],
     "language": "python",
     "metadata": {},
     "outputs": [
      {
       "html": [
        "<div style=\"max-height:1000px;max-width:1500px;overflow:auto;\">\n",
        "<table border=\"1\" class=\"dataframe\">\n",
        "  <thead>\n",
        "    <tr style=\"text-align: right;\">\n",
        "      <th></th>\n",
        "      <th>\u4e3b\u984c</th>\n",
        "      <th>\u5a92\u9ad4</th>\n",
        "      <th>\u6c11\u570b\u5e74</th>\n",
        "      <th>\u6642\u9593</th>\n",
        "      <th>\u91d1\u984d</th>\n",
        "      <th>\u57f7\u884c\u55ae\u4f4d</th>\n",
        "      <th>\u884c\u653f\u90e8\u6703</th>\n",
        "      <th>\u5099\u8a3b</th>\n",
        "    </tr>\n",
        "  </thead>\n",
        "  <tbody>\n",
        "    <tr>\n",
        "      <th>0</th>\n",
        "      <td>                      \u53cd\u8cc4\u9078\u5ba3\u5c0e\u8eca\u9ad4\u5ee3\u544a</td>\n",
        "      <td> \u5e73\u9762\u5ee3\u544a</td>\n",
        "      <td> 101</td>\n",
        "      <td>                                 100\u5e7411\u6708\u81f3101\u5e741\u670813\u65e5</td>\n",
        "      <td> 35235</td>\n",
        "      <td> \u81fa\u5317\u5730\u65b9\u6cd5\u9662\u6aa2\u5bdf\u7f72</td>\n",
        "      <td> \u6cd5\u52d9\u90e8</td>\n",
        "      <td> \u6b21\u6578: \u5f35\u8cbc\u672c\u7f72\u516c\u52d9\u8eca\u8f1b\u51718\u90e8\\n\u5c0d\u8c61: \u4e00\u822c\u6c11\u773e</td>\n",
        "    </tr>\n",
        "    <tr>\n",
        "      <th>1</th>\n",
        "      <td>                    \u53cd\u8cc4\u9078\u5ba3\u5c0e\u6587\u5ba3\u6587\u5177\u7528\u54c1</td>\n",
        "      <td> \u5e73\u9762\u5ee3\u544a</td>\n",
        "      <td> 101</td>\n",
        "      <td>                                 100\u5e7411\u6708\u81f3101\u5e741\u670813\u65e5</td>\n",
        "      <td> 99600</td>\n",
        "      <td> \u81fa\u5317\u5730\u65b9\u6cd5\u9662\u6aa2\u5bdf\u7f72</td>\n",
        "      <td> \u6cd5\u52d9\u90e8</td>\n",
        "      <td>    \u6b21\u6578: \u5404\u9805\u5ba3\u5c0e\u6d3b\u52d5\u5834\u5408\\n\u5c0d\u8c61: \u4e00\u822c\u6c11\u773e</td>\n",
        "    </tr>\n",
        "    <tr>\n",
        "      <th>2</th>\n",
        "      <td>                      \u53cd\u8cc4\u9078\u5ba3\u5c0e\u9285\u8cea\u66f8\u7c64</td>\n",
        "      <td> \u5e73\u9762\u5ee3\u544a</td>\n",
        "      <td> 101</td>\n",
        "      <td>                                 100\u5e7411\u6708\u81f3101\u5e741\u670813\u65e5</td>\n",
        "      <td> 95000</td>\n",
        "      <td> \u81fa\u5317\u5730\u65b9\u6cd5\u9662\u6aa2\u5bdf\u7f72</td>\n",
        "      <td> \u6cd5\u52d9\u90e8</td>\n",
        "      <td>    \u6b21\u6578: \u5404\u9805\u5ba3\u5c0e\u6d3b\u52d5\u5834\u5408\\n\u5c0d\u8c61: \u4e00\u822c\u6c11\u773e</td>\n",
        "    </tr>\n",
        "    <tr>\n",
        "      <th>3</th>\n",
        "      <td>                  \u53cd\u8cc4\u9078\u5ba3\u5c0e\uff2c\u593e\u53ca\u53cd\u8cc4\u884c\u52d5\u6a39</td>\n",
        "      <td> \u5e73\u9762\u5ee3\u544a</td>\n",
        "      <td> 101</td>\n",
        "      <td>                                 100\u5e7411\u6708\u81f3101\u5e741\u670813\u65e5</td>\n",
        "      <td> 70165</td>\n",
        "      <td> \u81fa\u5317\u5730\u65b9\u6cd5\u9662\u6aa2\u5bdf\u7f72</td>\n",
        "      <td> \u6cd5\u52d9\u90e8</td>\n",
        "      <td>    \u6b21\u6578: \u5404\u9805\u5ba3\u5c0e\u6d3b\u52d5\u5834\u5408\\n\u5c0d\u8c61: \u4e00\u822c\u6c11\u773e</td>\n",
        "    </tr>\n",
        "    <tr>\n",
        "      <th>4</th>\n",
        "      <td> \u900f\u904e\u520a\u767b\u65bc\u5b98\u65b9\u6216\u975e\u5b98\u65b9\u82f1\u6587\u96dc\u8a8c\u65b9\u5f0f\uff0c\u5411\u570b\u969b\u884c\u92b7\u672c\u7f72\u5ec9\u653f\u5f62\u8c61\u3002</td>\n",
        "      <td> \u5e73\u9762\u5a92\u9ad4</td>\n",
        "      <td> 101</td>\n",
        "      <td> 1.\u81fa\u5317\u5e02\u6b50\u6d32\u5546\u6703Euroview\u7b2c141\u671f(101\u5e74 4\u6708/5\u6708)\u520a\u767b\u6a19\u984c\u300cRooting...</td>\n",
        "      <td> 82000</td>\n",
        "      <td>       \u5ec9\u653f\u7f72</td>\n",
        "      <td> \u6cd5\u52d9\u90e8</td>\n",
        "      <td>        \u6b21\u6578: 2\\n\u5c0d\u8c61: \u5916\u5546\u53ca\u4e00\u822c\u6c11\u773e</td>\n",
        "    </tr>\n",
        "  </tbody>\n",
        "</table>\n",
        "<p>5 rows \u00d7 8 columns</p>\n",
        "</div>"
       ],
       "metadata": {},
       "output_type": "pyout",
       "prompt_number": 96,
       "text": [
        "                               \u4e3b\u984c    \u5a92\u9ad4  \u6c11\u570b\u5e74  \\\n",
        "0                       \u53cd\u8cc4\u9078\u5ba3\u5c0e\u8eca\u9ad4\u5ee3\u544a  \u5e73\u9762\u5ee3\u544a  101   \n",
        "1                     \u53cd\u8cc4\u9078\u5ba3\u5c0e\u6587\u5ba3\u6587\u5177\u7528\u54c1  \u5e73\u9762\u5ee3\u544a  101   \n",
        "2                       \u53cd\u8cc4\u9078\u5ba3\u5c0e\u9285\u8cea\u66f8\u7c64  \u5e73\u9762\u5ee3\u544a  101   \n",
        "3                   \u53cd\u8cc4\u9078\u5ba3\u5c0e\uff2c\u593e\u53ca\u53cd\u8cc4\u884c\u52d5\u6a39  \u5e73\u9762\u5ee3\u544a  101   \n",
        "4  \u900f\u904e\u520a\u767b\u65bc\u5b98\u65b9\u6216\u975e\u5b98\u65b9\u82f1\u6587\u96dc\u8a8c\u65b9\u5f0f\uff0c\u5411\u570b\u969b\u884c\u92b7\u672c\u7f72\u5ec9\u653f\u5f62\u8c61\u3002  \u5e73\u9762\u5a92\u9ad4  101   \n",
        "\n",
        "                                                  \u6642\u9593     \u91d1\u984d       \u57f7\u884c\u55ae\u4f4d \u884c\u653f\u90e8\u6703  \\\n",
        "0                                  100\u5e7411\u6708\u81f3101\u5e741\u670813\u65e5  35235  \u81fa\u5317\u5730\u65b9\u6cd5\u9662\u6aa2\u5bdf\u7f72  \u6cd5\u52d9\u90e8   \n",
        "1                                  100\u5e7411\u6708\u81f3101\u5e741\u670813\u65e5  99600  \u81fa\u5317\u5730\u65b9\u6cd5\u9662\u6aa2\u5bdf\u7f72  \u6cd5\u52d9\u90e8   \n",
        "2                                  100\u5e7411\u6708\u81f3101\u5e741\u670813\u65e5  95000  \u81fa\u5317\u5730\u65b9\u6cd5\u9662\u6aa2\u5bdf\u7f72  \u6cd5\u52d9\u90e8   \n",
        "3                                  100\u5e7411\u6708\u81f3101\u5e741\u670813\u65e5  70165  \u81fa\u5317\u5730\u65b9\u6cd5\u9662\u6aa2\u5bdf\u7f72  \u6cd5\u52d9\u90e8   \n",
        "4  1.\u81fa\u5317\u5e02\u6b50\u6d32\u5546\u6703Euroview\u7b2c141\u671f(101\u5e74 4\u6708/5\u6708)\u520a\u767b\u6a19\u984c\u300cRooting...  82000        \u5ec9\u653f\u7f72  \u6cd5\u52d9\u90e8   \n",
        "\n",
        "                          \u5099\u8a3b  \n",
        "0  \u6b21\u6578: \u5f35\u8cbc\u672c\u7f72\u516c\u52d9\u8eca\u8f1b\u51718\u90e8\\n\u5c0d\u8c61: \u4e00\u822c\u6c11\u773e  \n",
        "1     \u6b21\u6578: \u5404\u9805\u5ba3\u5c0e\u6d3b\u52d5\u5834\u5408\\n\u5c0d\u8c61: \u4e00\u822c\u6c11\u773e  \n",
        "2     \u6b21\u6578: \u5404\u9805\u5ba3\u5c0e\u6d3b\u52d5\u5834\u5408\\n\u5c0d\u8c61: \u4e00\u822c\u6c11\u773e  \n",
        "3     \u6b21\u6578: \u5404\u9805\u5ba3\u5c0e\u6d3b\u52d5\u5834\u5408\\n\u5c0d\u8c61: \u4e00\u822c\u6c11\u773e  \n",
        "4         \u6b21\u6578: 2\\n\u5c0d\u8c61: \u5916\u5546\u53ca\u4e00\u822c\u6c11\u773e  \n",
        "\n",
        "[5 rows x 8 columns]"
       ]
      }
     ],
     "prompt_number": 96
    },
    {
     "cell_type": "code",
     "collapsed": false,
     "input": [
      "merged_stem = OUTPUT_BSAE / '\u6cd5\u52d9\u90e8101-102\u5e74\u7e3d\u6574\u7406'"
     ],
     "language": "python",
     "metadata": {},
     "outputs": [],
     "prompt_number": 83
    },
    {
     "cell_type": "code",
     "collapsed": false,
     "input": [
      "df_merged.to_csv(str(merged_stem)+ \".csv\", index=False)\n",
      "df_merged.to_excel(str(merged_stem) + \".xlsx\", index=False)"
     ],
     "language": "python",
     "metadata": {},
     "outputs": [],
     "prompt_number": 98
    },
    {
     "cell_type": "code",
     "collapsed": false,
     "input": [],
     "language": "python",
     "metadata": {},
     "outputs": []
    }
   ],
   "metadata": {}
  }
 ]
}