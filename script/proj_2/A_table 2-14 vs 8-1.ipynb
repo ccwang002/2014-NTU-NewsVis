{
 "metadata": {
  "name": "",
  "signature": "sha256:94663837d2f32bbd82d8dc6bc365ec323393fd2f1bc46178b3ceadfae8e5c75e"
 },
 "nbformat": 3,
 "nbformat_minor": 0,
 "worksheets": [
  {
   "cells": [
    {
     "cell_type": "code",
     "collapsed": false,
     "input": [
      "import numpy as np\n",
      "from pathlib import Path\n",
      "import pandas as pd\n",
      "import re"
     ],
     "language": "python",
     "metadata": {},
     "outputs": [],
     "prompt_number": 1
    },
    {
     "cell_type": "code",
     "collapsed": false,
     "input": [
      "ATTACH_ROOT = Path(\"../../2_\u8077\u707d\u5206\u6790/\u9644\u4ef6/\")"
     ],
     "language": "python",
     "metadata": {},
     "outputs": [],
     "prompt_number": 2
    },
    {
     "cell_type": "code",
     "collapsed": false,
     "input": [
      "attach_5 = str(ATTACH_ROOT / \"5.xls\")"
     ],
     "language": "python",
     "metadata": {},
     "outputs": [],
     "prompt_number": 3
    },
    {
     "cell_type": "code",
     "collapsed": false,
     "input": [
      "# \u8b80 2-14\n",
      "df_214 = pd.read_excel(attach_5, 0, skiprows=3, skip_footer=3)"
     ],
     "language": "python",
     "metadata": {},
     "outputs": [],
     "prompt_number": 4
    },
    {
     "cell_type": "code",
     "collapsed": false,
     "input": [
      "new_index = df_214.columns.tolist()\n",
      "new_index[:3] = [\"\u884c\u696d\u5225\", \"\u7e3d\u53d7\u6aa2\u5ee0\u6b21\", \"\u521d\u67e5\u5ee0\u6b21\"]\n",
      "new_index[4] = \"\u8907\u67e5\u5ee0\u6b21\"\n",
      "df_214.columns = new_index"
     ],
     "language": "python",
     "metadata": {},
     "outputs": [],
     "prompt_number": 5
    },
    {
     "cell_type": "code",
     "collapsed": false,
     "input": [
      "# \u53bb\u6389\u884c\u696d\u5225\u7a7a\u767d\u3001\u591a\u9918\u7684\u88dd\u98fe\n",
      "def clean_jobtype(jobtype):\n",
      "    return re.sub('[ *]+', '', jobtype, re.UNICODE)\n",
      "\n",
      "df_214.loc[:, \"\u884c\u696d\u5225\"] = df_214[\"\u884c\u696d\u5225\"].apply(clean_jobtype)"
     ],
     "language": "python",
     "metadata": {},
     "outputs": [],
     "prompt_number": 6
    },
    {
     "cell_type": "code",
     "collapsed": false,
     "input": [
      "# \u53bb\u6389\u7e3d\u8a08\u7684\u8cc7\u6599\u884c\n",
      "df_214 = df_214.loc[~df_214.iloc[:, 0].isin([\"\u7e3d\u8a08\", \"\u88fd\u9020\u696d\"])]"
     ],
     "language": "python",
     "metadata": {},
     "outputs": [],
     "prompt_number": 7
    },
    {
     "cell_type": "code",
     "collapsed": false,
     "input": [
      "df_214.index = df_214.iloc[:, 0]\n",
      "df_214 = df_214.iloc[:, 1:]"
     ],
     "language": "python",
     "metadata": {},
     "outputs": [],
     "prompt_number": 8
    },
    {
     "cell_type": "code",
     "collapsed": false,
     "input": [
      "df_214.head()"
     ],
     "language": "python",
     "metadata": {},
     "outputs": [
      {
       "html": [
        "<div style=\"max-height:1000px;max-width:1500px;overflow:auto;\">\n",
        "<table border=\"1\" class=\"dataframe\">\n",
        "  <thead>\n",
        "    <tr style=\"text-align: right;\">\n",
        "      <th></th>\n",
        "      <th>\u7e3d\u53d7\u6aa2\u5ee0\u6b21</th>\n",
        "      <th>\u521d\u67e5\u5ee0\u6b21</th>\n",
        "      <th>\u521d\u67e5\u6bd4\u7387(\uff05)</th>\n",
        "      <th>\u8907\u67e5\u5ee0\u6b21</th>\n",
        "      <th>\u8907\u67e5\u6bd4\u7387(\uff05)</th>\n",
        "      <th>\u8907\u67e5\u7387</th>\n",
        "    </tr>\n",
        "    <tr>\n",
        "      <th>\u884c\u696d\u5225</th>\n",
        "      <th></th>\n",
        "      <th></th>\n",
        "      <th></th>\n",
        "      <th></th>\n",
        "      <th></th>\n",
        "      <th></th>\n",
        "    </tr>\n",
        "  </thead>\n",
        "  <tbody>\n",
        "    <tr>\n",
        "      <th>\u8fb2\u3001\u6797\u3001\u6f01\u3001\u7267\u696d</th>\n",
        "      <td>  93</td>\n",
        "      <td>  87</td>\n",
        "      <td> 93.548387</td>\n",
        "      <td>  6</td>\n",
        "      <td>  6.451613</td>\n",
        "      <td>  6.896552</td>\n",
        "    </tr>\n",
        "    <tr>\n",
        "      <th>\u7926\u696d\u53ca\u571f\u77f3\u63a1\u53d6\u696d</th>\n",
        "      <td>  92</td>\n",
        "      <td>  67</td>\n",
        "      <td> 72.826087</td>\n",
        "      <td> 25</td>\n",
        "      <td> 27.173913</td>\n",
        "      <td> 37.313433</td>\n",
        "    </tr>\n",
        "    <tr>\n",
        "      <th>\u98df\u54c1\u88fd\u9020\u696d</th>\n",
        "      <td> 976</td>\n",
        "      <td> 878</td>\n",
        "      <td> 89.959016</td>\n",
        "      <td> 98</td>\n",
        "      <td> 10.040984</td>\n",
        "      <td> 11.161731</td>\n",
        "    </tr>\n",
        "    <tr>\n",
        "      <th>\u98f2\u6599\u88fd\u9020\u696d</th>\n",
        "      <td> 279</td>\n",
        "      <td> 265</td>\n",
        "      <td> 94.982079</td>\n",
        "      <td> 14</td>\n",
        "      <td>  5.017921</td>\n",
        "      <td>  5.283019</td>\n",
        "    </tr>\n",
        "    <tr>\n",
        "      <th>\u83f8\u8349\u88fd\u9020\u696d</th>\n",
        "      <td>  15</td>\n",
        "      <td>  14</td>\n",
        "      <td> 93.333333</td>\n",
        "      <td>  1</td>\n",
        "      <td>  6.666667</td>\n",
        "      <td>  7.142857</td>\n",
        "    </tr>\n",
        "  </tbody>\n",
        "</table>\n",
        "<p>5 rows \u00d7 6 columns</p>\n",
        "</div>"
       ],
       "metadata": {},
       "output_type": "pyout",
       "prompt_number": 9,
       "text": [
        "          \u7e3d\u53d7\u6aa2\u5ee0\u6b21  \u521d\u67e5\u5ee0\u6b21    \u521d\u67e5\u6bd4\u7387(\uff05)  \u8907\u67e5\u5ee0\u6b21    \u8907\u67e5\u6bd4\u7387(\uff05)        \u8907\u67e5\u7387\n",
        "\u884c\u696d\u5225                                                         \n",
        "\u8fb2\u3001\u6797\u3001\u6f01\u3001\u7267\u696d     93    87  93.548387     6   6.451613   6.896552\n",
        "\u7926\u696d\u53ca\u571f\u77f3\u63a1\u53d6\u696d     92    67  72.826087    25  27.173913  37.313433\n",
        "\u98df\u54c1\u88fd\u9020\u696d       976   878  89.959016    98  10.040984  11.161731\n",
        "\u98f2\u6599\u88fd\u9020\u696d       279   265  94.982079    14   5.017921   5.283019\n",
        "\u83f8\u8349\u88fd\u9020\u696d        15    14  93.333333     1   6.666667   7.142857\n",
        "\n",
        "[5 rows x 6 columns]"
       ]
      }
     ],
     "prompt_number": 9
    },
    {
     "cell_type": "code",
     "collapsed": false,
     "input": [
      "attach_11 = str(ATTACH_ROOT / \"11.xls\")"
     ],
     "language": "python",
     "metadata": {},
     "outputs": [],
     "prompt_number": 10
    },
    {
     "cell_type": "code",
     "collapsed": false,
     "input": [
      "df_81 = pd.read_excel(attach_11, 0, skiprows=2, skip_footer=11)\n",
      "# df_81.tail()"
     ],
     "language": "python",
     "metadata": {},
     "outputs": [],
     "prompt_number": 11
    },
    {
     "cell_type": "code",
     "collapsed": false,
     "input": [
      "second_col = df_81.irow(0).values\n",
      "from_first_col = pd.isnull(second_col)\n",
      "second_col[from_first_col] = df_81.columns[from_first_col]\n",
      "new_col = pd.Series([re.sub(r'[\\n ]+', '', cell, re.MULTILINE&re.UNICODE) for cell in second_col])"
     ],
     "language": "python",
     "metadata": {},
     "outputs": [],
     "prompt_number": 12
    },
    {
     "cell_type": "code",
     "collapsed": false,
     "input": [
      "new_col.values"
     ],
     "language": "python",
     "metadata": {},
     "outputs": [
      {
       "metadata": {},
       "output_type": "pyout",
       "prompt_number": 13,
       "text": [
        "array(['\u884c\u696d\u5225', '\u9673\u5831\u4e8b\u696d\u55ae\u4f4d\u6578(\u5bb6)', '\u767e\u5206\u6bd4(\uff05)', '\u50f1\u7528\u52de\u5de5\u4eba\u6578(\u4eba)', '\u767e\u5206\u6bd4(\uff05).1',\n",
        "       '\u7e3d\u5de5\u4f5c\u65e5\u6578(\u5de5\u4f5c\u5929)', '\u767e\u5206\u6bd4(\uff05).2', '\u7e3d\u7d93\u6b77\u5de5\u6642(\u6642)', '\u767e\u5206\u6bd4(\uff05).3', '\u5931\u80fd\u50b7\u5bb3\u6b21\u6578(\u4eba\u6b21)',\n",
        "       '\u767e\u5206\u6bd4(\uff05).4', '\u5931\u80fd\u50b7\u5bb3\u983b\u7387', '\u5df2\u7d50\u6848\u4e4b\u5931\u80fd\u50b7\u5bb3\u6b21\u6578(\u4eba\u6b21)', '\u767e\u5206\u6bd4(\uff05).5', '\u884c\u696d\u5225.1',\n",
        "       '\u6b7b\u4ea1(\u4eba)', '\u767e\u5206\u6bd4(\uff05)', '\u6c38\u4e45\u5168\u5931\u80fd(\u4eba)', '\u767e\u5206\u6bd4(\uff05)', '\u6c38\u4e45\u90e8\u5206\u5931\u80fd(\u4eba\u6b21)', '\u767e\u5206\u6bd4(\uff05)',\n",
        "       '\u66ab\u6642\u5168\u5931\u80fd(\u4eba\u6b21)', '\u767e\u5206\u6bd4(\uff05)', '\u7e3d\u640d\u5931\u5de5\u4f5c\u65e5\u6578(\u65e5)', '\u767e\u5206\u6bd4(\uff05)', '\u5931\u80fd\u50b7\u5bb3\u56b4\u91cd\u7387', '\u7e3d\u548c\u50b7\u5bb3\u6307\u6578'], dtype=object)"
       ]
      }
     ],
     "prompt_number": 13
    },
    {
     "cell_type": "code",
     "collapsed": false,
     "input": [
      "for percent_ix in new_col.index[new_col.apply(lambda x: \"\u767e\u5206\u6bd4\" in x)]:\n",
      "    m = re.search(r'(?P<name>.*)\\(.*\\)', new_col.iat[percent_ix-1], re.UNICODE)\n",
      "    if m:\n",
      "        new_col.iat[percent_ix] = '{}\u767e\u5206\u6bd4(%)'.format(m.group(1))"
     ],
     "language": "python",
     "metadata": {},
     "outputs": [],
     "prompt_number": 14
    },
    {
     "cell_type": "code",
     "collapsed": false,
     "input": [
      "df_81.columns = new_col.tolist()"
     ],
     "language": "python",
     "metadata": {},
     "outputs": [],
     "prompt_number": 15
    },
    {
     "cell_type": "code",
     "collapsed": false,
     "input": [
      "df_81 = df_81.loc[1:, ~df_81.columns.isin([\"\u884c\u696d\u5225.1\"])]"
     ],
     "language": "python",
     "metadata": {},
     "outputs": [],
     "prompt_number": 16
    },
    {
     "cell_type": "code",
     "collapsed": false,
     "input": [
      "df_81.loc[:, \"\u884c\u696d\u5225\"] = df_81[\"\u884c\u696d\u5225\"].apply(clean_jobtype)\n",
      "# \u53bb\u6389\u7e3d\u8a08\u7684\u8cc7\u6599\u884c\n",
      "df_81 = df_81.loc[~df_81.iloc[:, 0].isin([\"\u5168\u7522\u696d\", \"\u7e3d\u8a08\", \"\u88fd\u9020\u696d\"])]\n",
      "df_81.head()"
     ],
     "language": "python",
     "metadata": {},
     "outputs": [
      {
       "html": [
        "<div style=\"max-height:1000px;max-width:1500px;overflow:auto;\">\n",
        "<table border=\"1\" class=\"dataframe\">\n",
        "  <thead>\n",
        "    <tr style=\"text-align: right;\">\n",
        "      <th></th>\n",
        "      <th>\u884c\u696d\u5225</th>\n",
        "      <th>\u9673\u5831\u4e8b\u696d\u55ae\u4f4d\u6578(\u5bb6)</th>\n",
        "      <th>\u9673\u5831\u4e8b\u696d\u55ae\u4f4d\u6578\u767e\u5206\u6bd4(%)</th>\n",
        "      <th>\u50f1\u7528\u52de\u5de5\u4eba\u6578(\u4eba)</th>\n",
        "      <th>\u50f1\u7528\u52de\u5de5\u4eba\u6578\u767e\u5206\u6bd4(%)</th>\n",
        "      <th>\u7e3d\u5de5\u4f5c\u65e5\u6578(\u5de5\u4f5c\u5929)</th>\n",
        "      <th>\u7e3d\u5de5\u4f5c\u65e5\u6578\u767e\u5206\u6bd4(%)</th>\n",
        "      <th>\u7e3d\u7d93\u6b77\u5de5\u6642(\u6642)</th>\n",
        "      <th>\u7e3d\u7d93\u6b77\u5de5\u6642\u767e\u5206\u6bd4(%)</th>\n",
        "      <th>\u5931\u80fd\u50b7\u5bb3\u6b21\u6578(\u4eba\u6b21)</th>\n",
        "      <th>\u5931\u80fd\u50b7\u5bb3\u6b21\u6578\u767e\u5206\u6bd4(%)</th>\n",
        "      <th>\u5931\u80fd\u50b7\u5bb3\u983b\u7387</th>\n",
        "      <th>\u5df2\u7d50\u6848\u4e4b\u5931\u80fd\u50b7\u5bb3\u6b21\u6578(\u4eba\u6b21)</th>\n",
        "      <th>\u5df2\u7d50\u6848\u4e4b\u5931\u80fd\u50b7\u5bb3\u6b21\u6578\u767e\u5206\u6bd4(%)</th>\n",
        "      <th>\u6b7b\u4ea1(\u4eba)</th>\n",
        "      <th>\u6b7b\u4ea1\u767e\u5206\u6bd4(%)</th>\n",
        "      <th>\u6c38\u4e45\u5168\u5931\u80fd(\u4eba)</th>\n",
        "      <th>\u6c38\u4e45\u5168\u5931\u80fd\u767e\u5206\u6bd4(%)</th>\n",
        "      <th>\u6c38\u4e45\u90e8\u5206\u5931\u80fd(\u4eba\u6b21)</th>\n",
        "      <th>\u6c38\u4e45\u90e8\u5206\u5931\u80fd\u767e\u5206\u6bd4(%)</th>\n",
        "      <th></th>\n",
        "    </tr>\n",
        "  </thead>\n",
        "  <tbody>\n",
        "    <tr>\n",
        "      <th>2</th>\n",
        "      <td> \u8fb2\u3001\u6797\u3001\u6f01\u3001\u7267\u696d</td>\n",
        "      <td>  36</td>\n",
        "      <td> 0.230562</td>\n",
        "      <td>  4048</td>\n",
        "      <td> 0.127440</td>\n",
        "      <td>  1057556</td>\n",
        "      <td> 0.130080</td>\n",
        "      <td>   8241061</td>\n",
        "      <td> 0.124220</td>\n",
        "      <td>  23</td>\n",
        "      <td> 0.201525</td>\n",
        "      <td> 2.790903</td>\n",
        "      <td>  23</td>\n",
        "      <td> 0.201525</td>\n",
        "      <td> 0</td>\n",
        "      <td>        0</td>\n",
        "      <td> 0</td>\n",
        "      <td> 0</td>\n",
        "      <td>  1</td>\n",
        "      <td> 0.3076923</td>\n",
        "      <td>...</td>\n",
        "    </tr>\n",
        "    <tr>\n",
        "      <th>3</th>\n",
        "      <td> \u7926\u696d\u53ca\u571f\u77f3\u63a1\u53d6\u696d</td>\n",
        "      <td>  46</td>\n",
        "      <td> 0.294607</td>\n",
        "      <td>  3657</td>\n",
        "      <td> 0.115130</td>\n",
        "      <td>   941137</td>\n",
        "      <td> 0.115761</td>\n",
        "      <td>   7594740</td>\n",
        "      <td> 0.114477</td>\n",
        "      <td>   9</td>\n",
        "      <td> 0.078857</td>\n",
        "      <td> 1.185031</td>\n",
        "      <td>   9</td>\n",
        "      <td> 0.078857</td>\n",
        "      <td> 0</td>\n",
        "      <td>        0</td>\n",
        "      <td> 0</td>\n",
        "      <td> 0</td>\n",
        "      <td>  0</td>\n",
        "      <td>         0</td>\n",
        "      <td>...</td>\n",
        "    </tr>\n",
        "    <tr>\n",
        "      <th>5</th>\n",
        "      <td>    \u98df\u54c1\u88fd\u9020\u696d</td>\n",
        "      <td> 449</td>\n",
        "      <td> 2.875624</td>\n",
        "      <td> 68580</td>\n",
        "      <td> 2.159044</td>\n",
        "      <td> 18146669</td>\n",
        "      <td> 2.232057</td>\n",
        "      <td> 146729055</td>\n",
        "      <td> 2.211685</td>\n",
        "      <td> 484</td>\n",
        "      <td> 4.240778</td>\n",
        "      <td> 3.298597</td>\n",
        "      <td> 484</td>\n",
        "      <td> 4.240778</td>\n",
        "      <td> 3</td>\n",
        "      <td> 4.285714</td>\n",
        "      <td> 0</td>\n",
        "      <td> 0</td>\n",
        "      <td> 22</td>\n",
        "      <td>  6.769231</td>\n",
        "      <td>...</td>\n",
        "    </tr>\n",
        "    <tr>\n",
        "      <th>6</th>\n",
        "      <td>    \u98f2\u6599\u88fd\u9020\u696d</td>\n",
        "      <td>  51</td>\n",
        "      <td> 0.326630</td>\n",
        "      <td>  8456</td>\n",
        "      <td> 0.266213</td>\n",
        "      <td>  2144333</td>\n",
        "      <td> 0.263755</td>\n",
        "      <td>  17301757</td>\n",
        "      <td> 0.260794</td>\n",
        "      <td>  25</td>\n",
        "      <td> 0.219048</td>\n",
        "      <td> 1.444940</td>\n",
        "      <td>  25</td>\n",
        "      <td> 0.219048</td>\n",
        "      <td> 0</td>\n",
        "      <td>        0</td>\n",
        "      <td> 0</td>\n",
        "      <td> 0</td>\n",
        "      <td>  0</td>\n",
        "      <td>         0</td>\n",
        "      <td>...</td>\n",
        "    </tr>\n",
        "    <tr>\n",
        "      <th>7</th>\n",
        "      <td>    \u83f8\u8349\u88fd\u9020\u696d</td>\n",
        "      <td>   4</td>\n",
        "      <td> 0.025618</td>\n",
        "      <td>  1168</td>\n",
        "      <td> 0.036771</td>\n",
        "      <td>   292072</td>\n",
        "      <td> 0.035925</td>\n",
        "      <td>   2220957</td>\n",
        "      <td> 0.033477</td>\n",
        "      <td>   5</td>\n",
        "      <td> 0.043810</td>\n",
        "      <td> 2.251282</td>\n",
        "      <td>   5</td>\n",
        "      <td> 0.043810</td>\n",
        "      <td> 0</td>\n",
        "      <td>        0</td>\n",
        "      <td> 0</td>\n",
        "      <td> 0</td>\n",
        "      <td>  1</td>\n",
        "      <td> 0.3076923</td>\n",
        "      <td>...</td>\n",
        "    </tr>\n",
        "  </tbody>\n",
        "</table>\n",
        "<p>5 rows \u00d7 26 columns</p>\n",
        "</div>"
       ],
       "metadata": {},
       "output_type": "pyout",
       "prompt_number": 17,
       "text": [
        "        \u884c\u696d\u5225  \u9673\u5831\u4e8b\u696d\u55ae\u4f4d\u6578(\u5bb6)  \u9673\u5831\u4e8b\u696d\u55ae\u4f4d\u6578\u767e\u5206\u6bd4(%)  \u50f1\u7528\u52de\u5de5\u4eba\u6578(\u4eba)  \u50f1\u7528\u52de\u5de5\u4eba\u6578\u767e\u5206\u6bd4(%)  \u7e3d\u5de5\u4f5c\u65e5\u6578(\u5de5\u4f5c\u5929)  \\\n",
        "2  \u8fb2\u3001\u6797\u3001\u6f01\u3001\u7267\u696d          36       0.230562       4048      0.127440     1057556   \n",
        "3  \u7926\u696d\u53ca\u571f\u77f3\u63a1\u53d6\u696d          46       0.294607       3657      0.115130      941137   \n",
        "5     \u98df\u54c1\u88fd\u9020\u696d         449       2.875624      68580      2.159044    18146669   \n",
        "6     \u98f2\u6599\u88fd\u9020\u696d          51       0.326630       8456      0.266213     2144333   \n",
        "7     \u83f8\u8349\u88fd\u9020\u696d           4       0.025618       1168      0.036771      292072   \n",
        "\n",
        "   \u7e3d\u5de5\u4f5c\u65e5\u6578\u767e\u5206\u6bd4(%)   \u7e3d\u7d93\u6b77\u5de5\u6642(\u6642)  \u7e3d\u7d93\u6b77\u5de5\u6642\u767e\u5206\u6bd4(%)  \u5931\u80fd\u50b7\u5bb3\u6b21\u6578(\u4eba\u6b21)  \u5931\u80fd\u50b7\u5bb3\u6b21\u6578\u767e\u5206\u6bd4(%)    \u5931\u80fd\u50b7\u5bb3\u983b\u7387  \\\n",
        "2     0.130080    8241061     0.124220          23      0.201525  2.790903   \n",
        "3     0.115761    7594740     0.114477           9      0.078857  1.185031   \n",
        "5     2.232057  146729055     2.211685         484      4.240778  3.298597   \n",
        "6     0.263755   17301757     0.260794          25      0.219048  1.444940   \n",
        "7     0.035925    2220957     0.033477           5      0.043810  2.251282   \n",
        "\n",
        "   \u5df2\u7d50\u6848\u4e4b\u5931\u80fd\u50b7\u5bb3\u6b21\u6578(\u4eba\u6b21)  \u5df2\u7d50\u6848\u4e4b\u5931\u80fd\u50b7\u5bb3\u6b21\u6578\u767e\u5206\u6bd4(%) \u6b7b\u4ea1(\u4eba)  \u6b7b\u4ea1\u767e\u5206\u6bd4(%) \u6c38\u4e45\u5168\u5931\u80fd(\u4eba) \u6c38\u4e45\u5168\u5931\u80fd\u767e\u5206\u6bd4(%)  \\\n",
        "2              23          0.201525     0         0        0           0   \n",
        "3               9          0.078857     0         0        0           0   \n",
        "5             484          4.240778     3  4.285714        0           0   \n",
        "6              25          0.219048     0         0        0           0   \n",
        "7               5          0.043810     0         0        0           0   \n",
        "\n",
        "  \u6c38\u4e45\u90e8\u5206\u5931\u80fd(\u4eba\u6b21) \u6c38\u4e45\u90e8\u5206\u5931\u80fd\u767e\u5206\u6bd4(%)      \n",
        "2          1    0.3076923 ...  \n",
        "3          0            0 ...  \n",
        "5         22     6.769231 ...  \n",
        "6          0            0 ...  \n",
        "7          1    0.3076923 ...  \n",
        "\n",
        "[5 rows x 26 columns]"
       ]
      }
     ],
     "prompt_number": 17
    },
    {
     "cell_type": "code",
     "collapsed": false,
     "input": [
      "df_81.index = df_81.iloc[:, 0]\n",
      "df_81 = df_81.iloc[:, 1:]"
     ],
     "language": "python",
     "metadata": {},
     "outputs": [],
     "prompt_number": 18
    },
    {
     "cell_type": "heading",
     "level": 1,
     "metadata": {},
     "source": [
      "\u4f5c\u5716"
     ]
    },
    {
     "cell_type": "code",
     "collapsed": true,
     "input": [
      "OUT_ROOT = ATTACH_ROOT.parent / '\u5716\u8868\u8f38\u51fa'\n",
      "if not OUT_ROOT.exists():\n",
      "    OUT_ROOT.mkdir()"
     ],
     "language": "python",
     "metadata": {},
     "outputs": [],
     "prompt_number": 19
    },
    {
     "cell_type": "code",
     "collapsed": false,
     "input": [
      "import matplotlib as mpl\n",
      "import brewer2mpl\n",
      "mpl.use('agg')\n",
      "%pylab inline\n",
      "chtfont2 = mpl.font_manager.FontProperties(fname='/Library/Fonts/\u5137\u9ed1 Pro.ttf')\n",
      "chtfont = mpl.font_manager.FontProperties(fname='/Users/liang/Library/Fonts/DFHeiStd-W5.otf')"
     ],
     "language": "python",
     "metadata": {},
     "outputs": [
      {
       "output_type": "stream",
       "stream": "stdout",
       "text": [
        "Populating the interactive namespace from numpy and matplotlib\n"
       ]
      }
     ],
     "prompt_number": 20
    },
    {
     "cell_type": "code",
     "collapsed": false,
     "input": [
      "fig = plt.figure(figsize=(6, 4))\n",
      "plt.scatter(df_214['\u521d\u67e5\u6bd4\u7387(\uff05)'], df_81['\u5931\u80fd\u50b7\u5bb3\u983b\u7387'])\n",
      "plt.xlabel('\u521d\u67e5\u6bd4\u7387(\uff05)', fontproperties=chtfont)\n",
      "plt.ylabel('\u5931\u80fd\u50b7\u5bb3\u983b\u7387', fontproperties=chtfont)\n",
      "fig.axes.clear()\n",
      "plt.savefig(str(OUT_ROOT / \"A_\u521d\u67e5\u6bd4\u7387\u8207\u5931\u80fd\u50b7\u5bb3\u983b\u7387\u6563\u4f48\u5716.svg\"))"
     ],
     "language": "python",
     "metadata": {},
     "outputs": [
      {
       "metadata": {},
       "output_type": "display_data",
       "png": "[encoded data removed]",
       "text": [
        "<matplotlib.figure.Figure at 0x10ba765c0>"
       ]
      }
     ],
     "prompt_number": 21
    },
    {
     "cell_type": "code",
     "collapsed": false,
     "input": [
      "fig = plt.figure(figsize=(6, 4))\n",
      "plt.scatter(df_214['\u521d\u67e5\u6bd4\u7387(\uff05)'], df_81['\u5931\u80fd\u50b7\u5bb3\u6b21\u6578(\u4eba\u6b21)'])\n",
      "plt.xlabel('\u521d\u67e5\u6bd4\u7387(\uff05)', fontproperties=chtfont)\n",
      "plt.ylabel('\u5931\u80fd\u50b7\u5bb3\u6b21\u6578(\u4eba\u6b21)', fontproperties=chtfont)\n",
      "fig.axes.clear()\n",
      "plt.savefig(str(OUT_ROOT / \"A_\u521d\u67e5\u6bd4\u7387\u8207\u5931\u80fd\u50b7\u5bb3\u4eba\u6b21\u6563\u4f48\u5716.svg\"))"
     ],
     "language": "python",
     "metadata": {},
     "outputs": [
      {
       "metadata": {},
       "output_type": "display_data",
       "png": "[encoded data removed]",
       "text": [
        "<matplotlib.figure.Figure at 0x10ba76438>"
       ]
      }
     ],
     "prompt_number": 22
    },
    {
     "cell_type": "heading",
     "level": 1,
     "metadata": {},
     "source": [
      "\u4f5c\u8868"
     ]
    },
    {
     "cell_type": "code",
     "collapsed": false,
     "input": [
      "out_df = pd.DataFrame([df_214['\u521d\u67e5\u6bd4\u7387(\uff05)'], df_81['\u5931\u80fd\u50b7\u5bb3\u983b\u7387']]).T"
     ],
     "language": "python",
     "metadata": {},
     "outputs": [],
     "prompt_number": 23
    },
    {
     "cell_type": "code",
     "collapsed": false,
     "input": [
      "out_df.to_excel(str(OUT_ROOT / \"A_\u6574\u7406\u597d\u7684\u8cc7\u6599\u8868.xlsx\"))"
     ],
     "language": "python",
     "metadata": {},
     "outputs": [],
     "prompt_number": 24
    },
    {
     "cell_type": "heading",
     "level": 2,
     "metadata": {},
     "source": [
      "\u8f38\u51fa\u55ae\u8868"
     ]
    },
    {
     "cell_type": "code",
     "collapsed": false,
     "input": [
      "TAB_ROOT = ATTACH_ROOT.parent / '\u6574\u7406\u597d\u7684\u55ae\u8868'\n",
      "if not TAB_ROOT.exists():\n",
      "    TAB_ROOT.mkdir()"
     ],
     "language": "python",
     "metadata": {},
     "outputs": [],
     "prompt_number": 25
    },
    {
     "cell_type": "code",
     "collapsed": false,
     "input": [
      "df_214.to_excel(str(TAB_ROOT / \"\u8868_2-14.xlsx\"))\n",
      "df_81.to_excel(str(TAB_ROOT / \"\u8868_8-1.xlsx\"))"
     ],
     "language": "python",
     "metadata": {},
     "outputs": [],
     "prompt_number": 26
    },
    {
     "cell_type": "code",
     "collapsed": false,
     "input": [],
     "language": "python",
     "metadata": {},
     "outputs": []
    }
   ],
   "metadata": {}
  }
 ]
}