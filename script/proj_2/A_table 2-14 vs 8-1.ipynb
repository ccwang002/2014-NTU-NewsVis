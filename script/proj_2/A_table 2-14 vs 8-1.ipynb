{
 "metadata": {
  "name": "",
  "signature": "sha256:f509b9ba0384dfe40e2aceba2228d51bf2411ea1127d17a6567e8bdfdc9fedbc"
 },
 "nbformat": 3,
 "nbformat_minor": 0,
 "worksheets": [
  {
   "cells": [
    {
     "cell_type": "code",
     "collapsed": false,
     "input": [
      "import numpy as np\n",
      "from pathlib import Path\n",
      "import pandas as pd\n",
      "import re"
     ],
     "language": "python",
     "metadata": {},
     "outputs": [],
     "prompt_number": 1
    },
    {
     "cell_type": "code",
     "collapsed": false,
     "input": [
      "ATTACH_ROOT = Path(\"../../2_\u8077\u707d\u5206\u6790/\u9644\u4ef6/\")"
     ],
     "language": "python",
     "metadata": {},
     "outputs": [],
     "prompt_number": 2
    },
    {
     "cell_type": "code",
     "collapsed": false,
     "input": [
      "attach_5 = str(ATTACH_ROOT / \"5.xls\")"
     ],
     "language": "python",
     "metadata": {},
     "outputs": [],
     "prompt_number": 3
    },
    {
     "cell_type": "code",
     "collapsed": false,
     "input": [
      "# \u8b80 2-14\n",
      "df_214 = pd.read_excel(attach_5, 0, skiprows=3, skip_footer=3)"
     ],
     "language": "python",
     "metadata": {},
     "outputs": [],
     "prompt_number": 4
    },
    {
     "cell_type": "code",
     "collapsed": false,
     "input": [
      "new_index = df_214.columns.tolist()\n",
      "new_index[:3] = [\"\u884c\u696d\u5225\", \"\u7e3d\u53d7\u6aa2\u5ee0\u6b21\", \"\u521d\u67e5\u5ee0\u6b21\"]\n",
      "new_index[4] = \"\u8907\u67e5\u5ee0\u6b21\"\n",
      "df_214.columns = new_index"
     ],
     "language": "python",
     "metadata": {},
     "outputs": [],
     "prompt_number": 5
    },
    {
     "cell_type": "code",
     "collapsed": false,
     "input": [
      "# \u53bb\u6389\u884c\u696d\u5225\u7a7a\u767d\u3001\u591a\u9918\u7684\u88dd\u98fe\n",
      "def clean_jobtype(jobtype):\n",
      "    return re.sub('[ *]+', '', jobtype, re.UNICODE)\n",
      "\n",
      "df_214.loc[:, \"\u884c\u696d\u5225\"] = df_214[\"\u884c\u696d\u5225\"].apply(clean_jobtype)"
     ],
     "language": "python",
     "metadata": {},
     "outputs": [],
     "prompt_number": 7
    },
    {
     "cell_type": "code",
     "collapsed": false,
     "input": [
      "# \u53bb\u6389\u7e3d\u8a08\u7684\u8cc7\u6599\u884c\n",
      "df_214 = df_214.loc[~df_214.iloc[:, 0].isin([\"\u7e3d\u8a08\", \"\u88fd\u9020\u696d\"])]"
     ],
     "language": "python",
     "metadata": {},
     "outputs": [],
     "prompt_number": 12
    },
    {
     "cell_type": "code",
     "collapsed": false,
     "input": [
      "df_214.index = df_214.iloc[:, 0]\n",
      "df_214 = df_214.iloc[:, 1:]"
     ],
     "language": "python",
     "metadata": {},
     "outputs": [],
     "prompt_number": 14
    },
    {
     "cell_type": "code",
     "collapsed": false,
     "input": [
      "df_214.head()"
     ],
     "language": "python",
     "metadata": {},
     "outputs": [
      {
       "html": [
        "<div style=\"max-height:1000px;max-width:1500px;overflow:auto;\">\n",
        "<table border=\"1\" class=\"dataframe\">\n",
        "  <thead>\n",
        "    <tr style=\"text-align: right;\">\n",
        "      <th></th>\n",
        "      <th>\u7e3d\u53d7\u6aa2\u5ee0\u6b21</th>\n",
        "      <th>\u521d\u67e5\u5ee0\u6b21</th>\n",
        "      <th>\u521d\u67e5\u6bd4\u7387(\uff05)</th>\n",
        "      <th>\u8907\u67e5\u5ee0\u6b21</th>\n",
        "      <th>\u8907\u67e5\u6bd4\u7387(\uff05)</th>\n",
        "      <th>\u8907\u67e5\u7387</th>\n",
        "    </tr>\n",
        "    <tr>\n",
        "      <th>\u884c\u696d\u5225</th>\n",
        "      <th></th>\n",
        "      <th></th>\n",
        "      <th></th>\n",
        "      <th></th>\n",
        "      <th></th>\n",
        "      <th></th>\n",
        "    </tr>\n",
        "  </thead>\n",
        "  <tbody>\n",
        "    <tr>\n",
        "      <th>\u8fb2\u3001\u6797\u3001\u6f01\u3001\u7267\u696d</th>\n",
        "      <td>  93</td>\n",
        "      <td>  87</td>\n",
        "      <td> 93.548387</td>\n",
        "      <td>  6</td>\n",
        "      <td>  6.451613</td>\n",
        "      <td>  6.896552</td>\n",
        "    </tr>\n",
        "    <tr>\n",
        "      <th>\u7926\u696d\u53ca\u571f\u77f3\u63a1\u53d6\u696d</th>\n",
        "      <td>  92</td>\n",
        "      <td>  67</td>\n",
        "      <td> 72.826087</td>\n",
        "      <td> 25</td>\n",
        "      <td> 27.173913</td>\n",
        "      <td> 37.313433</td>\n",
        "    </tr>\n",
        "    <tr>\n",
        "      <th>\u98df\u54c1\u88fd\u9020\u696d</th>\n",
        "      <td> 976</td>\n",
        "      <td> 878</td>\n",
        "      <td> 89.959016</td>\n",
        "      <td> 98</td>\n",
        "      <td> 10.040984</td>\n",
        "      <td> 11.161731</td>\n",
        "    </tr>\n",
        "    <tr>\n",
        "      <th>\u98f2\u6599\u88fd\u9020\u696d</th>\n",
        "      <td> 279</td>\n",
        "      <td> 265</td>\n",
        "      <td> 94.982079</td>\n",
        "      <td> 14</td>\n",
        "      <td>  5.017921</td>\n",
        "      <td>  5.283019</td>\n",
        "    </tr>\n",
        "    <tr>\n",
        "      <th>\u83f8\u8349\u88fd\u9020\u696d</th>\n",
        "      <td>  15</td>\n",
        "      <td>  14</td>\n",
        "      <td> 93.333333</td>\n",
        "      <td>  1</td>\n",
        "      <td>  6.666667</td>\n",
        "      <td>  7.142857</td>\n",
        "    </tr>\n",
        "  </tbody>\n",
        "</table>\n",
        "<p>5 rows \u00d7 6 columns</p>\n",
        "</div>"
       ],
       "metadata": {},
       "output_type": "pyout",
       "prompt_number": 17,
       "text": [
        "          \u7e3d\u53d7\u6aa2\u5ee0\u6b21  \u521d\u67e5\u5ee0\u6b21    \u521d\u67e5\u6bd4\u7387(\uff05)  \u8907\u67e5\u5ee0\u6b21    \u8907\u67e5\u6bd4\u7387(\uff05)        \u8907\u67e5\u7387\n",
        "\u884c\u696d\u5225                                                         \n",
        "\u8fb2\u3001\u6797\u3001\u6f01\u3001\u7267\u696d     93    87  93.548387     6   6.451613   6.896552\n",
        "\u7926\u696d\u53ca\u571f\u77f3\u63a1\u53d6\u696d     92    67  72.826087    25  27.173913  37.313433\n",
        "\u98df\u54c1\u88fd\u9020\u696d       976   878  89.959016    98  10.040984  11.161731\n",
        "\u98f2\u6599\u88fd\u9020\u696d       279   265  94.982079    14   5.017921   5.283019\n",
        "\u83f8\u8349\u88fd\u9020\u696d        15    14  93.333333     1   6.666667   7.142857\n",
        "\n",
        "[5 rows x 6 columns]"
       ]
      }
     ],
     "prompt_number": 17
    },
    {
     "cell_type": "code",
     "collapsed": false,
     "input": [],
     "language": "python",
     "metadata": {},
     "outputs": []
    }
   ],
   "metadata": {}
  }
 ]
}