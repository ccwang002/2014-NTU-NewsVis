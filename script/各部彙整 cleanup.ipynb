{
 "metadata": {
  "name": ""
 },
 "nbformat": 3,
 "nbformat_minor": 0,
 "worksheets": [
  {
   "cells": [
    {
     "cell_type": "code",
     "collapsed": false,
     "input": [
      "# from pathlib import Path\n",
      "import pandas as pd\n",
      "import numpy as np\n",
      "import re\n",
      "from pathlib import Path"
     ],
     "language": "python",
     "metadata": {},
     "outputs": [],
     "prompt_number": 1
    },
    {
     "cell_type": "code",
     "collapsed": false,
     "input": [
      "import matplotlib as mpl\n",
      "mpl.use('agg')\n",
      "%pylab inline\n",
      "chtfont2 = mpl.font_manager.FontProperties(fname='/Library/Fonts/\u5137\u9ed1 Pro.ttf')\n",
      "chtfont = mpl.font_manager.FontProperties(fname='/Users/liang/Library/Fonts/DFHeiStd-W5.otf')"
     ],
     "language": "python",
     "metadata": {},
     "outputs": [
      {
       "output_type": "stream",
       "stream": "stdout",
       "text": [
        "Populating the interactive namespace from numpy and matplotlib\n"
       ]
      }
     ],
     "prompt_number": 2
    },
    {
     "cell_type": "heading",
     "level": 1,
     "metadata": {},
     "source": [
      "\u7df4\u7fd2\u756b\u5716"
     ]
    },
    {
     "cell_type": "code",
     "collapsed": false,
     "input": [
      "rcParams['figure.figsize'] = (10, 4)\n",
      "rcParams['figure.dpi'] = 120\n",
      "rcParams['savefig.format'] = 'svg'"
     ],
     "language": "python",
     "metadata": {},
     "outputs": [],
     "prompt_number": 3
    },
    {
     "cell_type": "code",
     "collapsed": false,
     "input": [
      "people = ('Tom', 'Dick', 'Harry', 'Slim', 'Jim')\n",
      "y_pos = np.arange(len(people))\n",
      "performance = 3 + 10 * np.random.rand(len(people))\n",
      "error = np.random.rand(len(people))\n",
      "\n",
      "plt.barh(y_pos, performance, align='center', alpha=0.7)\n",
      "plt.yticks(y_pos, people)\n",
      "plt.xlabel('Performance')\n",
      "plt.title('\u6a6b\u7684 barplot', font_properties=chtfont, size=14)\n",
      "plt.show()"
     ],
     "language": "python",
     "metadata": {},
     "outputs": [
      {
       "metadata": {},
       "output_type": "display_data",
       "png": "[encoded data removed]",
       "text": [
        "<matplotlib.figure.Figure at 0x111601940>"
       ]
      }
     ],
     "prompt_number": 4
    },
    {
     "cell_type": "heading",
     "level": 1,
     "metadata": {},
     "source": [
      "\u5404\u90e8\u7e3d\u91d1"
     ]
    },
    {
     "cell_type": "code",
     "collapsed": false,
     "input": [
      "final_dir = Path('../\u7e3d\u6574\u7406')\n",
      "all_xls = [p for p in (final_dir / 'raw').iterdir()]"
     ],
     "language": "python",
     "metadata": {},
     "outputs": [],
     "prompt_number": 2
    },
    {
     "cell_type": "code",
     "collapsed": false,
     "input": [
      "df_by_disp = {\n",
      "    p.stem[:3]: pd.read_excel(str(p), 0)\n",
      "    for p in all_xls\n",
      "}"
     ],
     "language": "python",
     "metadata": {},
     "outputs": [],
     "prompt_number": 3
    },
    {
     "cell_type": "code",
     "collapsed": false,
     "input": [
      "all_disp = set(df_by_disp.keys())\n",
      "all_disp"
     ],
     "language": "python",
     "metadata": {},
     "outputs": [
      {
       "metadata": {},
       "output_type": "pyout",
       "prompt_number": 6,
       "text": [
        "{'\u52de\u52d5\u90e8', '\u539f\u6c11\u6703', '\u539f\u80fd\u6703', '\u570b\u9632\u90e8', '\u5916\u4ea4\u90e8', '\u6559\u80b2\u90e8', '\u6cd5\u52d9\u90e8', '\u8fb2\u59d4\u6703', '\u9678\u59d4\u6703'}"
       ]
      }
     ],
     "prompt_number": 6
    },
    {
     "cell_type": "code",
     "collapsed": false,
     "input": [
      "# \u6aa2\u67e5\u91d1\u984d\n",
      "for disp, df in df_by_disp.items():\n",
      "    print('Checking %s' % disp)\n",
      "    for cell in df['\u91d1\u984d']:\n",
      "        try:\n",
      "            int(cell)\n",
      "        except Exception as e:\n",
      "            print(cell, e)"
     ],
     "language": "python",
     "metadata": {},
     "outputs": [
      {
       "output_type": "stream",
       "stream": "stdout",
       "text": [
        "Checking \u5916\u4ea4\u90e8\n",
        "Checking \u9678\u59d4\u6703\n",
        "Checking \u8fb2\u59d4\u6703\n",
        "Checking \u570b\u9632\u90e8\n",
        "Checking \u539f\u6c11\u6703\n",
        "Checking \u6559\u80b2\u90e8\n",
        "Checking \u539f\u80fd\u6703\n",
        "Checking \u6cd5\u52d9\u90e8\n",
        "Checking \u52de\u52d5\u90e8\n"
       ]
      }
     ],
     "prompt_number": 14
    },
    {
     "cell_type": "code",
     "collapsed": false,
     "input": [
      "# \u8fb2\u59d4\u6703\n",
      "df = df_by_disp['\u8fb2\u59d4\u6703']\n",
      "def validate_budget(cell):\n",
      "    try:\n",
      "        ret_val = int(str(cell).strip().replace('\u5143', '').replace(',', ''))\n",
      "    except Exception as e:\n",
      "        print(cell, e)\n",
      "        raise e\n",
      "    return ret_val\n",
      "\n",
      "df.loc[:, '\u91d1\u984d'] = df.loc[:, '\u91d1\u984d'].apply(validate_budget)"
     ],
     "language": "python",
     "metadata": {},
     "outputs": [],
     "prompt_number": 8
    },
    {
     "cell_type": "code",
     "collapsed": false,
     "input": [
      "# \u539f\u6c11\u6703\n",
      "df = df_by_disp['\u539f\u6c11\u6703']\n",
      "df.loc[df['\u91d1\u984d'].isnull(), '\u91d1\u984d'] = 0"
     ],
     "language": "python",
     "metadata": {},
     "outputs": [],
     "prompt_number": 9
    },
    {
     "cell_type": "code",
     "collapsed": false,
     "input": [
      "# \u52de\u52d5\u90e8\n",
      "df = df_by_disp['\u52de\u52d5\u90e8']\n",
      "free_ix = df['\u91d1\u984d'].apply(lambda s: '\u514d\u8cbb' in str(s) or '\u516c\u76ca' in str(s))\n",
      "df.loc[free_ix, '\u91d1\u984d'] = 0"
     ],
     "language": "python",
     "metadata": {},
     "outputs": [],
     "prompt_number": 10
    },
    {
     "cell_type": "code",
     "collapsed": false,
     "input": [
      "# \u6559\u80b2\u90e8\n",
      "df = df_by_disp['\u6559\u80b2\u90e8']\n",
      "df.loc[df['\u91d1\u984d'].isnull(), '\u91d1\u984d'] = 0\n",
      "free_ix = df['\u91d1\u984d'].apply(lambda s: '\u514d\u8cbb' in str(s) or '\u516c\u76ca' in str(s))\n",
      "df.loc[free_ix, '\u91d1\u984d'] = 0"
     ],
     "language": "python",
     "metadata": {},
     "outputs": [],
     "prompt_number": 11
    },
    {
     "cell_type": "code",
     "collapsed": false,
     "input": [
      "# \u6cd5\u52d9\u90e8\n",
      "df = df_by_disp['\u6cd5\u52d9\u90e8']\n",
      "free_ix = df['\u91d1\u984d'].apply(lambda s: '\u514d\u8cbb' in str(s) or '\u516c\u76ca' in str(s))\n",
      "df.loc[free_ix, '\u91d1\u984d'] = 0"
     ],
     "language": "python",
     "metadata": {},
     "outputs": [],
     "prompt_number": 12
    },
    {
     "cell_type": "code",
     "collapsed": false,
     "input": [
      "# \u5916\u4ea4\u90e8\n",
      "df = df_by_disp['\u5916\u4ea4\u90e8']\n",
      "df.loc[:, '\u91d1\u984d'] = df.loc[:, '\u91d1\u984d'].apply(validate_budget)"
     ],
     "language": "python",
     "metadata": {},
     "outputs": [],
     "prompt_number": 13
    },
    {
     "cell_type": "code",
     "collapsed": false,
     "input": [
      "for disp, df in df_by_disp.items():\n",
      "    p = str(final_dir / disp) + '.xlsx'\n",
      "    df.to_excel(p, index=False)"
     ],
     "language": "python",
     "metadata": {},
     "outputs": [],
     "prompt_number": 15
    },
    {
     "cell_type": "code",
     "collapsed": false,
     "input": [],
     "language": "python",
     "metadata": {},
     "outputs": []
    }
   ],
   "metadata": {}
  }
 ]
}